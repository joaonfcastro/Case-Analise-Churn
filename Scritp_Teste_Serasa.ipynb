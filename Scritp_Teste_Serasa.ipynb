{
  "nbformat": 4,
  "nbformat_minor": 0,
  "metadata": {
    "colab": {
      "name": "Scritp_Teste_Serasa.ipynb",
      "provenance": [],
      "collapsed_sections": [
        "skTe6QB9z2ua",
        "WJT3oyyT_gIX",
        "FResWzc166L8",
        "_X6ex75mDAa6",
        "MEfJsQ-eEGbs",
        "zDl4HgLg3NXj",
        "nhS3hvDYnp-S",
        "CjPDV7BK9Trk",
        "Q5nZewmayePK",
        "7uKvHPXEnXkK",
        "1DPb9rRIrRvg"
      ]
    },
    "kernelspec": {
      "name": "python3",
      "display_name": "Python 3"
    },
    "language_info": {
      "name": "python"
    },
    "widgets": {
      "application/vnd.jupyter.widget-state+json": {
        "38047fce7c7341a38684bfec8146349d": {
          "model_module": "@jupyter-widgets/controls",
          "model_name": "HBoxModel",
          "model_module_version": "1.5.0",
          "state": {
            "_dom_classes": [],
            "_model_module": "@jupyter-widgets/controls",
            "_model_module_version": "1.5.0",
            "_model_name": "HBoxModel",
            "_view_count": null,
            "_view_module": "@jupyter-widgets/controls",
            "_view_module_version": "1.5.0",
            "_view_name": "HBoxView",
            "box_style": "",
            "children": [
              "IPY_MODEL_3b7471dbd3f54516b76cbd92b3bda0ee",
              "IPY_MODEL_4e2658124e5343639b667f423d416179",
              "IPY_MODEL_a202eddd476144e2aa9a17a3a96c49a9"
            ],
            "layout": "IPY_MODEL_6bd1208f75854c55b73e0624742e9fa0"
          }
        },
        "3b7471dbd3f54516b76cbd92b3bda0ee": {
          "model_module": "@jupyter-widgets/controls",
          "model_name": "HTMLModel",
          "model_module_version": "1.5.0",
          "state": {
            "_dom_classes": [],
            "_model_module": "@jupyter-widgets/controls",
            "_model_module_version": "1.5.0",
            "_model_name": "HTMLModel",
            "_view_count": null,
            "_view_module": "@jupyter-widgets/controls",
            "_view_module_version": "1.5.0",
            "_view_name": "HTMLView",
            "description": "",
            "description_tooltip": null,
            "layout": "IPY_MODEL_95342fe43815417981964b71b2202d01",
            "placeholder": "​",
            "style": "IPY_MODEL_038acbe28ae749ea91969c16284eb2d3",
            "value": "Done! Use &#x27;show&#x27; commands to display/save.   "
          }
        },
        "4e2658124e5343639b667f423d416179": {
          "model_module": "@jupyter-widgets/controls",
          "model_name": "FloatProgressModel",
          "model_module_version": "1.5.0",
          "state": {
            "_dom_classes": [],
            "_model_module": "@jupyter-widgets/controls",
            "_model_module_version": "1.5.0",
            "_model_name": "FloatProgressModel",
            "_view_count": null,
            "_view_module": "@jupyter-widgets/controls",
            "_view_module_version": "1.5.0",
            "_view_name": "ProgressView",
            "bar_style": "success",
            "description": "",
            "description_tooltip": null,
            "layout": "IPY_MODEL_bb1851b74d684a1b993c6fddb6dfd9ea",
            "max": 1,
            "min": 0,
            "orientation": "horizontal",
            "style": "IPY_MODEL_9a475518c8744fa7abc4b1df338e4a27",
            "value": 1
          }
        },
        "a202eddd476144e2aa9a17a3a96c49a9": {
          "model_module": "@jupyter-widgets/controls",
          "model_name": "HTMLModel",
          "model_module_version": "1.5.0",
          "state": {
            "_dom_classes": [],
            "_model_module": "@jupyter-widgets/controls",
            "_model_module_version": "1.5.0",
            "_model_name": "HTMLModel",
            "_view_count": null,
            "_view_module": "@jupyter-widgets/controls",
            "_view_module_version": "1.5.0",
            "_view_name": "HTMLView",
            "description": "",
            "description_tooltip": null,
            "layout": "IPY_MODEL_f738439d34194bdfabcc8b7f96ea63a2",
            "placeholder": "​",
            "style": "IPY_MODEL_3fa47b9ce01341808f43bf682ca88851",
            "value": " [100%]   00:00 -&gt; (00:00 left)"
          }
        },
        "6bd1208f75854c55b73e0624742e9fa0": {
          "model_module": "@jupyter-widgets/base",
          "model_name": "LayoutModel",
          "model_module_version": "1.2.0",
          "state": {
            "_model_module": "@jupyter-widgets/base",
            "_model_module_version": "1.2.0",
            "_model_name": "LayoutModel",
            "_view_count": null,
            "_view_module": "@jupyter-widgets/base",
            "_view_module_version": "1.2.0",
            "_view_name": "LayoutView",
            "align_content": null,
            "align_items": null,
            "align_self": null,
            "border": null,
            "bottom": null,
            "display": "inline-flex",
            "flex": null,
            "flex_flow": "row wrap",
            "grid_area": null,
            "grid_auto_columns": null,
            "grid_auto_flow": null,
            "grid_auto_rows": null,
            "grid_column": null,
            "grid_gap": null,
            "grid_row": null,
            "grid_template_areas": null,
            "grid_template_columns": null,
            "grid_template_rows": null,
            "height": null,
            "justify_content": null,
            "justify_items": null,
            "left": null,
            "margin": null,
            "max_height": null,
            "max_width": null,
            "min_height": null,
            "min_width": null,
            "object_fit": null,
            "object_position": null,
            "order": null,
            "overflow": null,
            "overflow_x": null,
            "overflow_y": null,
            "padding": null,
            "right": null,
            "top": null,
            "visibility": null,
            "width": "100%"
          }
        },
        "95342fe43815417981964b71b2202d01": {
          "model_module": "@jupyter-widgets/base",
          "model_name": "LayoutModel",
          "model_module_version": "1.2.0",
          "state": {
            "_model_module": "@jupyter-widgets/base",
            "_model_module_version": "1.2.0",
            "_model_name": "LayoutModel",
            "_view_count": null,
            "_view_module": "@jupyter-widgets/base",
            "_view_module_version": "1.2.0",
            "_view_name": "LayoutView",
            "align_content": null,
            "align_items": null,
            "align_self": null,
            "border": null,
            "bottom": null,
            "display": null,
            "flex": null,
            "flex_flow": null,
            "grid_area": null,
            "grid_auto_columns": null,
            "grid_auto_flow": null,
            "grid_auto_rows": null,
            "grid_column": null,
            "grid_gap": null,
            "grid_row": null,
            "grid_template_areas": null,
            "grid_template_columns": null,
            "grid_template_rows": null,
            "height": null,
            "justify_content": null,
            "justify_items": null,
            "left": null,
            "margin": null,
            "max_height": null,
            "max_width": null,
            "min_height": null,
            "min_width": null,
            "object_fit": null,
            "object_position": null,
            "order": null,
            "overflow": null,
            "overflow_x": null,
            "overflow_y": null,
            "padding": null,
            "right": null,
            "top": null,
            "visibility": null,
            "width": null
          }
        },
        "038acbe28ae749ea91969c16284eb2d3": {
          "model_module": "@jupyter-widgets/controls",
          "model_name": "DescriptionStyleModel",
          "model_module_version": "1.5.0",
          "state": {
            "_model_module": "@jupyter-widgets/controls",
            "_model_module_version": "1.5.0",
            "_model_name": "DescriptionStyleModel",
            "_view_count": null,
            "_view_module": "@jupyter-widgets/base",
            "_view_module_version": "1.2.0",
            "_view_name": "StyleView",
            "description_width": ""
          }
        },
        "bb1851b74d684a1b993c6fddb6dfd9ea": {
          "model_module": "@jupyter-widgets/base",
          "model_name": "LayoutModel",
          "model_module_version": "1.2.0",
          "state": {
            "_model_module": "@jupyter-widgets/base",
            "_model_module_version": "1.2.0",
            "_model_name": "LayoutModel",
            "_view_count": null,
            "_view_module": "@jupyter-widgets/base",
            "_view_module_version": "1.2.0",
            "_view_name": "LayoutView",
            "align_content": null,
            "align_items": null,
            "align_self": null,
            "border": null,
            "bottom": null,
            "display": null,
            "flex": "2",
            "flex_flow": null,
            "grid_area": null,
            "grid_auto_columns": null,
            "grid_auto_flow": null,
            "grid_auto_rows": null,
            "grid_column": null,
            "grid_gap": null,
            "grid_row": null,
            "grid_template_areas": null,
            "grid_template_columns": null,
            "grid_template_rows": null,
            "height": null,
            "justify_content": null,
            "justify_items": null,
            "left": null,
            "margin": null,
            "max_height": null,
            "max_width": null,
            "min_height": null,
            "min_width": null,
            "object_fit": null,
            "object_position": null,
            "order": null,
            "overflow": null,
            "overflow_x": null,
            "overflow_y": null,
            "padding": null,
            "right": null,
            "top": null,
            "visibility": null,
            "width": null
          }
        },
        "9a475518c8744fa7abc4b1df338e4a27": {
          "model_module": "@jupyter-widgets/controls",
          "model_name": "ProgressStyleModel",
          "model_module_version": "1.5.0",
          "state": {
            "_model_module": "@jupyter-widgets/controls",
            "_model_module_version": "1.5.0",
            "_model_name": "ProgressStyleModel",
            "_view_count": null,
            "_view_module": "@jupyter-widgets/base",
            "_view_module_version": "1.2.0",
            "_view_name": "StyleView",
            "bar_color": null,
            "description_width": ""
          }
        },
        "f738439d34194bdfabcc8b7f96ea63a2": {
          "model_module": "@jupyter-widgets/base",
          "model_name": "LayoutModel",
          "model_module_version": "1.2.0",
          "state": {
            "_model_module": "@jupyter-widgets/base",
            "_model_module_version": "1.2.0",
            "_model_name": "LayoutModel",
            "_view_count": null,
            "_view_module": "@jupyter-widgets/base",
            "_view_module_version": "1.2.0",
            "_view_name": "LayoutView",
            "align_content": null,
            "align_items": null,
            "align_self": null,
            "border": null,
            "bottom": null,
            "display": null,
            "flex": null,
            "flex_flow": null,
            "grid_area": null,
            "grid_auto_columns": null,
            "grid_auto_flow": null,
            "grid_auto_rows": null,
            "grid_column": null,
            "grid_gap": null,
            "grid_row": null,
            "grid_template_areas": null,
            "grid_template_columns": null,
            "grid_template_rows": null,
            "height": null,
            "justify_content": null,
            "justify_items": null,
            "left": null,
            "margin": null,
            "max_height": null,
            "max_width": null,
            "min_height": null,
            "min_width": null,
            "object_fit": null,
            "object_position": null,
            "order": null,
            "overflow": null,
            "overflow_x": null,
            "overflow_y": null,
            "padding": null,
            "right": null,
            "top": null,
            "visibility": null,
            "width": null
          }
        },
        "3fa47b9ce01341808f43bf682ca88851": {
          "model_module": "@jupyter-widgets/controls",
          "model_name": "DescriptionStyleModel",
          "model_module_version": "1.5.0",
          "state": {
            "_model_module": "@jupyter-widgets/controls",
            "_model_module_version": "1.5.0",
            "_model_name": "DescriptionStyleModel",
            "_view_count": null,
            "_view_module": "@jupyter-widgets/base",
            "_view_module_version": "1.2.0",
            "_view_name": "StyleView",
            "description_width": ""
          }
        }
      }
    }
  },
  "cells": [
    {
      "cell_type": "markdown",
      "source": [
        "## **MODELAGEM PREDITIVA DE CHURN (CASE SERASA)**"
      ],
      "metadata": {
        "id": "SsJSXnKi9X5d"
      }
    },
    {
      "cell_type": "markdown",
      "source": [
        "![download (1).png](data:image/png;base64,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)"
      ],
      "metadata": {
        "id": "KC-loMRB9avJ"
      }
    },
    {
      "cell_type": "markdown",
      "source": [
        "#### **Carregando Bibliotecas e Dataset**"
      ],
      "metadata": {
        "id": "skTe6QB9z2ua"
      }
    },
    {
      "cell_type": "code",
      "source": [
        "#Carregando as Bibliotecas para Analise, Tratamento e Visualizacao dos dados\n",
        "!pip install sweetviz\n",
        "import pandas as pd\n",
        "import numpy as np\n",
        "import matplotlib.pyplot as plt\n",
        "import seaborn as sns\n",
        "import sweetviz as sv\n",
        "sns.set()\n",
        "\n",
        "#Carregando as Bibliotecas para Aplicacao de Modelos e Metricas\n",
        "from sklearn.preprocessing import MinMaxScaler\n",
        "from sklearn.model_selection import train_test_split\n",
        "from sklearn.linear_model import LogisticRegression\n",
        "from sklearn.ensemble import GradientBoostingClassifier\n",
        "from xgboost.sklearn import XGBClassifier\n",
        "from sklearn.ensemble import RandomForestClassifier\n",
        "from sklearn.metrics import classification_report\n",
        "from sklearn.metrics import roc_auc_score, roc_curve, accuracy_score\n",
        "from imblearn.over_sampling import SMOTE\n",
        "from imblearn.under_sampling import RandomUnderSampler, NearMiss"
      ],
      "metadata": {
        "id": "e9cHDqN-qZ8S",
        "colab": {
          "base_uri": "https://localhost:8080/"
        },
        "outputId": "86550a9a-01bf-4daf-bf8b-a0aa3dff314f"
      },
      "execution_count": 1,
      "outputs": [
        {
          "output_type": "stream",
          "name": "stdout",
          "text": [
            "Looking in indexes: https://pypi.org/simple, https://us-python.pkg.dev/colab-wheels/public/simple/\n",
            "Collecting sweetviz\n",
            "  Downloading sweetviz-2.1.4-py3-none-any.whl (15.1 MB)\n",
            "\u001b[K     |████████████████████████████████| 15.1 MB 4.3 MB/s \n",
            "\u001b[?25hRequirement already satisfied: jinja2>=2.11.1 in /usr/local/lib/python3.7/dist-packages (from sweetviz) (2.11.3)\n",
            "Requirement already satisfied: matplotlib>=3.1.3 in /usr/local/lib/python3.7/dist-packages (from sweetviz) (3.2.2)\n",
            "Requirement already satisfied: tqdm>=4.43.0 in /usr/local/lib/python3.7/dist-packages (from sweetviz) (4.64.0)\n",
            "Requirement already satisfied: importlib-resources>=1.2.0 in /usr/local/lib/python3.7/dist-packages (from sweetviz) (5.8.0)\n",
            "Requirement already satisfied: pandas!=1.0.0,!=1.0.1,!=1.0.2,>=0.25.3 in /usr/local/lib/python3.7/dist-packages (from sweetviz) (1.3.5)\n",
            "Requirement already satisfied: scipy>=1.3.2 in /usr/local/lib/python3.7/dist-packages (from sweetviz) (1.7.3)\n",
            "Requirement already satisfied: numpy>=1.16.0 in /usr/local/lib/python3.7/dist-packages (from sweetviz) (1.21.6)\n",
            "Requirement already satisfied: zipp>=3.1.0 in /usr/local/lib/python3.7/dist-packages (from importlib-resources>=1.2.0->sweetviz) (3.8.0)\n",
            "Requirement already satisfied: MarkupSafe>=0.23 in /usr/local/lib/python3.7/dist-packages (from jinja2>=2.11.1->sweetviz) (2.0.1)\n",
            "Requirement already satisfied: kiwisolver>=1.0.1 in /usr/local/lib/python3.7/dist-packages (from matplotlib>=3.1.3->sweetviz) (1.4.3)\n",
            "Requirement already satisfied: python-dateutil>=2.1 in /usr/local/lib/python3.7/dist-packages (from matplotlib>=3.1.3->sweetviz) (2.8.2)\n",
            "Requirement already satisfied: cycler>=0.10 in /usr/local/lib/python3.7/dist-packages (from matplotlib>=3.1.3->sweetviz) (0.11.0)\n",
            "Requirement already satisfied: pyparsing!=2.0.4,!=2.1.2,!=2.1.6,>=2.0.1 in /usr/local/lib/python3.7/dist-packages (from matplotlib>=3.1.3->sweetviz) (3.0.9)\n",
            "Requirement already satisfied: typing-extensions in /usr/local/lib/python3.7/dist-packages (from kiwisolver>=1.0.1->matplotlib>=3.1.3->sweetviz) (4.1.1)\n",
            "Requirement already satisfied: pytz>=2017.3 in /usr/local/lib/python3.7/dist-packages (from pandas!=1.0.0,!=1.0.1,!=1.0.2,>=0.25.3->sweetviz) (2022.1)\n",
            "Requirement already satisfied: six>=1.5 in /usr/local/lib/python3.7/dist-packages (from python-dateutil>=2.1->matplotlib>=3.1.3->sweetviz) (1.15.0)\n",
            "Installing collected packages: sweetviz\n",
            "Successfully installed sweetviz-2.1.4\n"
          ]
        }
      ]
    },
    {
      "cell_type": "code",
      "source": [
        "#Importando os Datasets\n",
        "df = pd.read_csv('df_case_data_analytics.csv')"
      ],
      "metadata": {
        "id": "iwiSOhFrqkb0"
      },
      "execution_count": 2,
      "outputs": []
    },
    {
      "cell_type": "markdown",
      "source": [
        "#### **Analise Exploratoria dos Dados**"
      ],
      "metadata": {
        "id": "WJT3oyyT_gIX"
      }
    },
    {
      "cell_type": "code",
      "source": [
        "#Visualizando as 5 primeiras/ultimas linhas\n",
        "display(df)"
      ],
      "metadata": {
        "colab": {
          "base_uri": "https://localhost:8080/",
          "height": 505
        },
        "id": "LxkKLJv7rGE_",
        "outputId": "4b2a4961-741d-4f12-9c00-28fb4f46ccdd"
      },
      "execution_count": 3,
      "outputs": [
        {
          "output_type": "display_data",
          "data": {
            "text/plain": [
              "      Unnamed: 0  CUSTOMER_ID SERVICO_TELEFONE     CNAE PORTE ESTADO  \\\n",
              "0              0            1                N  4661300    GG     SP   \n",
              "1              1            2                N  3250701     M     SP   \n",
              "2              2            3                N  3250705     P     SP   \n",
              "3              3            4                N  4672900     P     SP   \n",
              "4              4            5                N  4663000    GG     SP   \n",
              "...          ...          ...              ...      ...   ...    ...   \n",
              "1820        1820         1821                N  1062700    GG     RS   \n",
              "1821        1821         1822                N  1041400    GG     RS   \n",
              "1822        1822         1823                N  4635402    GG     RS   \n",
              "1823        1823         1824                N  1112700    GG     RS   \n",
              "1824        1824         1825                N  2550102     G     RS   \n",
              "\n",
              "      SERVICO_INTERNET  SERVICO_STREAMING  TENURE  QTD_CONTRATO  ...  \\\n",
              "0                    0                  0      28             1  ...   \n",
              "1                    0                  0      28             1  ...   \n",
              "2                    0                  0      28             1  ...   \n",
              "3                    0                  0      28             1  ...   \n",
              "4                    0                  0      28             1  ...   \n",
              "...                ...                ...     ...           ...  ...   \n",
              "1820                 0                  0      56             1  ...   \n",
              "1821                 0                  0      51             2  ...   \n",
              "1822                 0                  0      52             1  ...   \n",
              "1823                 0                  0      53             1  ...   \n",
              "1824                 0                  0      56             1  ...   \n",
              "\n",
              "      QTD_SUPORTE_MOTIVO_24_M12  QTD_SUPORTE_MOTIVO_24_M18  \\\n",
              "0                             0                          0   \n",
              "1                             0                          0   \n",
              "2                             0                          0   \n",
              "3                             0                          0   \n",
              "4                             0                          0   \n",
              "...                         ...                        ...   \n",
              "1820                          0                          0   \n",
              "1821                          0                          0   \n",
              "1822                          0                          0   \n",
              "1823                          0                          0   \n",
              "1824                          0                          0   \n",
              "\n",
              "      QTD_SUPORTE_MOTIVO_24_M24  QTD_SUPORTE_MOTIVO_25_M1  \\\n",
              "0                             0                         0   \n",
              "1                             0                         0   \n",
              "2                             0                         0   \n",
              "3                             0                         0   \n",
              "4                             1                         0   \n",
              "...                         ...                       ...   \n",
              "1820                          0                         0   \n",
              "1821                          0                         0   \n",
              "1822                          0                         0   \n",
              "1823                          0                         0   \n",
              "1824                          0                         0   \n",
              "\n",
              "      QTD_SUPORTE_MOTIVO_25_M3  QTD_SUPORTE_MOTIVO_25_M6  \\\n",
              "0                            0                         0   \n",
              "1                            0                         0   \n",
              "2                            0                         0   \n",
              "3                            0                         0   \n",
              "4                            0                         0   \n",
              "...                        ...                       ...   \n",
              "1820                         0                         0   \n",
              "1821                         0                         0   \n",
              "1822                         0                         0   \n",
              "1823                         0                         0   \n",
              "1824                         0                         0   \n",
              "\n",
              "      QTD_SUPORTE_MOTIVO_25_M12  QTD_SUPORTE_MOTIVO_25_M18  \\\n",
              "0                             0                          0   \n",
              "1                             0                          0   \n",
              "2                             0                          0   \n",
              "3                             0                          1   \n",
              "4                             0                          0   \n",
              "...                         ...                        ...   \n",
              "1820                          0                          0   \n",
              "1821                          0                          0   \n",
              "1822                          0                          0   \n",
              "1823                          0                          0   \n",
              "1824                          0                          0   \n",
              "\n",
              "      QTD_SUPORTE_MOTIVO_25_M24  TARGET  \n",
              "0                             0       0  \n",
              "1                             0       0  \n",
              "2                             0       0  \n",
              "3                             1       0  \n",
              "4                             0       0  \n",
              "...                         ...     ...  \n",
              "1820                          0       1  \n",
              "1821                          0       1  \n",
              "1822                          0       0  \n",
              "1823                          0       1  \n",
              "1824                          0       0  \n",
              "\n",
              "[1825 rows x 211 columns]"
            ],
            "text/html": [
              "\n",
              "  <div id=\"df-17dfac52-a12a-4b78-95a0-8d9ea671c90a\">\n",
              "    <div class=\"colab-df-container\">\n",
              "      <div>\n",
              "<style scoped>\n",
              "    .dataframe tbody tr th:only-of-type {\n",
              "        vertical-align: middle;\n",
              "    }\n",
              "\n",
              "    .dataframe tbody tr th {\n",
              "        vertical-align: top;\n",
              "    }\n",
              "\n",
              "    .dataframe thead th {\n",
              "        text-align: right;\n",
              "    }\n",
              "</style>\n",
              "<table border=\"1\" class=\"dataframe\">\n",
              "  <thead>\n",
              "    <tr style=\"text-align: right;\">\n",
              "      <th></th>\n",
              "      <th>Unnamed: 0</th>\n",
              "      <th>CUSTOMER_ID</th>\n",
              "      <th>SERVICO_TELEFONE</th>\n",
              "      <th>CNAE</th>\n",
              "      <th>PORTE</th>\n",
              "      <th>ESTADO</th>\n",
              "      <th>SERVICO_INTERNET</th>\n",
              "      <th>SERVICO_STREAMING</th>\n",
              "      <th>TENURE</th>\n",
              "      <th>QTD_CONTRATO</th>\n",
              "      <th>...</th>\n",
              "      <th>QTD_SUPORTE_MOTIVO_24_M12</th>\n",
              "      <th>QTD_SUPORTE_MOTIVO_24_M18</th>\n",
              "      <th>QTD_SUPORTE_MOTIVO_24_M24</th>\n",
              "      <th>QTD_SUPORTE_MOTIVO_25_M1</th>\n",
              "      <th>QTD_SUPORTE_MOTIVO_25_M3</th>\n",
              "      <th>QTD_SUPORTE_MOTIVO_25_M6</th>\n",
              "      <th>QTD_SUPORTE_MOTIVO_25_M12</th>\n",
              "      <th>QTD_SUPORTE_MOTIVO_25_M18</th>\n",
              "      <th>QTD_SUPORTE_MOTIVO_25_M24</th>\n",
              "      <th>TARGET</th>\n",
              "    </tr>\n",
              "  </thead>\n",
              "  <tbody>\n",
              "    <tr>\n",
              "      <th>0</th>\n",
              "      <td>0</td>\n",
              "      <td>1</td>\n",
              "      <td>N</td>\n",
              "      <td>4661300</td>\n",
              "      <td>GG</td>\n",
              "      <td>SP</td>\n",
              "      <td>0</td>\n",
              "      <td>0</td>\n",
              "      <td>28</td>\n",
              "      <td>1</td>\n",
              "      <td>...</td>\n",
              "      <td>0</td>\n",
              "      <td>0</td>\n",
              "      <td>0</td>\n",
              "      <td>0</td>\n",
              "      <td>0</td>\n",
              "      <td>0</td>\n",
              "      <td>0</td>\n",
              "      <td>0</td>\n",
              "      <td>0</td>\n",
              "      <td>0</td>\n",
              "    </tr>\n",
              "    <tr>\n",
              "      <th>1</th>\n",
              "      <td>1</td>\n",
              "      <td>2</td>\n",
              "      <td>N</td>\n",
              "      <td>3250701</td>\n",
              "      <td>M</td>\n",
              "      <td>SP</td>\n",
              "      <td>0</td>\n",
              "      <td>0</td>\n",
              "      <td>28</td>\n",
              "      <td>1</td>\n",
              "      <td>...</td>\n",
              "      <td>0</td>\n",
              "      <td>0</td>\n",
              "      <td>0</td>\n",
              "      <td>0</td>\n",
              "      <td>0</td>\n",
              "      <td>0</td>\n",
              "      <td>0</td>\n",
              "      <td>0</td>\n",
              "      <td>0</td>\n",
              "      <td>0</td>\n",
              "    </tr>\n",
              "    <tr>\n",
              "      <th>2</th>\n",
              "      <td>2</td>\n",
              "      <td>3</td>\n",
              "      <td>N</td>\n",
              "      <td>3250705</td>\n",
              "      <td>P</td>\n",
              "      <td>SP</td>\n",
              "      <td>0</td>\n",
              "      <td>0</td>\n",
              "      <td>28</td>\n",
              "      <td>1</td>\n",
              "      <td>...</td>\n",
              "      <td>0</td>\n",
              "      <td>0</td>\n",
              "      <td>0</td>\n",
              "      <td>0</td>\n",
              "      <td>0</td>\n",
              "      <td>0</td>\n",
              "      <td>0</td>\n",
              "      <td>0</td>\n",
              "      <td>0</td>\n",
              "      <td>0</td>\n",
              "    </tr>\n",
              "    <tr>\n",
              "      <th>3</th>\n",
              "      <td>3</td>\n",
              "      <td>4</td>\n",
              "      <td>N</td>\n",
              "      <td>4672900</td>\n",
              "      <td>P</td>\n",
              "      <td>SP</td>\n",
              "      <td>0</td>\n",
              "      <td>0</td>\n",
              "      <td>28</td>\n",
              "      <td>1</td>\n",
              "      <td>...</td>\n",
              "      <td>0</td>\n",
              "      <td>0</td>\n",
              "      <td>0</td>\n",
              "      <td>0</td>\n",
              "      <td>0</td>\n",
              "      <td>0</td>\n",
              "      <td>0</td>\n",
              "      <td>1</td>\n",
              "      <td>1</td>\n",
              "      <td>0</td>\n",
              "    </tr>\n",
              "    <tr>\n",
              "      <th>4</th>\n",
              "      <td>4</td>\n",
              "      <td>5</td>\n",
              "      <td>N</td>\n",
              "      <td>4663000</td>\n",
              "      <td>GG</td>\n",
              "      <td>SP</td>\n",
              "      <td>0</td>\n",
              "      <td>0</td>\n",
              "      <td>28</td>\n",
              "      <td>1</td>\n",
              "      <td>...</td>\n",
              "      <td>0</td>\n",
              "      <td>0</td>\n",
              "      <td>1</td>\n",
              "      <td>0</td>\n",
              "      <td>0</td>\n",
              "      <td>0</td>\n",
              "      <td>0</td>\n",
              "      <td>0</td>\n",
              "      <td>0</td>\n",
              "      <td>0</td>\n",
              "    </tr>\n",
              "    <tr>\n",
              "      <th>...</th>\n",
              "      <td>...</td>\n",
              "      <td>...</td>\n",
              "      <td>...</td>\n",
              "      <td>...</td>\n",
              "      <td>...</td>\n",
              "      <td>...</td>\n",
              "      <td>...</td>\n",
              "      <td>...</td>\n",
              "      <td>...</td>\n",
              "      <td>...</td>\n",
              "      <td>...</td>\n",
              "      <td>...</td>\n",
              "      <td>...</td>\n",
              "      <td>...</td>\n",
              "      <td>...</td>\n",
              "      <td>...</td>\n",
              "      <td>...</td>\n",
              "      <td>...</td>\n",
              "      <td>...</td>\n",
              "      <td>...</td>\n",
              "      <td>...</td>\n",
              "    </tr>\n",
              "    <tr>\n",
              "      <th>1820</th>\n",
              "      <td>1820</td>\n",
              "      <td>1821</td>\n",
              "      <td>N</td>\n",
              "      <td>1062700</td>\n",
              "      <td>GG</td>\n",
              "      <td>RS</td>\n",
              "      <td>0</td>\n",
              "      <td>0</td>\n",
              "      <td>56</td>\n",
              "      <td>1</td>\n",
              "      <td>...</td>\n",
              "      <td>0</td>\n",
              "      <td>0</td>\n",
              "      <td>0</td>\n",
              "      <td>0</td>\n",
              "      <td>0</td>\n",
              "      <td>0</td>\n",
              "      <td>0</td>\n",
              "      <td>0</td>\n",
              "      <td>0</td>\n",
              "      <td>1</td>\n",
              "    </tr>\n",
              "    <tr>\n",
              "      <th>1821</th>\n",
              "      <td>1821</td>\n",
              "      <td>1822</td>\n",
              "      <td>N</td>\n",
              "      <td>1041400</td>\n",
              "      <td>GG</td>\n",
              "      <td>RS</td>\n",
              "      <td>0</td>\n",
              "      <td>0</td>\n",
              "      <td>51</td>\n",
              "      <td>2</td>\n",
              "      <td>...</td>\n",
              "      <td>0</td>\n",
              "      <td>0</td>\n",
              "      <td>0</td>\n",
              "      <td>0</td>\n",
              "      <td>0</td>\n",
              "      <td>0</td>\n",
              "      <td>0</td>\n",
              "      <td>0</td>\n",
              "      <td>0</td>\n",
              "      <td>1</td>\n",
              "    </tr>\n",
              "    <tr>\n",
              "      <th>1822</th>\n",
              "      <td>1822</td>\n",
              "      <td>1823</td>\n",
              "      <td>N</td>\n",
              "      <td>4635402</td>\n",
              "      <td>GG</td>\n",
              "      <td>RS</td>\n",
              "      <td>0</td>\n",
              "      <td>0</td>\n",
              "      <td>52</td>\n",
              "      <td>1</td>\n",
              "      <td>...</td>\n",
              "      <td>0</td>\n",
              "      <td>0</td>\n",
              "      <td>0</td>\n",
              "      <td>0</td>\n",
              "      <td>0</td>\n",
              "      <td>0</td>\n",
              "      <td>0</td>\n",
              "      <td>0</td>\n",
              "      <td>0</td>\n",
              "      <td>0</td>\n",
              "    </tr>\n",
              "    <tr>\n",
              "      <th>1823</th>\n",
              "      <td>1823</td>\n",
              "      <td>1824</td>\n",
              "      <td>N</td>\n",
              "      <td>1112700</td>\n",
              "      <td>GG</td>\n",
              "      <td>RS</td>\n",
              "      <td>0</td>\n",
              "      <td>0</td>\n",
              "      <td>53</td>\n",
              "      <td>1</td>\n",
              "      <td>...</td>\n",
              "      <td>0</td>\n",
              "      <td>0</td>\n",
              "      <td>0</td>\n",
              "      <td>0</td>\n",
              "      <td>0</td>\n",
              "      <td>0</td>\n",
              "      <td>0</td>\n",
              "      <td>0</td>\n",
              "      <td>0</td>\n",
              "      <td>1</td>\n",
              "    </tr>\n",
              "    <tr>\n",
              "      <th>1824</th>\n",
              "      <td>1824</td>\n",
              "      <td>1825</td>\n",
              "      <td>N</td>\n",
              "      <td>2550102</td>\n",
              "      <td>G</td>\n",
              "      <td>RS</td>\n",
              "      <td>0</td>\n",
              "      <td>0</td>\n",
              "      <td>56</td>\n",
              "      <td>1</td>\n",
              "      <td>...</td>\n",
              "      <td>0</td>\n",
              "      <td>0</td>\n",
              "      <td>0</td>\n",
              "      <td>0</td>\n",
              "      <td>0</td>\n",
              "      <td>0</td>\n",
              "      <td>0</td>\n",
              "      <td>0</td>\n",
              "      <td>0</td>\n",
              "      <td>0</td>\n",
              "    </tr>\n",
              "  </tbody>\n",
              "</table>\n",
              "<p>1825 rows × 211 columns</p>\n",
              "</div>\n",
              "      <button class=\"colab-df-convert\" onclick=\"convertToInteractive('df-17dfac52-a12a-4b78-95a0-8d9ea671c90a')\"\n",
              "              title=\"Convert this dataframe to an interactive table.\"\n",
              "              style=\"display:none;\">\n",
              "        \n",
              "  <svg xmlns=\"http://www.w3.org/2000/svg\" height=\"24px\"viewBox=\"0 0 24 24\"\n",
              "       width=\"24px\">\n",
              "    <path d=\"M0 0h24v24H0V0z\" fill=\"none\"/>\n",
              "    <path d=\"M18.56 5.44l.94 2.06.94-2.06 2.06-.94-2.06-.94-.94-2.06-.94 2.06-2.06.94zm-11 1L8.5 8.5l.94-2.06 2.06-.94-2.06-.94L8.5 2.5l-.94 2.06-2.06.94zm10 10l.94 2.06.94-2.06 2.06-.94-2.06-.94-.94-2.06-.94 2.06-2.06.94z\"/><path d=\"M17.41 7.96l-1.37-1.37c-.4-.4-.92-.59-1.43-.59-.52 0-1.04.2-1.43.59L10.3 9.45l-7.72 7.72c-.78.78-.78 2.05 0 2.83L4 21.41c.39.39.9.59 1.41.59.51 0 1.02-.2 1.41-.59l7.78-7.78 2.81-2.81c.8-.78.8-2.07 0-2.86zM5.41 20L4 18.59l7.72-7.72 1.47 1.35L5.41 20z\"/>\n",
              "  </svg>\n",
              "      </button>\n",
              "      \n",
              "  <style>\n",
              "    .colab-df-container {\n",
              "      display:flex;\n",
              "      flex-wrap:wrap;\n",
              "      gap: 12px;\n",
              "    }\n",
              "\n",
              "    .colab-df-convert {\n",
              "      background-color: #E8F0FE;\n",
              "      border: none;\n",
              "      border-radius: 50%;\n",
              "      cursor: pointer;\n",
              "      display: none;\n",
              "      fill: #1967D2;\n",
              "      height: 32px;\n",
              "      padding: 0 0 0 0;\n",
              "      width: 32px;\n",
              "    }\n",
              "\n",
              "    .colab-df-convert:hover {\n",
              "      background-color: #E2EBFA;\n",
              "      box-shadow: 0px 1px 2px rgba(60, 64, 67, 0.3), 0px 1px 3px 1px rgba(60, 64, 67, 0.15);\n",
              "      fill: #174EA6;\n",
              "    }\n",
              "\n",
              "    [theme=dark] .colab-df-convert {\n",
              "      background-color: #3B4455;\n",
              "      fill: #D2E3FC;\n",
              "    }\n",
              "\n",
              "    [theme=dark] .colab-df-convert:hover {\n",
              "      background-color: #434B5C;\n",
              "      box-shadow: 0px 1px 3px 1px rgba(0, 0, 0, 0.15);\n",
              "      filter: drop-shadow(0px 1px 2px rgba(0, 0, 0, 0.3));\n",
              "      fill: #FFFFFF;\n",
              "    }\n",
              "  </style>\n",
              "\n",
              "      <script>\n",
              "        const buttonEl =\n",
              "          document.querySelector('#df-17dfac52-a12a-4b78-95a0-8d9ea671c90a button.colab-df-convert');\n",
              "        buttonEl.style.display =\n",
              "          google.colab.kernel.accessAllowed ? 'block' : 'none';\n",
              "\n",
              "        async function convertToInteractive(key) {\n",
              "          const element = document.querySelector('#df-17dfac52-a12a-4b78-95a0-8d9ea671c90a');\n",
              "          const dataTable =\n",
              "            await google.colab.kernel.invokeFunction('convertToInteractive',\n",
              "                                                     [key], {});\n",
              "          if (!dataTable) return;\n",
              "\n",
              "          const docLinkHtml = 'Like what you see? Visit the ' +\n",
              "            '<a target=\"_blank\" href=https://colab.research.google.com/notebooks/data_table.ipynb>data table notebook</a>'\n",
              "            + ' to learn more about interactive tables.';\n",
              "          element.innerHTML = '';\n",
              "          dataTable['output_type'] = 'display_data';\n",
              "          await google.colab.output.renderOutput(dataTable, element);\n",
              "          const docLink = document.createElement('div');\n",
              "          docLink.innerHTML = docLinkHtml;\n",
              "          element.appendChild(docLink);\n",
              "        }\n",
              "      </script>\n",
              "    </div>\n",
              "  </div>\n",
              "  "
            ]
          },
          "metadata": {}
        }
      ]
    },
    {
      "cell_type": "code",
      "source": [
        "#Verificando um Resumo do Dataset\n",
        "df.info()"
      ],
      "metadata": {
        "colab": {
          "base_uri": "https://localhost:8080/"
        },
        "id": "nB3Akfs30JCe",
        "outputId": "0998c61d-02b9-4bfa-e8fb-961881328e7e"
      },
      "execution_count": 4,
      "outputs": [
        {
          "output_type": "stream",
          "name": "stdout",
          "text": [
            "<class 'pandas.core.frame.DataFrame'>\n",
            "RangeIndex: 1825 entries, 0 to 1824\n",
            "Columns: 211 entries, Unnamed: 0 to TARGET\n",
            "dtypes: float64(25), int64(183), object(3)\n",
            "memory usage: 2.9+ MB\n"
          ]
        }
      ]
    },
    {
      "cell_type": "code",
      "source": [
        "#Verificando a Nomenclatura das Variaveis (Colunas)\n",
        "print(list(df.columns))"
      ],
      "metadata": {
        "colab": {
          "base_uri": "https://localhost:8080/"
        },
        "id": "UDSRxpIXzlxF",
        "outputId": "a2ad54a8-bbc0-4fb5-f4bc-ae4e58e458c9"
      },
      "execution_count": 5,
      "outputs": [
        {
          "output_type": "stream",
          "name": "stdout",
          "text": [
            "['Unnamed: 0', 'CUSTOMER_ID', 'SERVICO_TELEFONE', 'CNAE', 'PORTE', 'ESTADO', 'SERVICO_INTERNET', 'SERVICO_STREAMING', 'TENURE', 'QTD_CONTRATO', 'TEMPO_MESES_CONTRATO', 'VALOR_MEDIO_PLANO', 'QTD_RECARGAS_M1', 'QTD_RECARGAS_M2', 'QTD_RECARGAS_M3', 'QTD_RECARGAS_M4', 'QTD_RECARGAS_M5', 'QTD_RECARGAS_M6', 'QTD_RECARGAS_M7', 'QTD_RECARGAS_M8', 'QTD_RECARGAS_M9', 'QTD_RECARGAS_M10', 'QTD_RECARGAS_M11', 'QTD_RECARGAS_M12', 'QTD_RECARGAS_M13', 'QTD_RECARGAS_M14', 'QTD_RECARGAS_M15', 'QTD_RECARGAS_M16', 'QTD_RECARGAS_M17', 'QTD_RECARGAS_M18', 'QTD_RECARGAS_M19', 'QTD_RECARGAS_M20', 'QTD_RECARGAS_M21', 'QTD_RECARGAS_M22', 'QTD_RECARGAS_M23', 'QTD_RECARGAS_M24', 'VLR_RECARGAS_M1', 'VLR_RECARGAS_M2', 'VLR_RECARGAS_M3', 'VLR_RECARGAS_M4', 'VLR_RECARGAS_M5', 'VLR_RECARGAS_M6', 'VLR_RECARGAS_M7', 'VLR_RECARGAS_M8', 'VLR_RECARGAS_M9', 'VLR_RECARGAS_M10', 'VLR_RECARGAS_M11', 'VLR_RECARGAS_M12', 'VLR_RECARGAS_M13', 'VLR_RECARGAS_M14', 'VLR_RECARGAS_M15', 'VLR_RECARGAS_M16', 'VLR_RECARGAS_M17', 'VLR_RECARGAS_M18', 'VLR_RECARGAS_M19', 'VLR_RECARGAS_M20', 'VLR_RECARGAS_M21', 'VLR_RECARGAS_M22', 'VLR_RECARGAS_M23', 'VLR_RECARGAS_M24', 'QTD_SUPORTE_MOTIVO_1_M1', 'QTD_SUPORTE_MOTIVO_1_M3', 'QTD_SUPORTE_MOTIVO_1_M6', 'QTD_SUPORTE_MOTIVO_1_M12', 'QTD_SUPORTE_MOTIVO_1_M18', 'QTD_SUPORTE_MOTIVO_1_M24', 'QTD_SUPORTE_MOTIVO_2_M1', 'QTD_SUPORTE_MOTIVO_2_M3', 'QTD_SUPORTE_MOTIVO_2_M6', 'QTD_SUPORTE_MOTIVO_2_M12', 'QTD_SUPORTE_MOTIVO_2_M18', 'QTD_SUPORTE_MOTIVO_2_M24', 'QTD_SUPORTE_MOTIVO_3_M1', 'QTD_SUPORTE_MOTIVO_3_M3', 'QTD_SUPORTE_MOTIVO_3_M6', 'QTD_SUPORTE_MOTIVO_3_M12', 'QTD_SUPORTE_MOTIVO_3_M18', 'QTD_SUPORTE_MOTIVO_3_M24', 'QTD_SUPORTE_MOTIVO_4_M1', 'QTD_SUPORTE_MOTIVO_4_M3', 'QTD_SUPORTE_MOTIVO_4_M6', 'QTD_SUPORTE_MOTIVO_4_M12', 'QTD_SUPORTE_MOTIVO_4_M18', 'QTD_SUPORTE_MOTIVO_4_M24', 'QTD_SUPORTE_MOTIVO_5_M1', 'QTD_SUPORTE_MOTIVO_5_M3', 'QTD_SUPORTE_MOTIVO_5_M6', 'QTD_SUPORTE_MOTIVO_5_M12', 'QTD_SUPORTE_MOTIVO_5_M18', 'QTD_SUPORTE_MOTIVO_5_M24', 'QTD_SUPORTE_MOTIVO_6_M1', 'QTD_SUPORTE_MOTIVO_6_M3', 'QTD_SUPORTE_MOTIVO_6_M6', 'QTD_SUPORTE_MOTIVO_6_M12', 'QTD_SUPORTE_MOTIVO_6_M18', 'QTD_SUPORTE_MOTIVO_6_M24', 'QTD_SUPORTE_MOTIVO_7_M1', 'QTD_SUPORTE_MOTIVO_7_M3', 'QTD_SUPORTE_MOTIVO_7_M6', 'QTD_SUPORTE_MOTIVO_7_M12', 'QTD_SUPORTE_MOTIVO_7_M18', 'QTD_SUPORTE_MOTIVO_7_M24', 'QTD_SUPORTE_MOTIVO_8_M1', 'QTD_SUPORTE_MOTIVO_8_M3', 'QTD_SUPORTE_MOTIVO_8_M6', 'QTD_SUPORTE_MOTIVO_8_M12', 'QTD_SUPORTE_MOTIVO_8_M18', 'QTD_SUPORTE_MOTIVO_8_M24', 'QTD_SUPORTE_MOTIVO_9_M1', 'QTD_SUPORTE_MOTIVO_9_M3', 'QTD_SUPORTE_MOTIVO_9_M6', 'QTD_SUPORTE_MOTIVO_9_M12', 'QTD_SUPORTE_MOTIVO_9_M18', 'QTD_SUPORTE_MOTIVO_9_M24', 'QTD_SUPORTE_MOTIVO_10_M1', 'QTD_SUPORTE_MOTIVO_10_M3', 'QTD_SUPORTE_MOTIVO_10_M6', 'QTD_SUPORTE_MOTIVO_10_M12', 'QTD_SUPORTE_MOTIVO_10_M18', 'QTD_SUPORTE_MOTIVO_10_M24', 'QTD_SUPORTE_MOTIVO_11_M1', 'QTD_SUPORTE_MOTIVO_11_M3', 'QTD_SUPORTE_MOTIVO_11_M6', 'QTD_SUPORTE_MOTIVO_11_M12', 'QTD_SUPORTE_MOTIVO_11_M18', 'QTD_SUPORTE_MOTIVO_11_M24', 'QTD_SUPORTE_MOTIVO_12_M1', 'QTD_SUPORTE_MOTIVO_12_M3', 'QTD_SUPORTE_MOTIVO_12_M6', 'QTD_SUPORTE_MOTIVO_12_M12', 'QTD_SUPORTE_MOTIVO_12_M18', 'QTD_SUPORTE_MOTIVO_12_M24', 'QTD_SUPORTE_MOTIVO_13_M1', 'QTD_SUPORTE_MOTIVO_13_M3', 'QTD_SUPORTE_MOTIVO_13_M6', 'QTD_SUPORTE_MOTIVO_13_M12', 'QTD_SUPORTE_MOTIVO_13_M18', 'QTD_SUPORTE_MOTIVO_13_M24', 'QTD_SUPORTE_MOTIVO_14_M1', 'QTD_SUPORTE_MOTIVO_14_M3', 'QTD_SUPORTE_MOTIVO_14_M6', 'QTD_SUPORTE_MOTIVO_14_M12', 'QTD_SUPORTE_MOTIVO_14_M18', 'QTD_SUPORTE_MOTIVO_14_M24', 'QTD_SUPORTE_MOTIVO_15_M1', 'QTD_SUPORTE_MOTIVO_15_M3', 'QTD_SUPORTE_MOTIVO_15_M6', 'QTD_SUPORTE_MOTIVO_15_M12', 'QTD_SUPORTE_MOTIVO_15_M18', 'QTD_SUPORTE_MOTIVO_15_M24', 'QTD_SUPORTE_MOTIVO_16_M1', 'QTD_SUPORTE_MOTIVO_16_M3', 'QTD_SUPORTE_MOTIVO_16_M6', 'QTD_SUPORTE_MOTIVO_16_M12', 'QTD_SUPORTE_MOTIVO_16_M18', 'QTD_SUPORTE_MOTIVO_16_M24', 'QTD_SUPORTE_MOTIVO_17_M1', 'QTD_SUPORTE_MOTIVO_17_M3', 'QTD_SUPORTE_MOTIVO_17_M6', 'QTD_SUPORTE_MOTIVO_17_M12', 'QTD_SUPORTE_MOTIVO_17_M18', 'QTD_SUPORTE_MOTIVO_17_M24', 'QTD_SUPORTE_MOTIVO_18_M1', 'QTD_SUPORTE_MOTIVO_18_M3', 'QTD_SUPORTE_MOTIVO_18_M6', 'QTD_SUPORTE_MOTIVO_18_M12', 'QTD_SUPORTE_MOTIVO_18_M18', 'QTD_SUPORTE_MOTIVO_18_M24', 'QTD_SUPORTE_MOTIVO_19_M1', 'QTD_SUPORTE_MOTIVO_19_M3', 'QTD_SUPORTE_MOTIVO_19_M6', 'QTD_SUPORTE_MOTIVO_19_M12', 'QTD_SUPORTE_MOTIVO_19_M18', 'QTD_SUPORTE_MOTIVO_19_M24', 'QTD_SUPORTE_MOTIVO_20_M1', 'QTD_SUPORTE_MOTIVO_20_M3', 'QTD_SUPORTE_MOTIVO_20_M6', 'QTD_SUPORTE_MOTIVO_20_M12', 'QTD_SUPORTE_MOTIVO_20_M18', 'QTD_SUPORTE_MOTIVO_20_M24', 'QTD_SUPORTE_MOTIVO_21_M1', 'QTD_SUPORTE_MOTIVO_21_M3', 'QTD_SUPORTE_MOTIVO_21_M6', 'QTD_SUPORTE_MOTIVO_21_M12', 'QTD_SUPORTE_MOTIVO_21_M18', 'QTD_SUPORTE_MOTIVO_21_M24', 'QTD_SUPORTE_MOTIVO_22_M1', 'QTD_SUPORTE_MOTIVO_22_M3', 'QTD_SUPORTE_MOTIVO_22_M6', 'QTD_SUPORTE_MOTIVO_22_M12', 'QTD_SUPORTE_MOTIVO_22_M18', 'QTD_SUPORTE_MOTIVO_22_M24', 'QTD_SUPORTE_MOTIVO_23_M1', 'QTD_SUPORTE_MOTIVO_23_M3', 'QTD_SUPORTE_MOTIVO_23_M6', 'QTD_SUPORTE_MOTIVO_23_M12', 'QTD_SUPORTE_MOTIVO_23_M18', 'QTD_SUPORTE_MOTIVO_23_M24', 'QTD_SUPORTE_MOTIVO_24_M1', 'QTD_SUPORTE_MOTIVO_24_M3', 'QTD_SUPORTE_MOTIVO_24_M6', 'QTD_SUPORTE_MOTIVO_24_M12', 'QTD_SUPORTE_MOTIVO_24_M18', 'QTD_SUPORTE_MOTIVO_24_M24', 'QTD_SUPORTE_MOTIVO_25_M1', 'QTD_SUPORTE_MOTIVO_25_M3', 'QTD_SUPORTE_MOTIVO_25_M6', 'QTD_SUPORTE_MOTIVO_25_M12', 'QTD_SUPORTE_MOTIVO_25_M18', 'QTD_SUPORTE_MOTIVO_25_M24', 'TARGET']\n"
          ]
        }
      ]
    },
    {
      "cell_type": "code",
      "source": [
        "#Analisando um resumo estatistico do dataset (summarise)\n",
        "df.describe(include = 'all')"
      ],
      "metadata": {
        "colab": {
          "base_uri": "https://localhost:8080/",
          "height": 487
        },
        "id": "bd2feC6utoI9",
        "outputId": "8c6fee65-538b-47fa-a884-65636b1c54e1"
      },
      "execution_count": 6,
      "outputs": [
        {
          "output_type": "execute_result",
          "data": {
            "text/plain": [
              "         Unnamed: 0  CUSTOMER_ID SERVICO_TELEFONE          CNAE PORTE ESTADO  \\\n",
              "count   1825.000000  1825.000000             1815  1.825000e+03  1825   1824   \n",
              "unique          NaN          NaN                1           NaN     5     26   \n",
              "top             NaN          NaN                N           NaN    GG     SP   \n",
              "freq            NaN          NaN             1815           NaN   654    843   \n",
              "mean     912.000000   913.000000              NaN  4.403599e+06   NaN    NaN   \n",
              "std      526.976438   526.976438              NaN  2.070631e+06   NaN    NaN   \n",
              "min        0.000000     1.000000              NaN  1.156000e+05   NaN    NaN   \n",
              "25%      456.000000   457.000000              NaN  2.710402e+06   NaN    NaN   \n",
              "50%      912.000000   913.000000              NaN  4.644301e+06   NaN    NaN   \n",
              "75%     1368.000000  1369.000000              NaN  5.250801e+06   NaN    NaN   \n",
              "max     1824.000000  1825.000000              NaN  9.900800e+06   NaN    NaN   \n",
              "\n",
              "        SERVICO_INTERNET  SERVICO_STREAMING       TENURE  QTD_CONTRATO  ...  \\\n",
              "count        1825.000000        1825.000000  1825.000000   1825.000000  ...   \n",
              "unique               NaN                NaN          NaN           NaN  ...   \n",
              "top                  NaN                NaN          NaN           NaN  ...   \n",
              "freq                 NaN                NaN          NaN           NaN  ...   \n",
              "mean            0.058630           0.037260    30.109041      1.196164  ...   \n",
              "std             0.234996           0.189451    14.564084      0.459890  ...   \n",
              "min             0.000000           0.000000     3.000000      1.000000  ...   \n",
              "25%             0.000000           0.000000    19.000000      1.000000  ...   \n",
              "50%             0.000000           0.000000    27.000000      1.000000  ...   \n",
              "75%             0.000000           0.000000    40.000000      1.000000  ...   \n",
              "max             1.000000           1.000000   121.000000      5.000000  ...   \n",
              "\n",
              "        QTD_SUPORTE_MOTIVO_24_M12  QTD_SUPORTE_MOTIVO_24_M18  \\\n",
              "count                 1825.000000                1825.000000   \n",
              "unique                        NaN                        NaN   \n",
              "top                           NaN                        NaN   \n",
              "freq                          NaN                        NaN   \n",
              "mean                     0.018630                   0.102466   \n",
              "std                      0.213788                   0.504279   \n",
              "min                      0.000000                   0.000000   \n",
              "25%                      0.000000                   0.000000   \n",
              "50%                      0.000000                   0.000000   \n",
              "75%                      0.000000                   0.000000   \n",
              "max                      6.000000                   7.000000   \n",
              "\n",
              "        QTD_SUPORTE_MOTIVO_24_M24  QTD_SUPORTE_MOTIVO_25_M1  \\\n",
              "count                 1825.000000                    1825.0   \n",
              "unique                        NaN                       NaN   \n",
              "top                           NaN                       NaN   \n",
              "freq                          NaN                       NaN   \n",
              "mean                     0.165479                       0.0   \n",
              "std                      0.629164                       0.0   \n",
              "min                      0.000000                       0.0   \n",
              "25%                      0.000000                       0.0   \n",
              "50%                      0.000000                       0.0   \n",
              "75%                      0.000000                       0.0   \n",
              "max                      8.000000                       0.0   \n",
              "\n",
              "        QTD_SUPORTE_MOTIVO_25_M3  QTD_SUPORTE_MOTIVO_25_M6  \\\n",
              "count                     1825.0                    1825.0   \n",
              "unique                       NaN                       NaN   \n",
              "top                          NaN                       NaN   \n",
              "freq                         NaN                       NaN   \n",
              "mean                         0.0                       0.0   \n",
              "std                          0.0                       0.0   \n",
              "min                          0.0                       0.0   \n",
              "25%                          0.0                       0.0   \n",
              "50%                          0.0                       0.0   \n",
              "75%                          0.0                       0.0   \n",
              "max                          0.0                       0.0   \n",
              "\n",
              "        QTD_SUPORTE_MOTIVO_25_M12  QTD_SUPORTE_MOTIVO_25_M18  \\\n",
              "count                 1825.000000                1825.000000   \n",
              "unique                        NaN                        NaN   \n",
              "top                           NaN                        NaN   \n",
              "freq                          NaN                        NaN   \n",
              "mean                     0.019726                   0.044932   \n",
              "std                      0.230952                   0.349118   \n",
              "min                      0.000000                   0.000000   \n",
              "25%                      0.000000                   0.000000   \n",
              "50%                      0.000000                   0.000000   \n",
              "75%                      0.000000                   0.000000   \n",
              "max                      6.000000                   7.000000   \n",
              "\n",
              "        QTD_SUPORTE_MOTIVO_25_M24       TARGET  \n",
              "count                 1825.000000  1825.000000  \n",
              "unique                        NaN          NaN  \n",
              "top                           NaN          NaN  \n",
              "freq                          NaN          NaN  \n",
              "mean                     0.046027     0.083836  \n",
              "std                      0.350543     0.277217  \n",
              "min                      0.000000     0.000000  \n",
              "25%                      0.000000     0.000000  \n",
              "50%                      0.000000     0.000000  \n",
              "75%                      0.000000     0.000000  \n",
              "max                      7.000000     1.000000  \n",
              "\n",
              "[11 rows x 211 columns]"
            ],
            "text/html": [
              "\n",
              "  <div id=\"df-8f88642a-8299-4386-8ba9-233fe3c1af14\">\n",
              "    <div class=\"colab-df-container\">\n",
              "      <div>\n",
              "<style scoped>\n",
              "    .dataframe tbody tr th:only-of-type {\n",
              "        vertical-align: middle;\n",
              "    }\n",
              "\n",
              "    .dataframe tbody tr th {\n",
              "        vertical-align: top;\n",
              "    }\n",
              "\n",
              "    .dataframe thead th {\n",
              "        text-align: right;\n",
              "    }\n",
              "</style>\n",
              "<table border=\"1\" class=\"dataframe\">\n",
              "  <thead>\n",
              "    <tr style=\"text-align: right;\">\n",
              "      <th></th>\n",
              "      <th>Unnamed: 0</th>\n",
              "      <th>CUSTOMER_ID</th>\n",
              "      <th>SERVICO_TELEFONE</th>\n",
              "      <th>CNAE</th>\n",
              "      <th>PORTE</th>\n",
              "      <th>ESTADO</th>\n",
              "      <th>SERVICO_INTERNET</th>\n",
              "      <th>SERVICO_STREAMING</th>\n",
              "      <th>TENURE</th>\n",
              "      <th>QTD_CONTRATO</th>\n",
              "      <th>...</th>\n",
              "      <th>QTD_SUPORTE_MOTIVO_24_M12</th>\n",
              "      <th>QTD_SUPORTE_MOTIVO_24_M18</th>\n",
              "      <th>QTD_SUPORTE_MOTIVO_24_M24</th>\n",
              "      <th>QTD_SUPORTE_MOTIVO_25_M1</th>\n",
              "      <th>QTD_SUPORTE_MOTIVO_25_M3</th>\n",
              "      <th>QTD_SUPORTE_MOTIVO_25_M6</th>\n",
              "      <th>QTD_SUPORTE_MOTIVO_25_M12</th>\n",
              "      <th>QTD_SUPORTE_MOTIVO_25_M18</th>\n",
              "      <th>QTD_SUPORTE_MOTIVO_25_M24</th>\n",
              "      <th>TARGET</th>\n",
              "    </tr>\n",
              "  </thead>\n",
              "  <tbody>\n",
              "    <tr>\n",
              "      <th>count</th>\n",
              "      <td>1825.000000</td>\n",
              "      <td>1825.000000</td>\n",
              "      <td>1815</td>\n",
              "      <td>1.825000e+03</td>\n",
              "      <td>1825</td>\n",
              "      <td>1824</td>\n",
              "      <td>1825.000000</td>\n",
              "      <td>1825.000000</td>\n",
              "      <td>1825.000000</td>\n",
              "      <td>1825.000000</td>\n",
              "      <td>...</td>\n",
              "      <td>1825.000000</td>\n",
              "      <td>1825.000000</td>\n",
              "      <td>1825.000000</td>\n",
              "      <td>1825.0</td>\n",
              "      <td>1825.0</td>\n",
              "      <td>1825.0</td>\n",
              "      <td>1825.000000</td>\n",
              "      <td>1825.000000</td>\n",
              "      <td>1825.000000</td>\n",
              "      <td>1825.000000</td>\n",
              "    </tr>\n",
              "    <tr>\n",
              "      <th>unique</th>\n",
              "      <td>NaN</td>\n",
              "      <td>NaN</td>\n",
              "      <td>1</td>\n",
              "      <td>NaN</td>\n",
              "      <td>5</td>\n",
              "      <td>26</td>\n",
              "      <td>NaN</td>\n",
              "      <td>NaN</td>\n",
              "      <td>NaN</td>\n",
              "      <td>NaN</td>\n",
              "      <td>...</td>\n",
              "      <td>NaN</td>\n",
              "      <td>NaN</td>\n",
              "      <td>NaN</td>\n",
              "      <td>NaN</td>\n",
              "      <td>NaN</td>\n",
              "      <td>NaN</td>\n",
              "      <td>NaN</td>\n",
              "      <td>NaN</td>\n",
              "      <td>NaN</td>\n",
              "      <td>NaN</td>\n",
              "    </tr>\n",
              "    <tr>\n",
              "      <th>top</th>\n",
              "      <td>NaN</td>\n",
              "      <td>NaN</td>\n",
              "      <td>N</td>\n",
              "      <td>NaN</td>\n",
              "      <td>GG</td>\n",
              "      <td>SP</td>\n",
              "      <td>NaN</td>\n",
              "      <td>NaN</td>\n",
              "      <td>NaN</td>\n",
              "      <td>NaN</td>\n",
              "      <td>...</td>\n",
              "      <td>NaN</td>\n",
              "      <td>NaN</td>\n",
              "      <td>NaN</td>\n",
              "      <td>NaN</td>\n",
              "      <td>NaN</td>\n",
              "      <td>NaN</td>\n",
              "      <td>NaN</td>\n",
              "      <td>NaN</td>\n",
              "      <td>NaN</td>\n",
              "      <td>NaN</td>\n",
              "    </tr>\n",
              "    <tr>\n",
              "      <th>freq</th>\n",
              "      <td>NaN</td>\n",
              "      <td>NaN</td>\n",
              "      <td>1815</td>\n",
              "      <td>NaN</td>\n",
              "      <td>654</td>\n",
              "      <td>843</td>\n",
              "      <td>NaN</td>\n",
              "      <td>NaN</td>\n",
              "      <td>NaN</td>\n",
              "      <td>NaN</td>\n",
              "      <td>...</td>\n",
              "      <td>NaN</td>\n",
              "      <td>NaN</td>\n",
              "      <td>NaN</td>\n",
              "      <td>NaN</td>\n",
              "      <td>NaN</td>\n",
              "      <td>NaN</td>\n",
              "      <td>NaN</td>\n",
              "      <td>NaN</td>\n",
              "      <td>NaN</td>\n",
              "      <td>NaN</td>\n",
              "    </tr>\n",
              "    <tr>\n",
              "      <th>mean</th>\n",
              "      <td>912.000000</td>\n",
              "      <td>913.000000</td>\n",
              "      <td>NaN</td>\n",
              "      <td>4.403599e+06</td>\n",
              "      <td>NaN</td>\n",
              "      <td>NaN</td>\n",
              "      <td>0.058630</td>\n",
              "      <td>0.037260</td>\n",
              "      <td>30.109041</td>\n",
              "      <td>1.196164</td>\n",
              "      <td>...</td>\n",
              "      <td>0.018630</td>\n",
              "      <td>0.102466</td>\n",
              "      <td>0.165479</td>\n",
              "      <td>0.0</td>\n",
              "      <td>0.0</td>\n",
              "      <td>0.0</td>\n",
              "      <td>0.019726</td>\n",
              "      <td>0.044932</td>\n",
              "      <td>0.046027</td>\n",
              "      <td>0.083836</td>\n",
              "    </tr>\n",
              "    <tr>\n",
              "      <th>std</th>\n",
              "      <td>526.976438</td>\n",
              "      <td>526.976438</td>\n",
              "      <td>NaN</td>\n",
              "      <td>2.070631e+06</td>\n",
              "      <td>NaN</td>\n",
              "      <td>NaN</td>\n",
              "      <td>0.234996</td>\n",
              "      <td>0.189451</td>\n",
              "      <td>14.564084</td>\n",
              "      <td>0.459890</td>\n",
              "      <td>...</td>\n",
              "      <td>0.213788</td>\n",
              "      <td>0.504279</td>\n",
              "      <td>0.629164</td>\n",
              "      <td>0.0</td>\n",
              "      <td>0.0</td>\n",
              "      <td>0.0</td>\n",
              "      <td>0.230952</td>\n",
              "      <td>0.349118</td>\n",
              "      <td>0.350543</td>\n",
              "      <td>0.277217</td>\n",
              "    </tr>\n",
              "    <tr>\n",
              "      <th>min</th>\n",
              "      <td>0.000000</td>\n",
              "      <td>1.000000</td>\n",
              "      <td>NaN</td>\n",
              "      <td>1.156000e+05</td>\n",
              "      <td>NaN</td>\n",
              "      <td>NaN</td>\n",
              "      <td>0.000000</td>\n",
              "      <td>0.000000</td>\n",
              "      <td>3.000000</td>\n",
              "      <td>1.000000</td>\n",
              "      <td>...</td>\n",
              "      <td>0.000000</td>\n",
              "      <td>0.000000</td>\n",
              "      <td>0.000000</td>\n",
              "      <td>0.0</td>\n",
              "      <td>0.0</td>\n",
              "      <td>0.0</td>\n",
              "      <td>0.000000</td>\n",
              "      <td>0.000000</td>\n",
              "      <td>0.000000</td>\n",
              "      <td>0.000000</td>\n",
              "    </tr>\n",
              "    <tr>\n",
              "      <th>25%</th>\n",
              "      <td>456.000000</td>\n",
              "      <td>457.000000</td>\n",
              "      <td>NaN</td>\n",
              "      <td>2.710402e+06</td>\n",
              "      <td>NaN</td>\n",
              "      <td>NaN</td>\n",
              "      <td>0.000000</td>\n",
              "      <td>0.000000</td>\n",
              "      <td>19.000000</td>\n",
              "      <td>1.000000</td>\n",
              "      <td>...</td>\n",
              "      <td>0.000000</td>\n",
              "      <td>0.000000</td>\n",
              "      <td>0.000000</td>\n",
              "      <td>0.0</td>\n",
              "      <td>0.0</td>\n",
              "      <td>0.0</td>\n",
              "      <td>0.000000</td>\n",
              "      <td>0.000000</td>\n",
              "      <td>0.000000</td>\n",
              "      <td>0.000000</td>\n",
              "    </tr>\n",
              "    <tr>\n",
              "      <th>50%</th>\n",
              "      <td>912.000000</td>\n",
              "      <td>913.000000</td>\n",
              "      <td>NaN</td>\n",
              "      <td>4.644301e+06</td>\n",
              "      <td>NaN</td>\n",
              "      <td>NaN</td>\n",
              "      <td>0.000000</td>\n",
              "      <td>0.000000</td>\n",
              "      <td>27.000000</td>\n",
              "      <td>1.000000</td>\n",
              "      <td>...</td>\n",
              "      <td>0.000000</td>\n",
              "      <td>0.000000</td>\n",
              "      <td>0.000000</td>\n",
              "      <td>0.0</td>\n",
              "      <td>0.0</td>\n",
              "      <td>0.0</td>\n",
              "      <td>0.000000</td>\n",
              "      <td>0.000000</td>\n",
              "      <td>0.000000</td>\n",
              "      <td>0.000000</td>\n",
              "    </tr>\n",
              "    <tr>\n",
              "      <th>75%</th>\n",
              "      <td>1368.000000</td>\n",
              "      <td>1369.000000</td>\n",
              "      <td>NaN</td>\n",
              "      <td>5.250801e+06</td>\n",
              "      <td>NaN</td>\n",
              "      <td>NaN</td>\n",
              "      <td>0.000000</td>\n",
              "      <td>0.000000</td>\n",
              "      <td>40.000000</td>\n",
              "      <td>1.000000</td>\n",
              "      <td>...</td>\n",
              "      <td>0.000000</td>\n",
              "      <td>0.000000</td>\n",
              "      <td>0.000000</td>\n",
              "      <td>0.0</td>\n",
              "      <td>0.0</td>\n",
              "      <td>0.0</td>\n",
              "      <td>0.000000</td>\n",
              "      <td>0.000000</td>\n",
              "      <td>0.000000</td>\n",
              "      <td>0.000000</td>\n",
              "    </tr>\n",
              "    <tr>\n",
              "      <th>max</th>\n",
              "      <td>1824.000000</td>\n",
              "      <td>1825.000000</td>\n",
              "      <td>NaN</td>\n",
              "      <td>9.900800e+06</td>\n",
              "      <td>NaN</td>\n",
              "      <td>NaN</td>\n",
              "      <td>1.000000</td>\n",
              "      <td>1.000000</td>\n",
              "      <td>121.000000</td>\n",
              "      <td>5.000000</td>\n",
              "      <td>...</td>\n",
              "      <td>6.000000</td>\n",
              "      <td>7.000000</td>\n",
              "      <td>8.000000</td>\n",
              "      <td>0.0</td>\n",
              "      <td>0.0</td>\n",
              "      <td>0.0</td>\n",
              "      <td>6.000000</td>\n",
              "      <td>7.000000</td>\n",
              "      <td>7.000000</td>\n",
              "      <td>1.000000</td>\n",
              "    </tr>\n",
              "  </tbody>\n",
              "</table>\n",
              "<p>11 rows × 211 columns</p>\n",
              "</div>\n",
              "      <button class=\"colab-df-convert\" onclick=\"convertToInteractive('df-8f88642a-8299-4386-8ba9-233fe3c1af14')\"\n",
              "              title=\"Convert this dataframe to an interactive table.\"\n",
              "              style=\"display:none;\">\n",
              "        \n",
              "  <svg xmlns=\"http://www.w3.org/2000/svg\" height=\"24px\"viewBox=\"0 0 24 24\"\n",
              "       width=\"24px\">\n",
              "    <path d=\"M0 0h24v24H0V0z\" fill=\"none\"/>\n",
              "    <path d=\"M18.56 5.44l.94 2.06.94-2.06 2.06-.94-2.06-.94-.94-2.06-.94 2.06-2.06.94zm-11 1L8.5 8.5l.94-2.06 2.06-.94-2.06-.94L8.5 2.5l-.94 2.06-2.06.94zm10 10l.94 2.06.94-2.06 2.06-.94-2.06-.94-.94-2.06-.94 2.06-2.06.94z\"/><path d=\"M17.41 7.96l-1.37-1.37c-.4-.4-.92-.59-1.43-.59-.52 0-1.04.2-1.43.59L10.3 9.45l-7.72 7.72c-.78.78-.78 2.05 0 2.83L4 21.41c.39.39.9.59 1.41.59.51 0 1.02-.2 1.41-.59l7.78-7.78 2.81-2.81c.8-.78.8-2.07 0-2.86zM5.41 20L4 18.59l7.72-7.72 1.47 1.35L5.41 20z\"/>\n",
              "  </svg>\n",
              "      </button>\n",
              "      \n",
              "  <style>\n",
              "    .colab-df-container {\n",
              "      display:flex;\n",
              "      flex-wrap:wrap;\n",
              "      gap: 12px;\n",
              "    }\n",
              "\n",
              "    .colab-df-convert {\n",
              "      background-color: #E8F0FE;\n",
              "      border: none;\n",
              "      border-radius: 50%;\n",
              "      cursor: pointer;\n",
              "      display: none;\n",
              "      fill: #1967D2;\n",
              "      height: 32px;\n",
              "      padding: 0 0 0 0;\n",
              "      width: 32px;\n",
              "    }\n",
              "\n",
              "    .colab-df-convert:hover {\n",
              "      background-color: #E2EBFA;\n",
              "      box-shadow: 0px 1px 2px rgba(60, 64, 67, 0.3), 0px 1px 3px 1px rgba(60, 64, 67, 0.15);\n",
              "      fill: #174EA6;\n",
              "    }\n",
              "\n",
              "    [theme=dark] .colab-df-convert {\n",
              "      background-color: #3B4455;\n",
              "      fill: #D2E3FC;\n",
              "    }\n",
              "\n",
              "    [theme=dark] .colab-df-convert:hover {\n",
              "      background-color: #434B5C;\n",
              "      box-shadow: 0px 1px 3px 1px rgba(0, 0, 0, 0.15);\n",
              "      filter: drop-shadow(0px 1px 2px rgba(0, 0, 0, 0.3));\n",
              "      fill: #FFFFFF;\n",
              "    }\n",
              "  </style>\n",
              "\n",
              "      <script>\n",
              "        const buttonEl =\n",
              "          document.querySelector('#df-8f88642a-8299-4386-8ba9-233fe3c1af14 button.colab-df-convert');\n",
              "        buttonEl.style.display =\n",
              "          google.colab.kernel.accessAllowed ? 'block' : 'none';\n",
              "\n",
              "        async function convertToInteractive(key) {\n",
              "          const element = document.querySelector('#df-8f88642a-8299-4386-8ba9-233fe3c1af14');\n",
              "          const dataTable =\n",
              "            await google.colab.kernel.invokeFunction('convertToInteractive',\n",
              "                                                     [key], {});\n",
              "          if (!dataTable) return;\n",
              "\n",
              "          const docLinkHtml = 'Like what you see? Visit the ' +\n",
              "            '<a target=\"_blank\" href=https://colab.research.google.com/notebooks/data_table.ipynb>data table notebook</a>'\n",
              "            + ' to learn more about interactive tables.';\n",
              "          element.innerHTML = '';\n",
              "          dataTable['output_type'] = 'display_data';\n",
              "          await google.colab.output.renderOutput(dataTable, element);\n",
              "          const docLink = document.createElement('div');\n",
              "          docLink.innerHTML = docLinkHtml;\n",
              "          element.appendChild(docLink);\n",
              "        }\n",
              "      </script>\n",
              "    </div>\n",
              "  </div>\n",
              "  "
            ]
          },
          "metadata": {},
          "execution_count": 6
        }
      ]
    },
    {
      "cell_type": "markdown",
      "source": [
        "**HIGHIGHTS:**\n",
        "\n",
        "1. *As colunas **'Unnamed: 0'** e **CUSTOMER_ID** poderão ser excluidas por não se apresentarem como variaveis explicativas para o modelo;*\n",
        "2. *O Dataset possui 3 variaveis categoricas (**'SERVICO_TELEFONE'**, **'PORTE'** e **'ESTADO'**) que serao tranformadas em dummies para melhor entendimento do modelo.*\n",
        "3. *Entendemos que a variavel **CNAE** pode ser explicativa para o modelo, pois um detaerminado ramo de atividade pode estar com maior registros de churn. Como a variavel esta classificada com 'int', iremos tranforma-la em categorica e posteriormente em dummy.*\n",
        "4. *Demais variaveis deverão passar por um processo de padronizacao, para nao enviasar o modelo com ponderacao arbitraria.*\n",
        "\n",
        "Todos esses e outros ajustes serão feitos na secao de Tratamento de Dados."
      ],
      "metadata": {
        "id": "2pHYJbftTwRq"
      }
    },
    {
      "cell_type": "code",
      "source": [
        "#Analisando a correlacao da variavel 'TARGET' com as demais\n",
        "df.corr()['TARGET'].sort_values(ascending = False)"
      ],
      "metadata": {
        "colab": {
          "base_uri": "https://localhost:8080/"
        },
        "id": "VM1u9NzAyvWA",
        "outputId": "4dab74e6-11ee-44a3-abb1-ac95b2c1a62a"
      },
      "execution_count": 7,
      "outputs": [
        {
          "output_type": "execute_result",
          "data": {
            "text/plain": [
              "TARGET                      1.000000\n",
              "VLR_RECARGAS_M22            0.145947\n",
              "VLR_RECARGAS_M12            0.140453\n",
              "VLR_RECARGAS_M24            0.140332\n",
              "VLR_RECARGAS_M18            0.131497\n",
              "                              ...   \n",
              "QTD_SUPORTE_MOTIVO_24_M3         NaN\n",
              "QTD_SUPORTE_MOTIVO_24_M6         NaN\n",
              "QTD_SUPORTE_MOTIVO_25_M1         NaN\n",
              "QTD_SUPORTE_MOTIVO_25_M3         NaN\n",
              "QTD_SUPORTE_MOTIVO_25_M6         NaN\n",
              "Name: TARGET, Length: 208, dtype: float64"
            ]
          },
          "metadata": {},
          "execution_count": 7
        }
      ]
    },
    {
      "cell_type": "markdown",
      "source": [
        "**HIGHIGHTS:**\n",
        "\n",
        "1. *A priori, verificamos baixa correlacao entre a variavel 'TARGET' que indica a ocorrencia ou nao de Churn e as demais. A maior correlacao se da em relacao a valores de recargas, porem com pouca significancia estatistica*"
      ],
      "metadata": {
        "id": "gPLFj3OYvtNe"
      }
    },
    {
      "cell_type": "markdown",
      "source": [
        "#### **Analise Grafica das Principais Variaveis do Dataset** \n"
      ],
      "metadata": {
        "id": "FResWzc166L8"
      }
    },
    {
      "cell_type": "markdown",
      "source": [
        "##### Plotando Manualmente os Comandos\n",
        "##### *Forma classica de Analise Exploratoria*"
      ],
      "metadata": {
        "id": "_X6ex75mDAa6"
      }
    },
    {
      "cell_type": "code",
      "source": [
        "#Plotando a variavel Churn\n",
        "df['TARGET'].value_counts().plot(kind = 'bar').set_title('CHURN')"
      ],
      "metadata": {
        "colab": {
          "base_uri": "https://localhost:8080/",
          "height": 299
        },
        "id": "Y0qyfsCb7ZP4",
        "outputId": "c62e5e6f-1834-4e30-b65e-8b50f897869a"
      },
      "execution_count": 8,
      "outputs": [
        {
          "output_type": "execute_result",
          "data": {
            "text/plain": [
              "Text(0.5, 1.0, 'CHURN')"
            ]
          },
          "metadata": {},
          "execution_count": 8
        },
        {
          "output_type": "display_data",
          "data": {
            "text/plain": [
              "<Figure size 432x288 with 1 Axes>"
            ],
            "image/png": "[encoded data removed]"
          },
          "metadata": {
            "needs_background": "light"
          }
        }
      ]
    },
    {
      "cell_type": "code",
      "source": [
        "#Analisando a Frenquencia Relativa da variavel Churn\n",
        "(df.TARGET.value_counts())/(df.TARGET.count())"
      ],
      "metadata": {
        "colab": {
          "base_uri": "https://localhost:8080/"
        },
        "id": "BWeRp3y1e4id",
        "outputId": "63f13331-d88a-4c7a-98b6-cc4f8dd1cb0c"
      },
      "execution_count": 9,
      "outputs": [
        {
          "output_type": "execute_result",
          "data": {
            "text/plain": [
              "0    0.916164\n",
              "1    0.083836\n",
              "Name: TARGET, dtype: float64"
            ]
          },
          "metadata": {},
          "execution_count": 9
        }
      ]
    },
    {
      "cell_type": "markdown",
      "source": [
        "**HIGHLIGHTS:**\n",
        "\n",
        "1.   Aqui verificamos desbalancemanto na variavel dependente que vamos usar no modelo. Da quantidade total de clientes, apenas 8% cancelaram o seu plano, enquanto 92% continuaram ativos.\n",
        "O desbalanceamento pode provocar um 'vicio' no modelo, que por estar recebendo mais observacoes de clientes \"nao churn\" acaba inferindo com maior frequencia essa variavel.\n",
        "\n",
        "Necessario analisar a melhor tecnica de balanceamento para a variavel (Over-sampling/Under-samplig)."
      ],
      "metadata": {
        "id": "GNTHfo_rP_0n"
      }
    },
    {
      "cell_type": "code",
      "source": [
        "#Plotando as principais variaveis quantitativas das caracteristicas do contrato\n",
        "plt.figure(figsize = (20,16))\n",
        "plt.subplot(3, 2, 1), df['QTD_CONTRATO'].value_counts().plot(kind = 'bar').set_title('QTD DE CONTRATOS')\n",
        "plt.subplot(3, 2, 2), df['TENURE'].hist().set_title('TEMPO DE RELACIONAMENTO')\n",
        "plt.subplot(3, 2, 3), df['TEMPO_MESES_CONTRATO'].hist().set_title('TEMPO DESDE O PRIMEIRO CONTRATO')\n",
        "plt.subplot(3, 2, 4), df['VALOR_MEDIO_PLANO'].hist().set_title('VALOR MEDIO/MES DO PLANO')"
      ],
      "metadata": {
        "colab": {
          "base_uri": "https://localhost:8080/",
          "height": 483
        },
        "id": "ac_i-C_FtoSB",
        "outputId": "103a1198-1d06-4b7c-d4e0-d89318e73218"
      },
      "execution_count": 10,
      "outputs": [
        {
          "output_type": "execute_result",
          "data": {
            "text/plain": [
              "(<matplotlib.axes._subplots.AxesSubplot at 0x7f8025e0d810>,\n",
              " Text(0.5, 1.0, 'VALOR MEDIO/MES DO PLANO'))"
            ]
          },
          "metadata": {},
          "execution_count": 10
        },
        {
          "output_type": "display_data",
          "data": {
            "text/plain": [
              "<Figure size 1440x1152 with 4 Axes>"
            ],
            "image/png": "[encoded data removed]"
          },
          "metadata": {
            "needs_background": "light"
          }
        }
      ]
    },
    {
      "cell_type": "code",
      "source": [
        "#Plotando as principais variaveis quantitativas dos Tipos de Servicos\n",
        "plt.figure(figsize = (20,5))\n",
        "plt.subplot(1, 3, 1), df['SERVICO_TELEFONE'].value_counts().plot(kind = 'bar').set_title('POSSUI SERVICO DE TELEFONE')\n",
        "plt.subplot(1, 3, 2), df['SERVICO_INTERNET'].value_counts().plot(kind = 'bar').set_title('POSSUI SERVICO DE INTERNET')\n",
        "plt.subplot(1, 3, 3), df['SERVICO_STREAMING'].value_counts().plot(kind = 'bar').set_title('POSSUI SERVICO DE STREAMING')"
      ],
      "metadata": {
        "colab": {
          "base_uri": "https://localhost:8080/",
          "height": 277
        },
        "id": "KbDpQY0j8Xb3",
        "outputId": "9676574c-60f3-49a1-8de9-2e1ec3378723"
      },
      "execution_count": 11,
      "outputs": [
        {
          "output_type": "execute_result",
          "data": {
            "text/plain": [
              "(<matplotlib.axes._subplots.AxesSubplot at 0x7f802575f750>,\n",
              " Text(0.5, 1.0, 'POSSUI SERVICO DE STREAMING'))"
            ]
          },
          "metadata": {},
          "execution_count": 11
        },
        {
          "output_type": "display_data",
          "data": {
            "text/plain": [
              "<Figure size 1440x360 with 3 Axes>"
            ],
            "image/png": "[encoded data removed]"
          },
          "metadata": {
            "needs_background": "light"
          }
        }
      ]
    },
    {
      "cell_type": "markdown",
      "source": [
        "HIGHLIGHTS:\n",
        "\n",
        "1.   *Nenhum cliente possui **'SERVICO_TELEFONE'**. Poderiamos retira-la das variaveis explicativas para o modelo, porem vamos transforma-la em numerica e mante-la no dataset.*\n",
        "2.   *Verifica-se um desbalanceamento na quantidade de clientes que possuem **'SERVICO_INTERNET'** e **'SERVICO_STREAMING'** em relação aos que não possuem. Entendemos que tais variaveis podem ser explicativas para o modelo e esse desbalanceamento pode impactar.*"
      ],
      "metadata": {
        "id": "laVccFiRNaaT"
      }
    },
    {
      "cell_type": "code",
      "source": [
        "#Plotando as principais variaveis categoricas\n",
        "plt.figure(figsize = (20,5)) \n",
        "plt.subplot(1, 2, 1), df['ESTADO'].value_counts().plot(kind = 'bar').set_title('UF DO CLIENTE')\n",
        "plt.subplot(1, 2, 2), df['PORTE'].value_counts().plot(kind = 'bar').set_title('PORTE DO CLIENTE')"
      ],
      "metadata": {
        "colab": {
          "base_uri": "https://localhost:8080/",
          "height": 286
        },
        "id": "62qRsdAi3VD7",
        "outputId": "9d504318-6fc4-4fec-fcf8-a4f7ab5a9d02"
      },
      "execution_count": 12,
      "outputs": [
        {
          "output_type": "execute_result",
          "data": {
            "text/plain": [
              "(<matplotlib.axes._subplots.AxesSubplot at 0x7f8025eef0d0>,\n",
              " Text(0.5, 1.0, 'PORTE DO CLIENTE'))"
            ]
          },
          "metadata": {},
          "execution_count": 12
        },
        {
          "output_type": "display_data",
          "data": {
            "text/plain": [
              "<Figure size 1440x360 with 2 Axes>"
            ],
            "image/png": "[encoded data removed]"
          },
          "metadata": {
            "needs_background": "light"
          }
        }
      ]
    },
    {
      "cell_type": "code",
      "source": [
        "#Analisando a Frenquencia Relativa da variavel UF\n",
        "(df.ESTADO.value_counts())/(df.ESTADO.count())"
      ],
      "metadata": {
        "colab": {
          "base_uri": "https://localhost:8080/"
        },
        "id": "crjtXsN4x6Qb",
        "outputId": "e8e1f94d-9fad-4878-9e17-ff40c100fe89"
      },
      "execution_count": 13,
      "outputs": [
        {
          "output_type": "execute_result",
          "data": {
            "text/plain": [
              "SP    0.462171\n",
              "RS    0.079496\n",
              "PR    0.075658\n",
              "SC    0.075110\n",
              "RJ    0.058662\n",
              "MG    0.055921\n",
              "GO    0.027412\n",
              "ES    0.021382\n",
              "AM    0.018640\n",
              "CE    0.018092\n",
              "PE    0.017544\n",
              "BA    0.016447\n",
              "DF    0.013706\n",
              "MT    0.011513\n",
              "MS    0.011513\n",
              "PA    0.009868\n",
              "MA    0.007127\n",
              "RN    0.005482\n",
              "PB    0.004934\n",
              "AL    0.002193\n",
              "PI    0.002193\n",
              "SE    0.001645\n",
              "TO    0.001645\n",
              "RO    0.000548\n",
              "RR    0.000548\n",
              "AP    0.000548\n",
              "Name: ESTADO, dtype: float64"
            ]
          },
          "metadata": {},
          "execution_count": 13
        }
      ]
    },
    {
      "cell_type": "code",
      "source": [
        "#Analisando a Frenquencia Relativa da variavel UF\n",
        "(df.PORTE.value_counts())/(df.PORTE.count())"
      ],
      "metadata": {
        "colab": {
          "base_uri": "https://localhost:8080/"
        },
        "id": "MbDM0SYTemxA",
        "outputId": "4dbe4b11-603a-4ea9-828e-bbde47846c03"
      },
      "execution_count": 14,
      "outputs": [
        {
          "output_type": "execute_result",
          "data": {
            "text/plain": [
              "GG    0.358356\n",
              "M     0.220822\n",
              "G     0.199452\n",
              "P     0.188493\n",
              "PP    0.032877\n",
              "Name: PORTE, dtype: float64"
            ]
          },
          "metadata": {},
          "execution_count": 14
        }
      ]
    },
    {
      "cell_type": "code",
      "source": [
        "#Plotando a Relacao de Churn por Porte do Cliente\n",
        "df0 = df[df.TARGET == 0].PORTE\n",
        "df1 = df[df.TARGET == 1].PORTE\n",
        "plt.hist([df0, df1], color = ['blue', 'red'], label = ['Churn = Nao', 'Churn = Sim'])\n",
        "plt.legend()"
      ],
      "metadata": {
        "colab": {
          "base_uri": "https://localhost:8080/",
          "height": 379
        },
        "id": "expcrOUq0Lhl",
        "outputId": "5dd68894-af79-4446-a95d-52e0501819a9"
      },
      "execution_count": 15,
      "outputs": [
        {
          "output_type": "stream",
          "name": "stderr",
          "text": [
            "/usr/local/lib/python3.7/dist-packages/numpy/core/fromnumeric.py:3208: VisibleDeprecationWarning: Creating an ndarray from ragged nested sequences (which is a list-or-tuple of lists-or-tuples-or ndarrays with different lengths or shapes) is deprecated. If you meant to do this, you must specify 'dtype=object' when creating the ndarray.\n",
            "  return asarray(a).size\n",
            "/usr/local/lib/python3.7/dist-packages/matplotlib/cbook/__init__.py:1376: VisibleDeprecationWarning: Creating an ndarray from ragged nested sequences (which is a list-or-tuple of lists-or-tuples-or ndarrays with different lengths or shapes) is deprecated. If you meant to do this, you must specify 'dtype=object' when creating the ndarray.\n",
            "  X = np.atleast_1d(X.T if isinstance(X, np.ndarray) else np.asarray(X))\n"
          ]
        },
        {
          "output_type": "execute_result",
          "data": {
            "text/plain": [
              "<matplotlib.legend.Legend at 0x7f80254f2a50>"
            ]
          },
          "metadata": {},
          "execution_count": 15
        },
        {
          "output_type": "display_data",
          "data": {
            "text/plain": [
              "<Figure size 432x288 with 1 Axes>"
            ],
            "image/png": "[encoded data removed]"
          },
          "metadata": {
            "needs_background": "light"
          }
        }
      ]
    },
    {
      "cell_type": "code",
      "source": [
        "#Plotando a Relacao de Churn por Quantidade de Contratos\n",
        "df0 = df[df.TARGET == 0].QTD_CONTRATO\n",
        "df1 = df[df.TARGET == 1].QTD_CONTRATO\n",
        "plt.hist([df0, df1], color = ['blue', 'red'], label = ['Churn = Nao', 'Churn = Sim'])\n",
        "plt.legend()"
      ],
      "metadata": {
        "colab": {
          "base_uri": "https://localhost:8080/",
          "height": 379
        },
        "id": "obMBFf6y_oB0",
        "outputId": "bb88467d-89fe-40aa-e65e-50d1aa7d0c88"
      },
      "execution_count": 16,
      "outputs": [
        {
          "output_type": "stream",
          "name": "stderr",
          "text": [
            "/usr/local/lib/python3.7/dist-packages/numpy/core/fromnumeric.py:3208: VisibleDeprecationWarning: Creating an ndarray from ragged nested sequences (which is a list-or-tuple of lists-or-tuples-or ndarrays with different lengths or shapes) is deprecated. If you meant to do this, you must specify 'dtype=object' when creating the ndarray.\n",
            "  return asarray(a).size\n",
            "/usr/local/lib/python3.7/dist-packages/matplotlib/cbook/__init__.py:1376: VisibleDeprecationWarning: Creating an ndarray from ragged nested sequences (which is a list-or-tuple of lists-or-tuples-or ndarrays with different lengths or shapes) is deprecated. If you meant to do this, you must specify 'dtype=object' when creating the ndarray.\n",
            "  X = np.atleast_1d(X.T if isinstance(X, np.ndarray) else np.asarray(X))\n"
          ]
        },
        {
          "output_type": "execute_result",
          "data": {
            "text/plain": [
              "<matplotlib.legend.Legend at 0x7f8025392a10>"
            ]
          },
          "metadata": {},
          "execution_count": 16
        },
        {
          "output_type": "display_data",
          "data": {
            "text/plain": [
              "<Figure size 432x288 with 1 Axes>"
            ],
            "image/png": "[encoded data removed]"
          },
          "metadata": {
            "needs_background": "light"
          }
        }
      ]
    },
    {
      "cell_type": "code",
      "source": [
        "#Plotando a Relacao de Churn por Tempo de Relacionamento\n",
        "df0 = df[df.TARGET == 0].TENURE\n",
        "df1 = df[df.TARGET == 1].TENURE\n",
        "plt.hist([df0, df1], color = ['blue', 'red'], label = ['Churn = Nao', 'Churn = Sim'])\n",
        "plt.legend()"
      ],
      "metadata": {
        "colab": {
          "base_uri": "https://localhost:8080/",
          "height": 379
        },
        "id": "E_CC1Sw076_B",
        "outputId": "1fdae913-0162-4c81-82d4-8486d3068c7a"
      },
      "execution_count": 17,
      "outputs": [
        {
          "output_type": "stream",
          "name": "stderr",
          "text": [
            "/usr/local/lib/python3.7/dist-packages/numpy/core/fromnumeric.py:3208: VisibleDeprecationWarning: Creating an ndarray from ragged nested sequences (which is a list-or-tuple of lists-or-tuples-or ndarrays with different lengths or shapes) is deprecated. If you meant to do this, you must specify 'dtype=object' when creating the ndarray.\n",
            "  return asarray(a).size\n",
            "/usr/local/lib/python3.7/dist-packages/matplotlib/cbook/__init__.py:1376: VisibleDeprecationWarning: Creating an ndarray from ragged nested sequences (which is a list-or-tuple of lists-or-tuples-or ndarrays with different lengths or shapes) is deprecated. If you meant to do this, you must specify 'dtype=object' when creating the ndarray.\n",
            "  X = np.atleast_1d(X.T if isinstance(X, np.ndarray) else np.asarray(X))\n"
          ]
        },
        {
          "output_type": "execute_result",
          "data": {
            "text/plain": [
              "<matplotlib.legend.Legend at 0x7f80252d7650>"
            ]
          },
          "metadata": {},
          "execution_count": 17
        },
        {
          "output_type": "display_data",
          "data": {
            "text/plain": [
              "<Figure size 432x288 with 1 Axes>"
            ],
            "image/png": "[encoded data removed]"
          },
          "metadata": {
            "needs_background": "light"
          }
        }
      ]
    },
    {
      "cell_type": "code",
      "source": [
        "#Plotando a Relacao de Churn por Valor Medio do Plano\n",
        "df0 = df[df.TARGET == 0].VALOR_MEDIO_PLANO\n",
        "df1 = df[df.TARGET == 1].VALOR_MEDIO_PLANO\n",
        "plt.hist([df0, df1], color = ['blue', 'red'], label = ['Churn = Nao', 'Churn = Sim'])\n",
        "plt.legend()"
      ],
      "metadata": {
        "colab": {
          "base_uri": "https://localhost:8080/",
          "height": 379
        },
        "id": "sQQLEzr2_9kC",
        "outputId": "0ee16adb-3d8e-49b7-86d8-1a708fc6926f"
      },
      "execution_count": 18,
      "outputs": [
        {
          "output_type": "stream",
          "name": "stderr",
          "text": [
            "/usr/local/lib/python3.7/dist-packages/numpy/core/fromnumeric.py:3208: VisibleDeprecationWarning: Creating an ndarray from ragged nested sequences (which is a list-or-tuple of lists-or-tuples-or ndarrays with different lengths or shapes) is deprecated. If you meant to do this, you must specify 'dtype=object' when creating the ndarray.\n",
            "  return asarray(a).size\n",
            "/usr/local/lib/python3.7/dist-packages/matplotlib/cbook/__init__.py:1376: VisibleDeprecationWarning: Creating an ndarray from ragged nested sequences (which is a list-or-tuple of lists-or-tuples-or ndarrays with different lengths or shapes) is deprecated. If you meant to do this, you must specify 'dtype=object' when creating the ndarray.\n",
            "  X = np.atleast_1d(X.T if isinstance(X, np.ndarray) else np.asarray(X))\n"
          ]
        },
        {
          "output_type": "execute_result",
          "data": {
            "text/plain": [
              "<matplotlib.legend.Legend at 0x7f8025285b10>"
            ]
          },
          "metadata": {},
          "execution_count": 18
        },
        {
          "output_type": "display_data",
          "data": {
            "text/plain": [
              "<Figure size 432x288 with 1 Axes>"
            ],
            "image/png": "[encoded data removed]"
          },
          "metadata": {
            "needs_background": "light"
          }
        }
      ]
    },
    {
      "cell_type": "code",
      "source": [
        "#Plotando a Relacao de Churn por Valor Medio do Plano\n",
        "df0 = df[df.TARGET == 0].TEMPO_MESES_CONTRATO\n",
        "df1 = df[df.TARGET == 1].TEMPO_MESES_CONTRATO\n",
        "plt.hist([df0, df1], color = ['blue', 'red'], label = ['Churn = Nao', 'Churn = Sim'])\n",
        "plt.legend()"
      ],
      "metadata": {
        "colab": {
          "base_uri": "https://localhost:8080/",
          "height": 379
        },
        "id": "wT31nmsd0rq7",
        "outputId": "6b2fb2a0-0270-4deb-fa57-0c0b87982347"
      },
      "execution_count": 19,
      "outputs": [
        {
          "output_type": "stream",
          "name": "stderr",
          "text": [
            "/usr/local/lib/python3.7/dist-packages/numpy/core/fromnumeric.py:3208: VisibleDeprecationWarning: Creating an ndarray from ragged nested sequences (which is a list-or-tuple of lists-or-tuples-or ndarrays with different lengths or shapes) is deprecated. If you meant to do this, you must specify 'dtype=object' when creating the ndarray.\n",
            "  return asarray(a).size\n",
            "/usr/local/lib/python3.7/dist-packages/matplotlib/cbook/__init__.py:1376: VisibleDeprecationWarning: Creating an ndarray from ragged nested sequences (which is a list-or-tuple of lists-or-tuples-or ndarrays with different lengths or shapes) is deprecated. If you meant to do this, you must specify 'dtype=object' when creating the ndarray.\n",
            "  X = np.atleast_1d(X.T if isinstance(X, np.ndarray) else np.asarray(X))\n"
          ]
        },
        {
          "output_type": "execute_result",
          "data": {
            "text/plain": [
              "<matplotlib.legend.Legend at 0x7f80251bcad0>"
            ]
          },
          "metadata": {},
          "execution_count": 19
        },
        {
          "output_type": "display_data",
          "data": {
            "text/plain": [
              "<Figure size 432x288 with 1 Axes>"
            ],
            "image/png": "[encoded data removed]"
          },
          "metadata": {
            "needs_background": "light"
          }
        }
      ]
    },
    {
      "cell_type": "markdown",
      "source": [
        "##### Plotando Automaticamente atraves do Sweetviz\n",
        "##### *Forma pratica de Analise exploratoria*"
      ],
      "metadata": {
        "id": "MEfJsQ-eEGbs"
      }
    },
    {
      "cell_type": "code",
      "source": [
        "#Criando um df especifico com algumas colunas do dataset para utilizar no Sweetviz\n",
        "df_viz = df.reindex(columns = ['ESTADO',\n",
        "                               'PORTE', \n",
        "                               'CNAE',\n",
        "                               'TENURE',\n",
        "                               'QTD_CONTRATO',\n",
        "                               'TEMPO_MESES_CONTRATO',\n",
        "                               'VALOR_MEDIO_PLANO',\n",
        "                               'SERVICO_TELEFONE',\n",
        "                               'SERVICO_INTERNET',\n",
        "                               'SERVICO_STREAMING',\n",
        "                               'TARGET'])"
      ],
      "metadata": {
        "id": "To3Rjc4l9CmD"
      },
      "execution_count": 20,
      "outputs": []
    },
    {
      "cell_type": "code",
      "source": [
        "#Plotando as principais Variaveis Atraves do Sweetviz\n",
        "#Apos a execucao do comando, é necessario baixar arquivo html salvo nas pastas e analisar no navegador\n",
        "sv.analyze(df_viz).show_html()"
      ],
      "metadata": {
        "colab": {
          "base_uri": "https://localhost:8080/",
          "height": 0,
          "referenced_widgets": [
            "38047fce7c7341a38684bfec8146349d",
            "3b7471dbd3f54516b76cbd92b3bda0ee",
            "4e2658124e5343639b667f423d416179",
            "a202eddd476144e2aa9a17a3a96c49a9",
            "6bd1208f75854c55b73e0624742e9fa0",
            "95342fe43815417981964b71b2202d01",
            "038acbe28ae749ea91969c16284eb2d3",
            "bb1851b74d684a1b993c6fddb6dfd9ea",
            "9a475518c8744fa7abc4b1df338e4a27",
            "f738439d34194bdfabcc8b7f96ea63a2",
            "3fa47b9ce01341808f43bf682ca88851"
          ]
        },
        "id": "ow499orY9-4c",
        "outputId": "57026644-656d-43bd-e03d-e88b5dbb8087"
      },
      "execution_count": 21,
      "outputs": [
        {
          "output_type": "display_data",
          "data": {
            "text/plain": [
              "                                             |          | [  0%]   00:00 -> (? left)"
            ],
            "application/vnd.jupyter.widget-view+json": {
              "version_major": 2,
              "version_minor": 0,
              "model_id": "38047fce7c7341a38684bfec8146349d"
            }
          },
          "metadata": {}
        },
        {
          "output_type": "stream",
          "name": "stdout",
          "text": [
            "Report SWEETVIZ_REPORT.html was generated! NOTEBOOK/COLAB USERS: the web browser MAY not pop up, regardless, the report IS saved in your notebook/colab files.\n"
          ]
        }
      ]
    },
    {
      "cell_type": "markdown",
      "source": [
        "**HIGHLIGHTS:**\n",
        "\n",
        "1.   *80% dos clientes estao concentrados na Região Sudeste, com forte dependencia do Estado de SP (46%);*\n",
        "2.   *58% dos clientes são de Grande Porte, indicado que pode haver um poder de barganha forte desses com a empresa.*\n",
        "3.   *Os cientes possuem um relacionamento médio de 30 meses com a empresa.*\n",
        "4.   *83% dos cientes so possuem 1 contrato;*\n",
        "6.   *Apenas 6% dos clientes possuem serviço de internet, enquanto 4% possuem servico de streaming;*\n",
        "7.   *Clientes com empresas de Grande Porte tem maior frequencia de Churn;*\n",
        "8.   *Clientes que possuem ate 20 meses de relacionamento tem maior frequencia de Churn;*   \n",
        "9.   *Clientes que possuem apenas 1 contrato tem maior frequencia de Churn;*\n",
        "10.   *Clientes com ticket medio de ate 15k tem maior frequencia de Churn;*\n",
        "11.   *Clientes que nao possuem Servido de Internet e Streaming tem maior frequencia de Churn;*\n",
        "\n",
        "A priori, a maior frequencia de rotação pode se dá em clientes de grande porte, novos, com apenas 1 contrato, baixo ticket medio e que nao contrataram nenhum servico de Internet e Streaming. Porem vale destacar que a frequencia dessas variaveis é representativa, o que leva a tambem ter uma alta frequencia de registros em Churn."
      ],
      "metadata": {
        "id": "U1JrPSKNR4ce"
      }
    },
    {
      "cell_type": "markdown",
      "source": [
        "#### **Tratamento dos Dados**"
      ],
      "metadata": {
        "id": "zDl4HgLg3NXj"
      }
    },
    {
      "cell_type": "code",
      "source": [
        "#Verificando a Existencia de Valores Duplicados e, caso haja, somando-os\n",
        "df.duplicated().sum()"
      ],
      "metadata": {
        "colab": {
          "base_uri": "https://localhost:8080/"
        },
        "id": "waQ43F6AxAY4",
        "outputId": "954c1048-2654-450d-c2b6-0f417a8ed5ac"
      },
      "execution_count": 22,
      "outputs": [
        {
          "output_type": "execute_result",
          "data": {
            "text/plain": [
              "0"
            ]
          },
          "metadata": {},
          "execution_count": 22
        }
      ]
    },
    {
      "cell_type": "code",
      "source": [
        "#Verificando a Existencia de Missing Values e, caso haja, somando-os\n",
        "print(list(df.isnull().sum()))"
      ],
      "metadata": {
        "colab": {
          "base_uri": "https://localhost:8080/"
        },
        "id": "mVHaeper3V3_",
        "outputId": "4dcbe3a8-8c8e-4758-eea3-11c3a9433f97"
      },
      "execution_count": 23,
      "outputs": [
        {
          "output_type": "stream",
          "name": "stdout",
          "text": [
            "[0, 0, 10, 0, 0, 1, 0, 0, 0, 0, 0, 0, 0, 0, 0, 0, 0, 0, 0, 0, 0, 0, 0, 0, 0, 0, 0, 0, 0, 0, 0, 0, 0, 0, 0, 0, 0, 0, 0, 0, 0, 0, 0, 0, 0, 0, 0, 0, 0, 0, 0, 0, 0, 0, 0, 0, 0, 0, 0, 0, 0, 0, 0, 0, 0, 0, 0, 0, 0, 0, 0, 0, 0, 0, 0, 0, 0, 0, 0, 0, 0, 0, 0, 0, 0, 0, 0, 0, 0, 0, 0, 0, 0, 0, 0, 0, 0, 0, 0, 0, 0, 0, 0, 0, 0, 0, 0, 0, 0, 0, 0, 0, 0, 0, 0, 0, 0, 0, 0, 0, 0, 0, 0, 0, 0, 0, 0, 0, 0, 0, 0, 0, 0, 0, 0, 0, 0, 0, 0, 0, 0, 0, 0, 0, 0, 0, 0, 0, 0, 0, 0, 0, 0, 0, 0, 0, 0, 0, 0, 0, 0, 0, 0, 0, 0, 0, 0, 0, 0, 0, 0, 0, 0, 0, 0, 0, 0, 0, 0, 0, 0, 0, 0, 0, 0, 0, 0, 0, 0, 0, 0, 0, 0, 0, 0, 0, 0, 0, 0, 0, 0, 0, 0, 0, 0, 0, 0, 0, 0, 0, 0]\n"
          ]
        }
      ]
    },
    {
      "cell_type": "code",
      "source": [
        "#Verificando a Nomenclatura das Variaveis (Colunas)\n",
        "print(list(df.columns))"
      ],
      "metadata": {
        "colab": {
          "base_uri": "https://localhost:8080/"
        },
        "id": "LSVCMDTsZfl5",
        "outputId": "cc00ef2b-fc9b-4554-b392-1803c582fae6"
      },
      "execution_count": 24,
      "outputs": [
        {
          "output_type": "stream",
          "name": "stdout",
          "text": [
            "['Unnamed: 0', 'CUSTOMER_ID', 'SERVICO_TELEFONE', 'CNAE', 'PORTE', 'ESTADO', 'SERVICO_INTERNET', 'SERVICO_STREAMING', 'TENURE', 'QTD_CONTRATO', 'TEMPO_MESES_CONTRATO', 'VALOR_MEDIO_PLANO', 'QTD_RECARGAS_M1', 'QTD_RECARGAS_M2', 'QTD_RECARGAS_M3', 'QTD_RECARGAS_M4', 'QTD_RECARGAS_M5', 'QTD_RECARGAS_M6', 'QTD_RECARGAS_M7', 'QTD_RECARGAS_M8', 'QTD_RECARGAS_M9', 'QTD_RECARGAS_M10', 'QTD_RECARGAS_M11', 'QTD_RECARGAS_M12', 'QTD_RECARGAS_M13', 'QTD_RECARGAS_M14', 'QTD_RECARGAS_M15', 'QTD_RECARGAS_M16', 'QTD_RECARGAS_M17', 'QTD_RECARGAS_M18', 'QTD_RECARGAS_M19', 'QTD_RECARGAS_M20', 'QTD_RECARGAS_M21', 'QTD_RECARGAS_M22', 'QTD_RECARGAS_M23', 'QTD_RECARGAS_M24', 'VLR_RECARGAS_M1', 'VLR_RECARGAS_M2', 'VLR_RECARGAS_M3', 'VLR_RECARGAS_M4', 'VLR_RECARGAS_M5', 'VLR_RECARGAS_M6', 'VLR_RECARGAS_M7', 'VLR_RECARGAS_M8', 'VLR_RECARGAS_M9', 'VLR_RECARGAS_M10', 'VLR_RECARGAS_M11', 'VLR_RECARGAS_M12', 'VLR_RECARGAS_M13', 'VLR_RECARGAS_M14', 'VLR_RECARGAS_M15', 'VLR_RECARGAS_M16', 'VLR_RECARGAS_M17', 'VLR_RECARGAS_M18', 'VLR_RECARGAS_M19', 'VLR_RECARGAS_M20', 'VLR_RECARGAS_M21', 'VLR_RECARGAS_M22', 'VLR_RECARGAS_M23', 'VLR_RECARGAS_M24', 'QTD_SUPORTE_MOTIVO_1_M1', 'QTD_SUPORTE_MOTIVO_1_M3', 'QTD_SUPORTE_MOTIVO_1_M6', 'QTD_SUPORTE_MOTIVO_1_M12', 'QTD_SUPORTE_MOTIVO_1_M18', 'QTD_SUPORTE_MOTIVO_1_M24', 'QTD_SUPORTE_MOTIVO_2_M1', 'QTD_SUPORTE_MOTIVO_2_M3', 'QTD_SUPORTE_MOTIVO_2_M6', 'QTD_SUPORTE_MOTIVO_2_M12', 'QTD_SUPORTE_MOTIVO_2_M18', 'QTD_SUPORTE_MOTIVO_2_M24', 'QTD_SUPORTE_MOTIVO_3_M1', 'QTD_SUPORTE_MOTIVO_3_M3', 'QTD_SUPORTE_MOTIVO_3_M6', 'QTD_SUPORTE_MOTIVO_3_M12', 'QTD_SUPORTE_MOTIVO_3_M18', 'QTD_SUPORTE_MOTIVO_3_M24', 'QTD_SUPORTE_MOTIVO_4_M1', 'QTD_SUPORTE_MOTIVO_4_M3', 'QTD_SUPORTE_MOTIVO_4_M6', 'QTD_SUPORTE_MOTIVO_4_M12', 'QTD_SUPORTE_MOTIVO_4_M18', 'QTD_SUPORTE_MOTIVO_4_M24', 'QTD_SUPORTE_MOTIVO_5_M1', 'QTD_SUPORTE_MOTIVO_5_M3', 'QTD_SUPORTE_MOTIVO_5_M6', 'QTD_SUPORTE_MOTIVO_5_M12', 'QTD_SUPORTE_MOTIVO_5_M18', 'QTD_SUPORTE_MOTIVO_5_M24', 'QTD_SUPORTE_MOTIVO_6_M1', 'QTD_SUPORTE_MOTIVO_6_M3', 'QTD_SUPORTE_MOTIVO_6_M6', 'QTD_SUPORTE_MOTIVO_6_M12', 'QTD_SUPORTE_MOTIVO_6_M18', 'QTD_SUPORTE_MOTIVO_6_M24', 'QTD_SUPORTE_MOTIVO_7_M1', 'QTD_SUPORTE_MOTIVO_7_M3', 'QTD_SUPORTE_MOTIVO_7_M6', 'QTD_SUPORTE_MOTIVO_7_M12', 'QTD_SUPORTE_MOTIVO_7_M18', 'QTD_SUPORTE_MOTIVO_7_M24', 'QTD_SUPORTE_MOTIVO_8_M1', 'QTD_SUPORTE_MOTIVO_8_M3', 'QTD_SUPORTE_MOTIVO_8_M6', 'QTD_SUPORTE_MOTIVO_8_M12', 'QTD_SUPORTE_MOTIVO_8_M18', 'QTD_SUPORTE_MOTIVO_8_M24', 'QTD_SUPORTE_MOTIVO_9_M1', 'QTD_SUPORTE_MOTIVO_9_M3', 'QTD_SUPORTE_MOTIVO_9_M6', 'QTD_SUPORTE_MOTIVO_9_M12', 'QTD_SUPORTE_MOTIVO_9_M18', 'QTD_SUPORTE_MOTIVO_9_M24', 'QTD_SUPORTE_MOTIVO_10_M1', 'QTD_SUPORTE_MOTIVO_10_M3', 'QTD_SUPORTE_MOTIVO_10_M6', 'QTD_SUPORTE_MOTIVO_10_M12', 'QTD_SUPORTE_MOTIVO_10_M18', 'QTD_SUPORTE_MOTIVO_10_M24', 'QTD_SUPORTE_MOTIVO_11_M1', 'QTD_SUPORTE_MOTIVO_11_M3', 'QTD_SUPORTE_MOTIVO_11_M6', 'QTD_SUPORTE_MOTIVO_11_M12', 'QTD_SUPORTE_MOTIVO_11_M18', 'QTD_SUPORTE_MOTIVO_11_M24', 'QTD_SUPORTE_MOTIVO_12_M1', 'QTD_SUPORTE_MOTIVO_12_M3', 'QTD_SUPORTE_MOTIVO_12_M6', 'QTD_SUPORTE_MOTIVO_12_M12', 'QTD_SUPORTE_MOTIVO_12_M18', 'QTD_SUPORTE_MOTIVO_12_M24', 'QTD_SUPORTE_MOTIVO_13_M1', 'QTD_SUPORTE_MOTIVO_13_M3', 'QTD_SUPORTE_MOTIVO_13_M6', 'QTD_SUPORTE_MOTIVO_13_M12', 'QTD_SUPORTE_MOTIVO_13_M18', 'QTD_SUPORTE_MOTIVO_13_M24', 'QTD_SUPORTE_MOTIVO_14_M1', 'QTD_SUPORTE_MOTIVO_14_M3', 'QTD_SUPORTE_MOTIVO_14_M6', 'QTD_SUPORTE_MOTIVO_14_M12', 'QTD_SUPORTE_MOTIVO_14_M18', 'QTD_SUPORTE_MOTIVO_14_M24', 'QTD_SUPORTE_MOTIVO_15_M1', 'QTD_SUPORTE_MOTIVO_15_M3', 'QTD_SUPORTE_MOTIVO_15_M6', 'QTD_SUPORTE_MOTIVO_15_M12', 'QTD_SUPORTE_MOTIVO_15_M18', 'QTD_SUPORTE_MOTIVO_15_M24', 'QTD_SUPORTE_MOTIVO_16_M1', 'QTD_SUPORTE_MOTIVO_16_M3', 'QTD_SUPORTE_MOTIVO_16_M6', 'QTD_SUPORTE_MOTIVO_16_M12', 'QTD_SUPORTE_MOTIVO_16_M18', 'QTD_SUPORTE_MOTIVO_16_M24', 'QTD_SUPORTE_MOTIVO_17_M1', 'QTD_SUPORTE_MOTIVO_17_M3', 'QTD_SUPORTE_MOTIVO_17_M6', 'QTD_SUPORTE_MOTIVO_17_M12', 'QTD_SUPORTE_MOTIVO_17_M18', 'QTD_SUPORTE_MOTIVO_17_M24', 'QTD_SUPORTE_MOTIVO_18_M1', 'QTD_SUPORTE_MOTIVO_18_M3', 'QTD_SUPORTE_MOTIVO_18_M6', 'QTD_SUPORTE_MOTIVO_18_M12', 'QTD_SUPORTE_MOTIVO_18_M18', 'QTD_SUPORTE_MOTIVO_18_M24', 'QTD_SUPORTE_MOTIVO_19_M1', 'QTD_SUPORTE_MOTIVO_19_M3', 'QTD_SUPORTE_MOTIVO_19_M6', 'QTD_SUPORTE_MOTIVO_19_M12', 'QTD_SUPORTE_MOTIVO_19_M18', 'QTD_SUPORTE_MOTIVO_19_M24', 'QTD_SUPORTE_MOTIVO_20_M1', 'QTD_SUPORTE_MOTIVO_20_M3', 'QTD_SUPORTE_MOTIVO_20_M6', 'QTD_SUPORTE_MOTIVO_20_M12', 'QTD_SUPORTE_MOTIVO_20_M18', 'QTD_SUPORTE_MOTIVO_20_M24', 'QTD_SUPORTE_MOTIVO_21_M1', 'QTD_SUPORTE_MOTIVO_21_M3', 'QTD_SUPORTE_MOTIVO_21_M6', 'QTD_SUPORTE_MOTIVO_21_M12', 'QTD_SUPORTE_MOTIVO_21_M18', 'QTD_SUPORTE_MOTIVO_21_M24', 'QTD_SUPORTE_MOTIVO_22_M1', 'QTD_SUPORTE_MOTIVO_22_M3', 'QTD_SUPORTE_MOTIVO_22_M6', 'QTD_SUPORTE_MOTIVO_22_M12', 'QTD_SUPORTE_MOTIVO_22_M18', 'QTD_SUPORTE_MOTIVO_22_M24', 'QTD_SUPORTE_MOTIVO_23_M1', 'QTD_SUPORTE_MOTIVO_23_M3', 'QTD_SUPORTE_MOTIVO_23_M6', 'QTD_SUPORTE_MOTIVO_23_M12', 'QTD_SUPORTE_MOTIVO_23_M18', 'QTD_SUPORTE_MOTIVO_23_M24', 'QTD_SUPORTE_MOTIVO_24_M1', 'QTD_SUPORTE_MOTIVO_24_M3', 'QTD_SUPORTE_MOTIVO_24_M6', 'QTD_SUPORTE_MOTIVO_24_M12', 'QTD_SUPORTE_MOTIVO_24_M18', 'QTD_SUPORTE_MOTIVO_24_M24', 'QTD_SUPORTE_MOTIVO_25_M1', 'QTD_SUPORTE_MOTIVO_25_M3', 'QTD_SUPORTE_MOTIVO_25_M6', 'QTD_SUPORTE_MOTIVO_25_M12', 'QTD_SUPORTE_MOTIVO_25_M18', 'QTD_SUPORTE_MOTIVO_25_M24', 'TARGET']\n"
          ]
        }
      ]
    },
    {
      "cell_type": "code",
      "source": [
        "#Verificando os Missing Values da Variavel 'SERVICO_TELEFONE'\n",
        "df.SERVICO_TELEFONE.isnull().value_counts()"
      ],
      "metadata": {
        "colab": {
          "base_uri": "https://localhost:8080/"
        },
        "id": "fsYnrvD5tGsw",
        "outputId": "d026412e-27de-4d19-96c2-5a764bebaeb7"
      },
      "execution_count": 25,
      "outputs": [
        {
          "output_type": "execute_result",
          "data": {
            "text/plain": [
              "False    1815\n",
              "True       10\n",
              "Name: SERVICO_TELEFONE, dtype: int64"
            ]
          },
          "metadata": {},
          "execution_count": 25
        }
      ]
    },
    {
      "cell_type": "code",
      "source": [
        "#Verificando os Missing Values da Variavel 'ESTADO'\n",
        "df.ESTADO.isnull().value_counts()"
      ],
      "metadata": {
        "colab": {
          "base_uri": "https://localhost:8080/"
        },
        "id": "Ktvhgj6JtoAy",
        "outputId": "d9fd234e-ccc1-4237-e952-5646a0a1044a"
      },
      "execution_count": 26,
      "outputs": [
        {
          "output_type": "execute_result",
          "data": {
            "text/plain": [
              "False    1824\n",
              "True        1\n",
              "Name: ESTADO, dtype: int64"
            ]
          },
          "metadata": {},
          "execution_count": 26
        }
      ]
    },
    {
      "cell_type": "markdown",
      "source": [
        "Conforme verificado nos output's acima, existem duas variaveis com missing values:\n",
        "\n",
        "1. *Coluna 3 = **'SERVICO_TELEFONE'**-> 10 Missing Values*\n",
        "2. *Coluna 6 = **'ESTADO'** -> 1 Missing Values*\n",
        "\n",
        "Total = 11 Missing Values\n",
        "\n",
        "A ausencia de valores pode influenciar nos modelos de previsao, e entendendo que um tratamento atraves de medidas de tendencia, como média, moda ou mediana e posterior aplicacao de uma ponderação arbitraria podem tambem enviesar os modelos, decidimos remove-los por representar menos de 1% do dataset.\n"
      ],
      "metadata": {
        "id": "0MDPgvAHdbQC"
      }
    },
    {
      "cell_type": "code",
      "source": [
        "#Excluindo os Missing Values\n",
        "df.dropna(inplace = True)"
      ],
      "metadata": {
        "id": "BIRUah8vhSdS"
      },
      "execution_count": 27,
      "outputs": []
    },
    {
      "cell_type": "code",
      "source": [
        "#Verificando a Existencia de Missing Values e, caso haja, somando-os (Pos Tratamento)\n",
        "print(list(df.isnull().sum()))"
      ],
      "metadata": {
        "colab": {
          "base_uri": "https://localhost:8080/"
        },
        "id": "Nc-Y1YBijnAq",
        "outputId": "eecebaaf-6945-441a-93c2-f5a9265dc806"
      },
      "execution_count": 28,
      "outputs": [
        {
          "output_type": "stream",
          "name": "stdout",
          "text": [
            "[0, 0, 0, 0, 0, 0, 0, 0, 0, 0, 0, 0, 0, 0, 0, 0, 0, 0, 0, 0, 0, 0, 0, 0, 0, 0, 0, 0, 0, 0, 0, 0, 0, 0, 0, 0, 0, 0, 0, 0, 0, 0, 0, 0, 0, 0, 0, 0, 0, 0, 0, 0, 0, 0, 0, 0, 0, 0, 0, 0, 0, 0, 0, 0, 0, 0, 0, 0, 0, 0, 0, 0, 0, 0, 0, 0, 0, 0, 0, 0, 0, 0, 0, 0, 0, 0, 0, 0, 0, 0, 0, 0, 0, 0, 0, 0, 0, 0, 0, 0, 0, 0, 0, 0, 0, 0, 0, 0, 0, 0, 0, 0, 0, 0, 0, 0, 0, 0, 0, 0, 0, 0, 0, 0, 0, 0, 0, 0, 0, 0, 0, 0, 0, 0, 0, 0, 0, 0, 0, 0, 0, 0, 0, 0, 0, 0, 0, 0, 0, 0, 0, 0, 0, 0, 0, 0, 0, 0, 0, 0, 0, 0, 0, 0, 0, 0, 0, 0, 0, 0, 0, 0, 0, 0, 0, 0, 0, 0, 0, 0, 0, 0, 0, 0, 0, 0, 0, 0, 0, 0, 0, 0, 0, 0, 0, 0, 0, 0, 0, 0, 0, 0, 0, 0, 0, 0, 0, 0, 0, 0, 0]\n"
          ]
        }
      ]
    },
    {
      "cell_type": "code",
      "source": [
        "#Verificando os Missing Values da Variavel 'ESTADO' (Pos Tratamento)\n",
        "df.ESTADO.isnull().value_counts()"
      ],
      "metadata": {
        "colab": {
          "base_uri": "https://localhost:8080/"
        },
        "id": "QnyAqZDnioMf",
        "outputId": "1e2ea16f-b5b4-43e6-8c30-9647de45da15"
      },
      "execution_count": 29,
      "outputs": [
        {
          "output_type": "execute_result",
          "data": {
            "text/plain": [
              "False    1814\n",
              "Name: ESTADO, dtype: int64"
            ]
          },
          "metadata": {},
          "execution_count": 29
        }
      ]
    },
    {
      "cell_type": "code",
      "source": [
        "#Verificando os Missing Values da Variavel 'SERVICO_TELEFONE' (Pos Tratamento)\n",
        "df.SERVICO_TELEFONE.isnull().value_counts()"
      ],
      "metadata": {
        "colab": {
          "base_uri": "https://localhost:8080/"
        },
        "id": "z8nz_DBFZtHA",
        "outputId": "44a7fc01-5d89-40d1-f40a-ed47282b527b"
      },
      "execution_count": 30,
      "outputs": [
        {
          "output_type": "execute_result",
          "data": {
            "text/plain": [
              "False    1814\n",
              "Name: SERVICO_TELEFONE, dtype: int64"
            ]
          },
          "metadata": {},
          "execution_count": 30
        }
      ]
    },
    {
      "cell_type": "markdown",
      "source": [
        "Verificamos tambem que a variavel **'SERVICO_TELEFONE'** so possuiu o tipo de registro 'N', ou seja, nenhum cliente do dataset possui esse servico. Vamos altera-la para numerica e atribuir o valor 0."
      ],
      "metadata": {
        "id": "qeNhtEjofWUw"
      }
    },
    {
      "cell_type": "code",
      "source": [
        "#Transformando a variavel 'SERVICO_TELEFONE' em numerica\n",
        "df['SERVICO_TELEFONE'].replace('N', 0, inplace = True)\n",
        "df.head()"
      ],
      "metadata": {
        "colab": {
          "base_uri": "https://localhost:8080/",
          "height": 317
        },
        "id": "T9BpKapPf1n4",
        "outputId": "06e0b797-e051-4e01-de75-255cfd736b13"
      },
      "execution_count": 31,
      "outputs": [
        {
          "output_type": "execute_result",
          "data": {
            "text/plain": [
              "   Unnamed: 0  CUSTOMER_ID  SERVICO_TELEFONE     CNAE PORTE ESTADO  \\\n",
              "0           0            1                 0  4661300    GG     SP   \n",
              "1           1            2                 0  3250701     M     SP   \n",
              "2           2            3                 0  3250705     P     SP   \n",
              "3           3            4                 0  4672900     P     SP   \n",
              "4           4            5                 0  4663000    GG     SP   \n",
              "\n",
              "   SERVICO_INTERNET  SERVICO_STREAMING  TENURE  QTD_CONTRATO  ...  \\\n",
              "0                 0                  0      28             1  ...   \n",
              "1                 0                  0      28             1  ...   \n",
              "2                 0                  0      28             1  ...   \n",
              "3                 0                  0      28             1  ...   \n",
              "4                 0                  0      28             1  ...   \n",
              "\n",
              "   QTD_SUPORTE_MOTIVO_24_M12  QTD_SUPORTE_MOTIVO_24_M18  \\\n",
              "0                          0                          0   \n",
              "1                          0                          0   \n",
              "2                          0                          0   \n",
              "3                          0                          0   \n",
              "4                          0                          0   \n",
              "\n",
              "   QTD_SUPORTE_MOTIVO_24_M24  QTD_SUPORTE_MOTIVO_25_M1  \\\n",
              "0                          0                         0   \n",
              "1                          0                         0   \n",
              "2                          0                         0   \n",
              "3                          0                         0   \n",
              "4                          1                         0   \n",
              "\n",
              "   QTD_SUPORTE_MOTIVO_25_M3  QTD_SUPORTE_MOTIVO_25_M6  \\\n",
              "0                         0                         0   \n",
              "1                         0                         0   \n",
              "2                         0                         0   \n",
              "3                         0                         0   \n",
              "4                         0                         0   \n",
              "\n",
              "   QTD_SUPORTE_MOTIVO_25_M12  QTD_SUPORTE_MOTIVO_25_M18  \\\n",
              "0                          0                          0   \n",
              "1                          0                          0   \n",
              "2                          0                          0   \n",
              "3                          0                          1   \n",
              "4                          0                          0   \n",
              "\n",
              "   QTD_SUPORTE_MOTIVO_25_M24  TARGET  \n",
              "0                          0       0  \n",
              "1                          0       0  \n",
              "2                          0       0  \n",
              "3                          1       0  \n",
              "4                          0       0  \n",
              "\n",
              "[5 rows x 211 columns]"
            ],
            "text/html": [
              "\n",
              "  <div id=\"df-84cec70e-92ff-4ad9-894f-0659440eab74\">\n",
              "    <div class=\"colab-df-container\">\n",
              "      <div>\n",
              "<style scoped>\n",
              "    .dataframe tbody tr th:only-of-type {\n",
              "        vertical-align: middle;\n",
              "    }\n",
              "\n",
              "    .dataframe tbody tr th {\n",
              "        vertical-align: top;\n",
              "    }\n",
              "\n",
              "    .dataframe thead th {\n",
              "        text-align: right;\n",
              "    }\n",
              "</style>\n",
              "<table border=\"1\" class=\"dataframe\">\n",
              "  <thead>\n",
              "    <tr style=\"text-align: right;\">\n",
              "      <th></th>\n",
              "      <th>Unnamed: 0</th>\n",
              "      <th>CUSTOMER_ID</th>\n",
              "      <th>SERVICO_TELEFONE</th>\n",
              "      <th>CNAE</th>\n",
              "      <th>PORTE</th>\n",
              "      <th>ESTADO</th>\n",
              "      <th>SERVICO_INTERNET</th>\n",
              "      <th>SERVICO_STREAMING</th>\n",
              "      <th>TENURE</th>\n",
              "      <th>QTD_CONTRATO</th>\n",
              "      <th>...</th>\n",
              "      <th>QTD_SUPORTE_MOTIVO_24_M12</th>\n",
              "      <th>QTD_SUPORTE_MOTIVO_24_M18</th>\n",
              "      <th>QTD_SUPORTE_MOTIVO_24_M24</th>\n",
              "      <th>QTD_SUPORTE_MOTIVO_25_M1</th>\n",
              "      <th>QTD_SUPORTE_MOTIVO_25_M3</th>\n",
              "      <th>QTD_SUPORTE_MOTIVO_25_M6</th>\n",
              "      <th>QTD_SUPORTE_MOTIVO_25_M12</th>\n",
              "      <th>QTD_SUPORTE_MOTIVO_25_M18</th>\n",
              "      <th>QTD_SUPORTE_MOTIVO_25_M24</th>\n",
              "      <th>TARGET</th>\n",
              "    </tr>\n",
              "  </thead>\n",
              "  <tbody>\n",
              "    <tr>\n",
              "      <th>0</th>\n",
              "      <td>0</td>\n",
              "      <td>1</td>\n",
              "      <td>0</td>\n",
              "      <td>4661300</td>\n",
              "      <td>GG</td>\n",
              "      <td>SP</td>\n",
              "      <td>0</td>\n",
              "      <td>0</td>\n",
              "      <td>28</td>\n",
              "      <td>1</td>\n",
              "      <td>...</td>\n",
              "      <td>0</td>\n",
              "      <td>0</td>\n",
              "      <td>0</td>\n",
              "      <td>0</td>\n",
              "      <td>0</td>\n",
              "      <td>0</td>\n",
              "      <td>0</td>\n",
              "      <td>0</td>\n",
              "      <td>0</td>\n",
              "      <td>0</td>\n",
              "    </tr>\n",
              "    <tr>\n",
              "      <th>1</th>\n",
              "      <td>1</td>\n",
              "      <td>2</td>\n",
              "      <td>0</td>\n",
              "      <td>3250701</td>\n",
              "      <td>M</td>\n",
              "      <td>SP</td>\n",
              "      <td>0</td>\n",
              "      <td>0</td>\n",
              "      <td>28</td>\n",
              "      <td>1</td>\n",
              "      <td>...</td>\n",
              "      <td>0</td>\n",
              "      <td>0</td>\n",
              "      <td>0</td>\n",
              "      <td>0</td>\n",
              "      <td>0</td>\n",
              "      <td>0</td>\n",
              "      <td>0</td>\n",
              "      <td>0</td>\n",
              "      <td>0</td>\n",
              "      <td>0</td>\n",
              "    </tr>\n",
              "    <tr>\n",
              "      <th>2</th>\n",
              "      <td>2</td>\n",
              "      <td>3</td>\n",
              "      <td>0</td>\n",
              "      <td>3250705</td>\n",
              "      <td>P</td>\n",
              "      <td>SP</td>\n",
              "      <td>0</td>\n",
              "      <td>0</td>\n",
              "      <td>28</td>\n",
              "      <td>1</td>\n",
              "      <td>...</td>\n",
              "      <td>0</td>\n",
              "      <td>0</td>\n",
              "      <td>0</td>\n",
              "      <td>0</td>\n",
              "      <td>0</td>\n",
              "      <td>0</td>\n",
              "      <td>0</td>\n",
              "      <td>0</td>\n",
              "      <td>0</td>\n",
              "      <td>0</td>\n",
              "    </tr>\n",
              "    <tr>\n",
              "      <th>3</th>\n",
              "      <td>3</td>\n",
              "      <td>4</td>\n",
              "      <td>0</td>\n",
              "      <td>4672900</td>\n",
              "      <td>P</td>\n",
              "      <td>SP</td>\n",
              "      <td>0</td>\n",
              "      <td>0</td>\n",
              "      <td>28</td>\n",
              "      <td>1</td>\n",
              "      <td>...</td>\n",
              "      <td>0</td>\n",
              "      <td>0</td>\n",
              "      <td>0</td>\n",
              "      <td>0</td>\n",
              "      <td>0</td>\n",
              "      <td>0</td>\n",
              "      <td>0</td>\n",
              "      <td>1</td>\n",
              "      <td>1</td>\n",
              "      <td>0</td>\n",
              "    </tr>\n",
              "    <tr>\n",
              "      <th>4</th>\n",
              "      <td>4</td>\n",
              "      <td>5</td>\n",
              "      <td>0</td>\n",
              "      <td>4663000</td>\n",
              "      <td>GG</td>\n",
              "      <td>SP</td>\n",
              "      <td>0</td>\n",
              "      <td>0</td>\n",
              "      <td>28</td>\n",
              "      <td>1</td>\n",
              "      <td>...</td>\n",
              "      <td>0</td>\n",
              "      <td>0</td>\n",
              "      <td>1</td>\n",
              "      <td>0</td>\n",
              "      <td>0</td>\n",
              "      <td>0</td>\n",
              "      <td>0</td>\n",
              "      <td>0</td>\n",
              "      <td>0</td>\n",
              "      <td>0</td>\n",
              "    </tr>\n",
              "  </tbody>\n",
              "</table>\n",
              "<p>5 rows × 211 columns</p>\n",
              "</div>\n",
              "      <button class=\"colab-df-convert\" onclick=\"convertToInteractive('df-84cec70e-92ff-4ad9-894f-0659440eab74')\"\n",
              "              title=\"Convert this dataframe to an interactive table.\"\n",
              "              style=\"display:none;\">\n",
              "        \n",
              "  <svg xmlns=\"http://www.w3.org/2000/svg\" height=\"24px\"viewBox=\"0 0 24 24\"\n",
              "       width=\"24px\">\n",
              "    <path d=\"M0 0h24v24H0V0z\" fill=\"none\"/>\n",
              "    <path d=\"M18.56 5.44l.94 2.06.94-2.06 2.06-.94-2.06-.94-.94-2.06-.94 2.06-2.06.94zm-11 1L8.5 8.5l.94-2.06 2.06-.94-2.06-.94L8.5 2.5l-.94 2.06-2.06.94zm10 10l.94 2.06.94-2.06 2.06-.94-2.06-.94-.94-2.06-.94 2.06-2.06.94z\"/><path d=\"M17.41 7.96l-1.37-1.37c-.4-.4-.92-.59-1.43-.59-.52 0-1.04.2-1.43.59L10.3 9.45l-7.72 7.72c-.78.78-.78 2.05 0 2.83L4 21.41c.39.39.9.59 1.41.59.51 0 1.02-.2 1.41-.59l7.78-7.78 2.81-2.81c.8-.78.8-2.07 0-2.86zM5.41 20L4 18.59l7.72-7.72 1.47 1.35L5.41 20z\"/>\n",
              "  </svg>\n",
              "      </button>\n",
              "      \n",
              "  <style>\n",
              "    .colab-df-container {\n",
              "      display:flex;\n",
              "      flex-wrap:wrap;\n",
              "      gap: 12px;\n",
              "    }\n",
              "\n",
              "    .colab-df-convert {\n",
              "      background-color: #E8F0FE;\n",
              "      border: none;\n",
              "      border-radius: 50%;\n",
              "      cursor: pointer;\n",
              "      display: none;\n",
              "      fill: #1967D2;\n",
              "      height: 32px;\n",
              "      padding: 0 0 0 0;\n",
              "      width: 32px;\n",
              "    }\n",
              "\n",
              "    .colab-df-convert:hover {\n",
              "      background-color: #E2EBFA;\n",
              "      box-shadow: 0px 1px 2px rgba(60, 64, 67, 0.3), 0px 1px 3px 1px rgba(60, 64, 67, 0.15);\n",
              "      fill: #174EA6;\n",
              "    }\n",
              "\n",
              "    [theme=dark] .colab-df-convert {\n",
              "      background-color: #3B4455;\n",
              "      fill: #D2E3FC;\n",
              "    }\n",
              "\n",
              "    [theme=dark] .colab-df-convert:hover {\n",
              "      background-color: #434B5C;\n",
              "      box-shadow: 0px 1px 3px 1px rgba(0, 0, 0, 0.15);\n",
              "      filter: drop-shadow(0px 1px 2px rgba(0, 0, 0, 0.3));\n",
              "      fill: #FFFFFF;\n",
              "    }\n",
              "  </style>\n",
              "\n",
              "      <script>\n",
              "        const buttonEl =\n",
              "          document.querySelector('#df-84cec70e-92ff-4ad9-894f-0659440eab74 button.colab-df-convert');\n",
              "        buttonEl.style.display =\n",
              "          google.colab.kernel.accessAllowed ? 'block' : 'none';\n",
              "\n",
              "        async function convertToInteractive(key) {\n",
              "          const element = document.querySelector('#df-84cec70e-92ff-4ad9-894f-0659440eab74');\n",
              "          const dataTable =\n",
              "            await google.colab.kernel.invokeFunction('convertToInteractive',\n",
              "                                                     [key], {});\n",
              "          if (!dataTable) return;\n",
              "\n",
              "          const docLinkHtml = 'Like what you see? Visit the ' +\n",
              "            '<a target=\"_blank\" href=https://colab.research.google.com/notebooks/data_table.ipynb>data table notebook</a>'\n",
              "            + ' to learn more about interactive tables.';\n",
              "          element.innerHTML = '';\n",
              "          dataTable['output_type'] = 'display_data';\n",
              "          await google.colab.output.renderOutput(dataTable, element);\n",
              "          const docLink = document.createElement('div');\n",
              "          docLink.innerHTML = docLinkHtml;\n",
              "          element.appendChild(docLink);\n",
              "        }\n",
              "      </script>\n",
              "    </div>\n",
              "  </div>\n",
              "  "
            ]
          },
          "metadata": {},
          "execution_count": 31
        }
      ]
    },
    {
      "cell_type": "markdown",
      "source": [
        "Nessa etapa iremos transformar a variavel **CNAE** de 'int' para 'str' e a usaremos como explicativa para o modelo, pois um determinado ramo de atividade pode estar com maior registros de churn. Posteriormente iremos transforma-la em dummy para que o modelo interprete corretamente."
      ],
      "metadata": {
        "id": "M9-B_1aaBveZ"
      }
    },
    {
      "cell_type": "code",
      "source": [
        "#Transformando a variavel 'CNAE' em str\n",
        "df['CNAE'] = df['CNAE'].astype(str)\n",
        "df.dtypes"
      ],
      "metadata": {
        "colab": {
          "base_uri": "https://localhost:8080/"
        },
        "id": "6d85GS2eBASi",
        "outputId": "d6613b0d-fb19-43c0-c7d7-435d9cc29525"
      },
      "execution_count": 32,
      "outputs": [
        {
          "output_type": "execute_result",
          "data": {
            "text/plain": [
              "Unnamed: 0                    int64\n",
              "CUSTOMER_ID                   int64\n",
              "SERVICO_TELEFONE              int64\n",
              "CNAE                         object\n",
              "PORTE                        object\n",
              "                              ...  \n",
              "QTD_SUPORTE_MOTIVO_25_M6      int64\n",
              "QTD_SUPORTE_MOTIVO_25_M12     int64\n",
              "QTD_SUPORTE_MOTIVO_25_M18     int64\n",
              "QTD_SUPORTE_MOTIVO_25_M24     int64\n",
              "TARGET                        int64\n",
              "Length: 211, dtype: object"
            ]
          },
          "metadata": {},
          "execution_count": 32
        }
      ]
    },
    {
      "cell_type": "markdown",
      "source": [
        "Vamos agrupar os valores das colunas que estao com abertura de valores em periodos mensais (***'QTD_RECARGAS_M1',  'VLR_RECARGAS_M1', 'QTD_SUPORTE_MOTIVO_1' a 'QTD_SUPORTE_MOTIVO_25'***), transformando em uma unica coluna com os valores totais. Dessa forma podemos verificar se tais variaveis agrupadas exercer um poder explicativo diferenciado ao modelo."
      ],
      "metadata": {
        "id": "ESOsk7WRGLaP"
      }
    },
    {
      "cell_type": "code",
      "source": [
        "#Criando uma variavel 'QTD_TOTAL_RECARGAS' a partir da soma das Colunas de QTD_RECARGAS (1 a 24M)\n",
        "dfrecarga = ['QTD_RECARGAS_M1', 'QTD_RECARGAS_M2', 'QTD_RECARGAS_M3', 'QTD_RECARGAS_M4', 'QTD_RECARGAS_M5', 'QTD_RECARGAS_M6', 'QTD_RECARGAS_M7', 'QTD_RECARGAS_M8', 'QTD_RECARGAS_M9', 'QTD_RECARGAS_M10', 'QTD_RECARGAS_M11', 'QTD_RECARGAS_M12', 'QTD_RECARGAS_M13', 'QTD_RECARGAS_M14', 'QTD_RECARGAS_M15', 'QTD_RECARGAS_M16', 'QTD_RECARGAS_M17', 'QTD_RECARGAS_M18', 'QTD_RECARGAS_M19', 'QTD_RECARGAS_M20', 'QTD_RECARGAS_M21', 'QTD_RECARGAS_M22', 'QTD_RECARGAS_M23', 'QTD_RECARGAS_M24']\n",
        "df['QTD_TOTAL_RECARGAS'] = df[dfrecarga].sum(axis = 1)"
      ],
      "metadata": {
        "id": "YVMQLwXyFdiI"
      },
      "execution_count": 33,
      "outputs": []
    },
    {
      "cell_type": "code",
      "source": [
        "#Criando uma variavel 'VLR_TOTAL_RECARGAS' a partir da soma das Colunas de VLR_TOTAL_RECARGAS (1 a 24M)\n",
        "dfrecarga = ['VLR_RECARGAS_M1', 'VLR_RECARGAS_M2', 'VLR_RECARGAS_M3', 'VLR_RECARGAS_M4', 'VLR_RECARGAS_M5', 'VLR_RECARGAS_M6', 'VLR_RECARGAS_M7', 'VLR_RECARGAS_M8', 'VLR_RECARGAS_M9', 'VLR_RECARGAS_M10', 'VLR_RECARGAS_M11', 'VLR_RECARGAS_M12', 'VLR_RECARGAS_M13', 'VLR_RECARGAS_M14', 'VLR_RECARGAS_M15', 'VLR_RECARGAS_M16', 'VLR_RECARGAS_M17', 'VLR_RECARGAS_M18', 'VLR_RECARGAS_M19', 'VLR_RECARGAS_M20', 'VLR_RECARGAS_M21', 'VLR_RECARGAS_M22', 'VLR_RECARGAS_M23', 'VLR_RECARGAS_M24']\n",
        "df['VLR_TOTAL_RECARGAS'] = df[dfrecarga].sum(axis = 1)"
      ],
      "metadata": {
        "id": "I64mA9SIIWIa"
      },
      "execution_count": 34,
      "outputs": []
    },
    {
      "cell_type": "code",
      "source": [
        "#Criando uma variavel 'QTD_SUPORTE_MOTIVO_1' a partir da soma das colunas de QTD_SUPORTE_MOTIVO_1 (1 a 24M)\n",
        "dfrecarga = ['QTD_SUPORTE_MOTIVO_1_M1', 'QTD_SUPORTE_MOTIVO_1_M3', 'QTD_SUPORTE_MOTIVO_1_M6', 'QTD_SUPORTE_MOTIVO_1_M12', 'QTD_SUPORTE_MOTIVO_1_M18', 'QTD_SUPORTE_MOTIVO_1_M24']\n",
        "df['TT_SUPORTE_MOTIVO_1'] = df[dfrecarga].sum(axis = 1)"
      ],
      "metadata": {
        "id": "hSmM97AhFw3y"
      },
      "execution_count": 35,
      "outputs": []
    },
    {
      "cell_type": "code",
      "source": [
        "#Criando uma variavel 'QTD_SUPORTE_MOTIVO_2' a partir da soma das colunas de QTD_SUPORTE_MOTIVO_2 (1 a 24M)\n",
        "dfrecarga = ['QTD_SUPORTE_MOTIVO_2_M1', 'QTD_SUPORTE_MOTIVO_2_M3', 'QTD_SUPORTE_MOTIVO_2_M6', 'QTD_SUPORTE_MOTIVO_2_M12', 'QTD_SUPORTE_MOTIVO_2_M18', 'QTD_SUPORTE_MOTIVO_2_M24']\n",
        "df['TT_SUPORTE_MOTIVO_2'] = df[dfrecarga].sum(axis = 1)"
      ],
      "metadata": {
        "id": "7VjLljqjJZO7"
      },
      "execution_count": 36,
      "outputs": []
    },
    {
      "cell_type": "code",
      "source": [
        "#Criando uma variavel 'QTD_SUPORTE_MOTIVO_3' a partir da soma das colunas de QTD_SUPORTE_MOTIVO_3 (1 a 24M)\n",
        "dfrecarga = ['QTD_SUPORTE_MOTIVO_3_M1', 'QTD_SUPORTE_MOTIVO_3_M3', 'QTD_SUPORTE_MOTIVO_3_M6', 'QTD_SUPORTE_MOTIVO_3_M12', 'QTD_SUPORTE_MOTIVO_3_M18', 'QTD_SUPORTE_MOTIVO_3_M24']\n",
        "df['TT_SUPORTE_MOTIVO_3'] = df[dfrecarga].sum(axis = 1)"
      ],
      "metadata": {
        "id": "A6hZkVFJJk1d"
      },
      "execution_count": 37,
      "outputs": []
    },
    {
      "cell_type": "code",
      "source": [
        "#Criando uma variavel 'QTD_SUPORTE_MOTIVO_4' a partir da soma das colunas de QTD_SUPORTE_MOTIVO_4 (1 a 24M)\n",
        "dfrecarga = ['QTD_SUPORTE_MOTIVO_4_M1', 'QTD_SUPORTE_MOTIVO_4_M3', 'QTD_SUPORTE_MOTIVO_4_M6', 'QTD_SUPORTE_MOTIVO_4_M12', 'QTD_SUPORTE_MOTIVO_4_M18', 'QTD_SUPORTE_MOTIVO_4_M24']\n",
        "df['TT_SUPORTE_MOTIVO_4'] = df[dfrecarga].sum(axis = 1)"
      ],
      "metadata": {
        "id": "DE05tbDFJqTN"
      },
      "execution_count": 38,
      "outputs": []
    },
    {
      "cell_type": "code",
      "source": [
        "#Criando uma variavel 'QTD_SUPORTE_MOTIVO_5' a partir da soma das colunas de QTD_SUPORTE_MOTIVO_5 (1 a 24M)\n",
        "dfrecarga = ['QTD_SUPORTE_MOTIVO_5_M1', 'QTD_SUPORTE_MOTIVO_5_M3', 'QTD_SUPORTE_MOTIVO_5_M6', 'QTD_SUPORTE_MOTIVO_5_M12', 'QTD_SUPORTE_MOTIVO_5_M18', 'QTD_SUPORTE_MOTIVO_5_M24']\n",
        "df['TT_SUPORTE_MOTIVO_5'] = df[dfrecarga].sum(axis = 1)"
      ],
      "metadata": {
        "id": "wxxOqvWnJ1sR"
      },
      "execution_count": 39,
      "outputs": []
    },
    {
      "cell_type": "code",
      "source": [
        "#Criando uma variavel 'QTD_SUPORTE_MOTIVO_6' a partir da soma das colunas de QTD_SUPORTE_MOTIVO_6 (1 a 24M)\n",
        "dfrecarga = ['QTD_SUPORTE_MOTIVO_6_M1', 'QTD_SUPORTE_MOTIVO_6_M3', 'QTD_SUPORTE_MOTIVO_6_M6', 'QTD_SUPORTE_MOTIVO_6_M12', 'QTD_SUPORTE_MOTIVO_6_M18', 'QTD_SUPORTE_MOTIVO_6_M24']\n",
        "df['TT_SUPORTE_MOTIVO_6'] = df[dfrecarga].sum(axis = 1)"
      ],
      "metadata": {
        "id": "QtufNcF0KIHO"
      },
      "execution_count": 40,
      "outputs": []
    },
    {
      "cell_type": "code",
      "source": [
        "#Criando uma variavel 'QTD_SUPORTE_MOTIVO_7' a partir da soma das colunas de QTD_SUPORTE_MOTIVO_7 (1 a 24M)\n",
        "dfrecarga = ['QTD_SUPORTE_MOTIVO_7_M1', 'QTD_SUPORTE_MOTIVO_7_M3', 'QTD_SUPORTE_MOTIVO_7_M6', 'QTD_SUPORTE_MOTIVO_7_M12', 'QTD_SUPORTE_MOTIVO_7_M18', 'QTD_SUPORTE_MOTIVO_7_M24']\n",
        "df['TT_SUPORTE_MOTIVO_7'] = df[dfrecarga].sum(axis = 1)"
      ],
      "metadata": {
        "id": "PR6ilSZ2KQ_J"
      },
      "execution_count": 41,
      "outputs": []
    },
    {
      "cell_type": "code",
      "source": [
        "#Criando uma variavel 'QTD_SUPORTE_MOTIVO_8' a partir da soma das colunas de QTD_SUPORTE_MOTIVO_8 (1 a 24M)\n",
        "dfrecarga = ['QTD_SUPORTE_MOTIVO_8_M1', 'QTD_SUPORTE_MOTIVO_8_M3', 'QTD_SUPORTE_MOTIVO_8_M6', 'QTD_SUPORTE_MOTIVO_8_M12', 'QTD_SUPORTE_MOTIVO_8_M18', 'QTD_SUPORTE_MOTIVO_8_M24']\n",
        "df['TT_SUPORTE_MOTIVO_8'] = df[dfrecarga].sum(axis = 1)"
      ],
      "metadata": {
        "id": "YPbd9A-pKcIw"
      },
      "execution_count": 42,
      "outputs": []
    },
    {
      "cell_type": "code",
      "source": [
        "#Criando uma variavel 'QTD_SUPORTE_MOTIVO_9' a partir da soma das colunas de QTD_SUPORTE_MOTIVO_9 (1 a 24M)\n",
        "dfrecarga = ['QTD_SUPORTE_MOTIVO_9_M1', 'QTD_SUPORTE_MOTIVO_9_M3', 'QTD_SUPORTE_MOTIVO_9_M6', 'QTD_SUPORTE_MOTIVO_9_M12', 'QTD_SUPORTE_MOTIVO_9_M18', 'QTD_SUPORTE_MOTIVO_9_M24']\n",
        "df['TT_SUPORTE_MOTIVO_9'] = df[dfrecarga].sum(axis = 1)"
      ],
      "metadata": {
        "id": "pT7Zexv1KjBj"
      },
      "execution_count": 43,
      "outputs": []
    },
    {
      "cell_type": "code",
      "source": [
        "#Criando uma variavel 'QTD_SUPORTE_MOTIVO_10' a partir da soma das colunas de QTD_SUPORTE_MOTIVO_10 (1 a 24M)\n",
        "dfrecarga = ['QTD_SUPORTE_MOTIVO_10_M1', 'QTD_SUPORTE_MOTIVO_10_M3', 'QTD_SUPORTE_MOTIVO_10_M6', 'QTD_SUPORTE_MOTIVO_10_M12', 'QTD_SUPORTE_MOTIVO_10_M18', 'QTD_SUPORTE_MOTIVO_10_M24']\n",
        "df['TT_SUPORTE_MOTIVO_10'] = df[dfrecarga].sum(axis = 1)"
      ],
      "metadata": {
        "id": "_vawFjXFKpDJ"
      },
      "execution_count": 44,
      "outputs": []
    },
    {
      "cell_type": "code",
      "source": [
        "#Criando uma variavel 'QTD_SUPORTE_MOTIVO_11' a partir da soma das colunas de QTD_SUPORTE_MOTIVO_11 (1 a 24M)\n",
        "dfrecarga = ['QTD_SUPORTE_MOTIVO_11_M1', 'QTD_SUPORTE_MOTIVO_11_M3', 'QTD_SUPORTE_MOTIVO_11_M6', 'QTD_SUPORTE_MOTIVO_11_M12', 'QTD_SUPORTE_MOTIVO_11_M18', 'QTD_SUPORTE_MOTIVO_11_M24']\n",
        "df['TT_SUPORTE_MOTIVO_11'] = df[dfrecarga].sum(axis = 1)"
      ],
      "metadata": {
        "id": "GWSU860ILUdb"
      },
      "execution_count": 45,
      "outputs": []
    },
    {
      "cell_type": "code",
      "source": [
        "#Criando uma variavel 'QTD_SUPORTE_MOTIVO_12' a partir da soma das colunas de QTD_SUPORTE_MOTIVO_12 (1 a 24M)\n",
        "dfrecarga = ['QTD_SUPORTE_MOTIVO_12_M1', 'QTD_SUPORTE_MOTIVO_12_M3', 'QTD_SUPORTE_MOTIVO_12_M6', 'QTD_SUPORTE_MOTIVO_12_M12', 'QTD_SUPORTE_MOTIVO_12_M18', 'QTD_SUPORTE_MOTIVO_12_M24']\n",
        "df['TT_SUPORTE_MOTIVO_12'] = df[dfrecarga].sum(axis = 1)"
      ],
      "metadata": {
        "id": "UuVLln9hLccx"
      },
      "execution_count": 46,
      "outputs": []
    },
    {
      "cell_type": "code",
      "source": [
        "#Criando uma variavel 'QTD_SUPORTE_MOTIVO_13' a partir da soma das colunas de QTD_SUPORTE_MOTIVO_13 (1 a 24M)\n",
        "dfrecarga = ['QTD_SUPORTE_MOTIVO_13_M1', 'QTD_SUPORTE_MOTIVO_13_M3', 'QTD_SUPORTE_MOTIVO_13_M6', 'QTD_SUPORTE_MOTIVO_13_M12', 'QTD_SUPORTE_MOTIVO_13_M18', 'QTD_SUPORTE_MOTIVO_13_M24']\n",
        "df['TT_SUPORTE_MOTIVO_13'] = df[dfrecarga].sum(axis = 1)"
      ],
      "metadata": {
        "id": "lKanAZtTLoyy"
      },
      "execution_count": 47,
      "outputs": []
    },
    {
      "cell_type": "code",
      "source": [
        "#Criando uma variavel 'QTD_SUPORTE_MOTIVO_14' a partir da soma das colunas de QTD_SUPORTE_MOTIVO_14 (1 a 24M)\n",
        "dfrecarga = ['QTD_SUPORTE_MOTIVO_14_M1', 'QTD_SUPORTE_MOTIVO_14_M3', 'QTD_SUPORTE_MOTIVO_14_M6', 'QTD_SUPORTE_MOTIVO_14_M12', 'QTD_SUPORTE_MOTIVO_14_M18', 'QTD_SUPORTE_MOTIVO_14_M24']\n",
        "df['TT_SUPORTE_MOTIVO_14'] = df[dfrecarga].sum(axis = 1)"
      ],
      "metadata": {
        "id": "jKpVNqRpLxWw"
      },
      "execution_count": 48,
      "outputs": []
    },
    {
      "cell_type": "code",
      "source": [
        "#Criando uma variavel 'QTD_SUPORTE_MOTIVO_15' a partir da soma das colunas de QTD_SUPORTE_MOTIVO_15 (1 a 24M)\n",
        "dfrecarga = ['QTD_SUPORTE_MOTIVO_15_M1', 'QTD_SUPORTE_MOTIVO_15_M3', 'QTD_SUPORTE_MOTIVO_15_M6', 'QTD_SUPORTE_MOTIVO_15_M12', 'QTD_SUPORTE_MOTIVO_15_M18', 'QTD_SUPORTE_MOTIVO_15_M24']\n",
        "df['TT_SUPORTE_MOTIVO_15'] = df[dfrecarga].sum(axis = 1)"
      ],
      "metadata": {
        "id": "tVcFkBxQL5bt"
      },
      "execution_count": 49,
      "outputs": []
    },
    {
      "cell_type": "code",
      "source": [
        "#Criando uma variavel 'QTD_SUPORTE_MOTIVO_16' a partir da soma das colunas de QTD_SUPORTE_MOTIVO_16 (1 a 24M)\n",
        "dfrecarga = ['QTD_SUPORTE_MOTIVO_16_M1', 'QTD_SUPORTE_MOTIVO_16_M3', 'QTD_SUPORTE_MOTIVO_16_M6', 'QTD_SUPORTE_MOTIVO_16_M12', 'QTD_SUPORTE_MOTIVO_16_M18', 'QTD_SUPORTE_MOTIVO_16_M24']\n",
        "df['TT_SUPORTE_MOTIVO_16'] = df[dfrecarga].sum(axis = 1)"
      ],
      "metadata": {
        "id": "lrPD9sURMCpv"
      },
      "execution_count": 50,
      "outputs": []
    },
    {
      "cell_type": "code",
      "source": [
        "#Criando uma variavel 'QTD_SUPORTE_MOTIVO_17' a partir da soma das colunas de QTD_SUPORTE_MOTIVO_17 (1 a 24M)\n",
        "dfrecarga = ['QTD_SUPORTE_MOTIVO_17_M1', 'QTD_SUPORTE_MOTIVO_17_M3', 'QTD_SUPORTE_MOTIVO_17_M6', 'QTD_SUPORTE_MOTIVO_17_M12', 'QTD_SUPORTE_MOTIVO_17_M18', 'QTD_SUPORTE_MOTIVO_17_M24']\n",
        "df['TT_SUPORTE_MOTIVO_17'] = df[dfrecarga].sum(axis = 1)"
      ],
      "metadata": {
        "id": "y4rLf1aEMLRE"
      },
      "execution_count": 51,
      "outputs": []
    },
    {
      "cell_type": "code",
      "source": [
        "#Criando uma variavel 'QTD_SUPORTE_MOTIVO_18' a partir da soma das colunas de QTD_SUPORTE_MOTIVO_18 (1 a 24M)\n",
        "dfrecarga = ['QTD_SUPORTE_MOTIVO_18_M1', 'QTD_SUPORTE_MOTIVO_18_M3', 'QTD_SUPORTE_MOTIVO_18_M6', 'QTD_SUPORTE_MOTIVO_18_M12', 'QTD_SUPORTE_MOTIVO_18_M18', 'QTD_SUPORTE_MOTIVO_18_M24']\n",
        "df['TT_SUPORTE_MOTIVO_18'] = df[dfrecarga].sum(axis = 1)"
      ],
      "metadata": {
        "id": "BJSeNCRVMShD"
      },
      "execution_count": 52,
      "outputs": []
    },
    {
      "cell_type": "code",
      "source": [
        "#Criando uma variavel 'QTD_SUPORTE_MOTIVO_19' a partir da soma das colunas de QTD_SUPORTE_MOTIVO_19 (1 a 24M)\n",
        "dfrecarga = ['QTD_SUPORTE_MOTIVO_19_M1', 'QTD_SUPORTE_MOTIVO_19_M3', 'QTD_SUPORTE_MOTIVO_19_M6', 'QTD_SUPORTE_MOTIVO_19_M12', 'QTD_SUPORTE_MOTIVO_19_M18', 'QTD_SUPORTE_MOTIVO_19_M24']\n",
        "df['TT_SUPORTE_MOTIVO_19'] = df[dfrecarga].sum(axis = 1)"
      ],
      "metadata": {
        "id": "hGbkMohWMZ2H"
      },
      "execution_count": 53,
      "outputs": []
    },
    {
      "cell_type": "code",
      "source": [
        "#Criando uma variavel 'QTD_SUPORTE_MOTIVO_20' a partir da soma das colunas de QTD_SUPORTE_MOTIVO_20 (1 a 24M)\n",
        "dfrecarga = ['QTD_SUPORTE_MOTIVO_20_M1', 'QTD_SUPORTE_MOTIVO_20_M3', 'QTD_SUPORTE_MOTIVO_20_M6', 'QTD_SUPORTE_MOTIVO_20_M12', 'QTD_SUPORTE_MOTIVO_20_M18', 'QTD_SUPORTE_MOTIVO_20_M24']\n",
        "df['TT_SUPORTE_MOTIVO_20'] = df[dfrecarga].sum(axis = 1)"
      ],
      "metadata": {
        "id": "MGXq7QFOMfPb"
      },
      "execution_count": 54,
      "outputs": []
    },
    {
      "cell_type": "code",
      "source": [
        "#Criando uma variavel 'QTD_SUPORTE_MOTIVO_21' a partir da soma das colunas de QTD_SUPORTE_MOTIVO_21 (1 a 24M)\n",
        "dfrecarga = ['QTD_SUPORTE_MOTIVO_21_M1', 'QTD_SUPORTE_MOTIVO_21_M3', 'QTD_SUPORTE_MOTIVO_21_M6', 'QTD_SUPORTE_MOTIVO_21_M12', 'QTD_SUPORTE_MOTIVO_21_M18', 'QTD_SUPORTE_MOTIVO_21_M24']\n",
        "df['TT_SUPORTE_MOTIVO_21'] = df[dfrecarga].sum(axis = 1)"
      ],
      "metadata": {
        "id": "Y-Yu2B-jMp7x"
      },
      "execution_count": 55,
      "outputs": []
    },
    {
      "cell_type": "code",
      "source": [
        "#Criando uma variavel 'QTD_SUPORTE_MOTIVO_22' a partir da soma das colunas de QTD_SUPORTE_MOTIVO_22 (1 a 24M)\n",
        "dfrecarga = ['QTD_SUPORTE_MOTIVO_22_M1', 'QTD_SUPORTE_MOTIVO_22_M3', 'QTD_SUPORTE_MOTIVO_22_M6', 'QTD_SUPORTE_MOTIVO_22_M12', 'QTD_SUPORTE_MOTIVO_22_M18', 'QTD_SUPORTE_MOTIVO_22_M24']\n",
        "df['TT_SUPORTE_MOTIVO_22'] = df[dfrecarga].sum(axis = 1)"
      ],
      "metadata": {
        "id": "TBKzPIGeMw78"
      },
      "execution_count": 56,
      "outputs": []
    },
    {
      "cell_type": "code",
      "source": [
        "#Criando uma variavel 'QTD_SUPORTE_MOTIVO_23' a partir da soma das colunas de QTD_SUPORTE_MOTIVO_23 (1 a 24M)\n",
        "dfrecarga = ['QTD_SUPORTE_MOTIVO_23_M1', 'QTD_SUPORTE_MOTIVO_23_M3', 'QTD_SUPORTE_MOTIVO_23_M6', 'QTD_SUPORTE_MOTIVO_23_M12', 'QTD_SUPORTE_MOTIVO_23_M18', 'QTD_SUPORTE_MOTIVO_23_M24']\n",
        "df['TT_SUPORTE_MOTIVO_23'] = df[dfrecarga].sum(axis = 1)"
      ],
      "metadata": {
        "id": "HBLFqecbM38m"
      },
      "execution_count": 57,
      "outputs": []
    },
    {
      "cell_type": "code",
      "source": [
        "#Criando uma variavel 'QTD_SUPORTE_MOTIVO_24' a partir da soma das colunas de QTD_SUPORTE_MOTIVO_24 (1 a 24M)\n",
        "dfrecarga = ['QTD_SUPORTE_MOTIVO_24_M1', 'QTD_SUPORTE_MOTIVO_24_M3', 'QTD_SUPORTE_MOTIVO_24_M6', 'QTD_SUPORTE_MOTIVO_24_M12', 'QTD_SUPORTE_MOTIVO_24_M18', 'QTD_SUPORTE_MOTIVO_24_M24']\n",
        "df['TT_SUPORTE_MOTIVO_24'] = df[dfrecarga].sum(axis = 1)"
      ],
      "metadata": {
        "id": "EmKxJUw-NAKT"
      },
      "execution_count": 58,
      "outputs": []
    },
    {
      "cell_type": "code",
      "source": [
        "#Criando uma variavel 'QTD_SUPORTE_MOTIVO_25' a partir da soma das colunas de QTD_SUPORTE_MOTIVO_25 (1 a 24M)\n",
        "dfrecarga = ['QTD_SUPORTE_MOTIVO_25_M1', 'QTD_SUPORTE_MOTIVO_25_M3', 'QTD_SUPORTE_MOTIVO_25_M6', 'QTD_SUPORTE_MOTIVO_25_M12', 'QTD_SUPORTE_MOTIVO_25_M18', 'QTD_SUPORTE_MOTIVO_25_M24']\n",
        "df['TT_SUPORTE_MOTIVO_25'] = df[dfrecarga].sum(axis = 1)"
      ],
      "metadata": {
        "id": "18PsXpfeNGhZ"
      },
      "execution_count": 59,
      "outputs": []
    },
    {
      "cell_type": "code",
      "source": [
        "#Visualizando as 5 primeiras linhas (Pos Tratamento)\n",
        "df.head()"
      ],
      "metadata": {
        "colab": {
          "base_uri": "https://localhost:8080/",
          "height": 317
        },
        "id": "fyfpLKEtPt9O",
        "outputId": "4071f4d8-d6a7-4791-d009-dfa539550115"
      },
      "execution_count": 60,
      "outputs": [
        {
          "output_type": "execute_result",
          "data": {
            "text/plain": [
              "   Unnamed: 0  CUSTOMER_ID  SERVICO_TELEFONE     CNAE PORTE ESTADO  \\\n",
              "0           0            1                 0  4661300    GG     SP   \n",
              "1           1            2                 0  3250701     M     SP   \n",
              "2           2            3                 0  3250705     P     SP   \n",
              "3           3            4                 0  4672900     P     SP   \n",
              "4           4            5                 0  4663000    GG     SP   \n",
              "\n",
              "   SERVICO_INTERNET  SERVICO_STREAMING  TENURE  QTD_CONTRATO  ...  \\\n",
              "0                 0                  0      28             1  ...   \n",
              "1                 0                  0      28             1  ...   \n",
              "2                 0                  0      28             1  ...   \n",
              "3                 0                  0      28             1  ...   \n",
              "4                 0                  0      28             1  ...   \n",
              "\n",
              "   TT_SUPORTE_MOTIVO_16  TT_SUPORTE_MOTIVO_17  TT_SUPORTE_MOTIVO_18  \\\n",
              "0                     0                     0                     0   \n",
              "1                     0                     0                     0   \n",
              "2                     0                     0                     0   \n",
              "3                     3                     0                     0   \n",
              "4                     0                     0                     0   \n",
              "\n",
              "   TT_SUPORTE_MOTIVO_19  TT_SUPORTE_MOTIVO_20  TT_SUPORTE_MOTIVO_21  \\\n",
              "0                     0                     0                     0   \n",
              "1                     0                     1                     0   \n",
              "2                     0                     0                     0   \n",
              "3                     0                     1                     0   \n",
              "4                     0                     0                     0   \n",
              "\n",
              "   TT_SUPORTE_MOTIVO_22  TT_SUPORTE_MOTIVO_23  TT_SUPORTE_MOTIVO_24  \\\n",
              "0                     2                     0                     0   \n",
              "1                    14                     0                     0   \n",
              "2                     3                     0                     0   \n",
              "3                     0                     0                     0   \n",
              "4                     4                     0                     1   \n",
              "\n",
              "   TT_SUPORTE_MOTIVO_25  \n",
              "0                     0  \n",
              "1                     0  \n",
              "2                     0  \n",
              "3                     2  \n",
              "4                     0  \n",
              "\n",
              "[5 rows x 238 columns]"
            ],
            "text/html": [
              "\n",
              "  <div id=\"df-cb838af8-2731-454c-8c61-9e95f90d8edc\">\n",
              "    <div class=\"colab-df-container\">\n",
              "      <div>\n",
              "<style scoped>\n",
              "    .dataframe tbody tr th:only-of-type {\n",
              "        vertical-align: middle;\n",
              "    }\n",
              "\n",
              "    .dataframe tbody tr th {\n",
              "        vertical-align: top;\n",
              "    }\n",
              "\n",
              "    .dataframe thead th {\n",
              "        text-align: right;\n",
              "    }\n",
              "</style>\n",
              "<table border=\"1\" class=\"dataframe\">\n",
              "  <thead>\n",
              "    <tr style=\"text-align: right;\">\n",
              "      <th></th>\n",
              "      <th>Unnamed: 0</th>\n",
              "      <th>CUSTOMER_ID</th>\n",
              "      <th>SERVICO_TELEFONE</th>\n",
              "      <th>CNAE</th>\n",
              "      <th>PORTE</th>\n",
              "      <th>ESTADO</th>\n",
              "      <th>SERVICO_INTERNET</th>\n",
              "      <th>SERVICO_STREAMING</th>\n",
              "      <th>TENURE</th>\n",
              "      <th>QTD_CONTRATO</th>\n",
              "      <th>...</th>\n",
              "      <th>TT_SUPORTE_MOTIVO_16</th>\n",
              "      <th>TT_SUPORTE_MOTIVO_17</th>\n",
              "      <th>TT_SUPORTE_MOTIVO_18</th>\n",
              "      <th>TT_SUPORTE_MOTIVO_19</th>\n",
              "      <th>TT_SUPORTE_MOTIVO_20</th>\n",
              "      <th>TT_SUPORTE_MOTIVO_21</th>\n",
              "      <th>TT_SUPORTE_MOTIVO_22</th>\n",
              "      <th>TT_SUPORTE_MOTIVO_23</th>\n",
              "      <th>TT_SUPORTE_MOTIVO_24</th>\n",
              "      <th>TT_SUPORTE_MOTIVO_25</th>\n",
              "    </tr>\n",
              "  </thead>\n",
              "  <tbody>\n",
              "    <tr>\n",
              "      <th>0</th>\n",
              "      <td>0</td>\n",
              "      <td>1</td>\n",
              "      <td>0</td>\n",
              "      <td>4661300</td>\n",
              "      <td>GG</td>\n",
              "      <td>SP</td>\n",
              "      <td>0</td>\n",
              "      <td>0</td>\n",
              "      <td>28</td>\n",
              "      <td>1</td>\n",
              "      <td>...</td>\n",
              "      <td>0</td>\n",
              "      <td>0</td>\n",
              "      <td>0</td>\n",
              "      <td>0</td>\n",
              "      <td>0</td>\n",
              "      <td>0</td>\n",
              "      <td>2</td>\n",
              "      <td>0</td>\n",
              "      <td>0</td>\n",
              "      <td>0</td>\n",
              "    </tr>\n",
              "    <tr>\n",
              "      <th>1</th>\n",
              "      <td>1</td>\n",
              "      <td>2</td>\n",
              "      <td>0</td>\n",
              "      <td>3250701</td>\n",
              "      <td>M</td>\n",
              "      <td>SP</td>\n",
              "      <td>0</td>\n",
              "      <td>0</td>\n",
              "      <td>28</td>\n",
              "      <td>1</td>\n",
              "      <td>...</td>\n",
              "      <td>0</td>\n",
              "      <td>0</td>\n",
              "      <td>0</td>\n",
              "      <td>0</td>\n",
              "      <td>1</td>\n",
              "      <td>0</td>\n",
              "      <td>14</td>\n",
              "      <td>0</td>\n",
              "      <td>0</td>\n",
              "      <td>0</td>\n",
              "    </tr>\n",
              "    <tr>\n",
              "      <th>2</th>\n",
              "      <td>2</td>\n",
              "      <td>3</td>\n",
              "      <td>0</td>\n",
              "      <td>3250705</td>\n",
              "      <td>P</td>\n",
              "      <td>SP</td>\n",
              "      <td>0</td>\n",
              "      <td>0</td>\n",
              "      <td>28</td>\n",
              "      <td>1</td>\n",
              "      <td>...</td>\n",
              "      <td>0</td>\n",
              "      <td>0</td>\n",
              "      <td>0</td>\n",
              "      <td>0</td>\n",
              "      <td>0</td>\n",
              "      <td>0</td>\n",
              "      <td>3</td>\n",
              "      <td>0</td>\n",
              "      <td>0</td>\n",
              "      <td>0</td>\n",
              "    </tr>\n",
              "    <tr>\n",
              "      <th>3</th>\n",
              "      <td>3</td>\n",
              "      <td>4</td>\n",
              "      <td>0</td>\n",
              "      <td>4672900</td>\n",
              "      <td>P</td>\n",
              "      <td>SP</td>\n",
              "      <td>0</td>\n",
              "      <td>0</td>\n",
              "      <td>28</td>\n",
              "      <td>1</td>\n",
              "      <td>...</td>\n",
              "      <td>3</td>\n",
              "      <td>0</td>\n",
              "      <td>0</td>\n",
              "      <td>0</td>\n",
              "      <td>1</td>\n",
              "      <td>0</td>\n",
              "      <td>0</td>\n",
              "      <td>0</td>\n",
              "      <td>0</td>\n",
              "      <td>2</td>\n",
              "    </tr>\n",
              "    <tr>\n",
              "      <th>4</th>\n",
              "      <td>4</td>\n",
              "      <td>5</td>\n",
              "      <td>0</td>\n",
              "      <td>4663000</td>\n",
              "      <td>GG</td>\n",
              "      <td>SP</td>\n",
              "      <td>0</td>\n",
              "      <td>0</td>\n",
              "      <td>28</td>\n",
              "      <td>1</td>\n",
              "      <td>...</td>\n",
              "      <td>0</td>\n",
              "      <td>0</td>\n",
              "      <td>0</td>\n",
              "      <td>0</td>\n",
              "      <td>0</td>\n",
              "      <td>0</td>\n",
              "      <td>4</td>\n",
              "      <td>0</td>\n",
              "      <td>1</td>\n",
              "      <td>0</td>\n",
              "    </tr>\n",
              "  </tbody>\n",
              "</table>\n",
              "<p>5 rows × 238 columns</p>\n",
              "</div>\n",
              "      <button class=\"colab-df-convert\" onclick=\"convertToInteractive('df-cb838af8-2731-454c-8c61-9e95f90d8edc')\"\n",
              "              title=\"Convert this dataframe to an interactive table.\"\n",
              "              style=\"display:none;\">\n",
              "        \n",
              "  <svg xmlns=\"http://www.w3.org/2000/svg\" height=\"24px\"viewBox=\"0 0 24 24\"\n",
              "       width=\"24px\">\n",
              "    <path d=\"M0 0h24v24H0V0z\" fill=\"none\"/>\n",
              "    <path d=\"M18.56 5.44l.94 2.06.94-2.06 2.06-.94-2.06-.94-.94-2.06-.94 2.06-2.06.94zm-11 1L8.5 8.5l.94-2.06 2.06-.94-2.06-.94L8.5 2.5l-.94 2.06-2.06.94zm10 10l.94 2.06.94-2.06 2.06-.94-2.06-.94-.94-2.06-.94 2.06-2.06.94z\"/><path d=\"M17.41 7.96l-1.37-1.37c-.4-.4-.92-.59-1.43-.59-.52 0-1.04.2-1.43.59L10.3 9.45l-7.72 7.72c-.78.78-.78 2.05 0 2.83L4 21.41c.39.39.9.59 1.41.59.51 0 1.02-.2 1.41-.59l7.78-7.78 2.81-2.81c.8-.78.8-2.07 0-2.86zM5.41 20L4 18.59l7.72-7.72 1.47 1.35L5.41 20z\"/>\n",
              "  </svg>\n",
              "      </button>\n",
              "      \n",
              "  <style>\n",
              "    .colab-df-container {\n",
              "      display:flex;\n",
              "      flex-wrap:wrap;\n",
              "      gap: 12px;\n",
              "    }\n",
              "\n",
              "    .colab-df-convert {\n",
              "      background-color: #E8F0FE;\n",
              "      border: none;\n",
              "      border-radius: 50%;\n",
              "      cursor: pointer;\n",
              "      display: none;\n",
              "      fill: #1967D2;\n",
              "      height: 32px;\n",
              "      padding: 0 0 0 0;\n",
              "      width: 32px;\n",
              "    }\n",
              "\n",
              "    .colab-df-convert:hover {\n",
              "      background-color: #E2EBFA;\n",
              "      box-shadow: 0px 1px 2px rgba(60, 64, 67, 0.3), 0px 1px 3px 1px rgba(60, 64, 67, 0.15);\n",
              "      fill: #174EA6;\n",
              "    }\n",
              "\n",
              "    [theme=dark] .colab-df-convert {\n",
              "      background-color: #3B4455;\n",
              "      fill: #D2E3FC;\n",
              "    }\n",
              "\n",
              "    [theme=dark] .colab-df-convert:hover {\n",
              "      background-color: #434B5C;\n",
              "      box-shadow: 0px 1px 3px 1px rgba(0, 0, 0, 0.15);\n",
              "      filter: drop-shadow(0px 1px 2px rgba(0, 0, 0, 0.3));\n",
              "      fill: #FFFFFF;\n",
              "    }\n",
              "  </style>\n",
              "\n",
              "      <script>\n",
              "        const buttonEl =\n",
              "          document.querySelector('#df-cb838af8-2731-454c-8c61-9e95f90d8edc button.colab-df-convert');\n",
              "        buttonEl.style.display =\n",
              "          google.colab.kernel.accessAllowed ? 'block' : 'none';\n",
              "\n",
              "        async function convertToInteractive(key) {\n",
              "          const element = document.querySelector('#df-cb838af8-2731-454c-8c61-9e95f90d8edc');\n",
              "          const dataTable =\n",
              "            await google.colab.kernel.invokeFunction('convertToInteractive',\n",
              "                                                     [key], {});\n",
              "          if (!dataTable) return;\n",
              "\n",
              "          const docLinkHtml = 'Like what you see? Visit the ' +\n",
              "            '<a target=\"_blank\" href=https://colab.research.google.com/notebooks/data_table.ipynb>data table notebook</a>'\n",
              "            + ' to learn more about interactive tables.';\n",
              "          element.innerHTML = '';\n",
              "          dataTable['output_type'] = 'display_data';\n",
              "          await google.colab.output.renderOutput(dataTable, element);\n",
              "          const docLink = document.createElement('div');\n",
              "          docLink.innerHTML = docLinkHtml;\n",
              "          element.appendChild(docLink);\n",
              "        }\n",
              "      </script>\n",
              "    </div>\n",
              "  </div>\n",
              "  "
            ]
          },
          "metadata": {},
          "execution_count": 60
        }
      ]
    },
    {
      "cell_type": "markdown",
      "source": [
        "Na secao de **Analise Exploratoria dos Dados** identificamos tambem a possibilidade de excluir colunas **'Unnamed: 0'** e **CUSTOMER_ID**, pois nao serao utilizadas como variaveis explicativas para o modelo. Vamos aproveitar e excluir as colunas que estavam abertas por mes."
      ],
      "metadata": {
        "id": "lDSv3nHWXWJC"
      }
    },
    {
      "cell_type": "code",
      "source": [
        "#Removendo as colunas 'Unnamed: 0', 'CUSTOMER_ID', 'QTD_RECARGAS_M1', 'VLR_RECARGAS_M1' e 'QTD_SUPORTE_MOTIVO_1' a 'QTD_SUPORTE_MOTIVO_25'.\n",
        "df.drop(['Unnamed: 0', 'CUSTOMER_ID', 'QTD_RECARGAS_M1', 'QTD_RECARGAS_M2', 'QTD_RECARGAS_M3', 'QTD_RECARGAS_M4', 'QTD_RECARGAS_M5', 'QTD_RECARGAS_M6', 'QTD_RECARGAS_M7', 'QTD_RECARGAS_M8', 'QTD_RECARGAS_M9', 'QTD_RECARGAS_M10', 'QTD_RECARGAS_M11', 'QTD_RECARGAS_M12', 'QTD_RECARGAS_M13', 'QTD_RECARGAS_M14', 'QTD_RECARGAS_M15', 'QTD_RECARGAS_M16', 'QTD_RECARGAS_M17', 'QTD_RECARGAS_M18', 'QTD_RECARGAS_M19', 'QTD_RECARGAS_M20', 'QTD_RECARGAS_M21', 'QTD_RECARGAS_M22', 'QTD_RECARGAS_M23', 'QTD_RECARGAS_M24', \n",
        "         'VLR_RECARGAS_M1', 'VLR_RECARGAS_M2', 'VLR_RECARGAS_M3', 'VLR_RECARGAS_M4', 'VLR_RECARGAS_M5', 'VLR_RECARGAS_M6', 'VLR_RECARGAS_M7', 'VLR_RECARGAS_M8', 'VLR_RECARGAS_M9', 'VLR_RECARGAS_M10', 'VLR_RECARGAS_M11', 'VLR_RECARGAS_M12', 'VLR_RECARGAS_M13', 'VLR_RECARGAS_M14', 'VLR_RECARGAS_M15', 'VLR_RECARGAS_M16', 'VLR_RECARGAS_M17', 'VLR_RECARGAS_M18', 'VLR_RECARGAS_M19', 'VLR_RECARGAS_M20', 'VLR_RECARGAS_M21', 'VLR_RECARGAS_M22', 'VLR_RECARGAS_M23', 'VLR_RECARGAS_M24',\n",
        "         'QTD_SUPORTE_MOTIVO_1_M1', 'QTD_SUPORTE_MOTIVO_1_M3', 'QTD_SUPORTE_MOTIVO_1_M6', 'QTD_SUPORTE_MOTIVO_1_M12', 'QTD_SUPORTE_MOTIVO_1_M18', 'QTD_SUPORTE_MOTIVO_1_M24', 'QTD_SUPORTE_MOTIVO_2_M1', 'QTD_SUPORTE_MOTIVO_2_M3', 'QTD_SUPORTE_MOTIVO_2_M6', 'QTD_SUPORTE_MOTIVO_2_M12', 'QTD_SUPORTE_MOTIVO_2_M18', 'QTD_SUPORTE_MOTIVO_2_M24', 'QTD_SUPORTE_MOTIVO_3_M1', 'QTD_SUPORTE_MOTIVO_3_M3', 'QTD_SUPORTE_MOTIVO_3_M6', 'QTD_SUPORTE_MOTIVO_3_M12', 'QTD_SUPORTE_MOTIVO_3_M18', 'QTD_SUPORTE_MOTIVO_3_M24', \n",
        "         'QTD_SUPORTE_MOTIVO_4_M1', 'QTD_SUPORTE_MOTIVO_4_M3', 'QTD_SUPORTE_MOTIVO_4_M6', 'QTD_SUPORTE_MOTIVO_4_M12', 'QTD_SUPORTE_MOTIVO_4_M18', 'QTD_SUPORTE_MOTIVO_4_M24', 'QTD_SUPORTE_MOTIVO_5_M1', 'QTD_SUPORTE_MOTIVO_5_M3', 'QTD_SUPORTE_MOTIVO_5_M6', 'QTD_SUPORTE_MOTIVO_5_M12', 'QTD_SUPORTE_MOTIVO_5_M18', 'QTD_SUPORTE_MOTIVO_5_M24', 'QTD_SUPORTE_MOTIVO_6_M1', 'QTD_SUPORTE_MOTIVO_6_M3', 'QTD_SUPORTE_MOTIVO_6_M6', 'QTD_SUPORTE_MOTIVO_6_M12', 'QTD_SUPORTE_MOTIVO_6_M18', 'QTD_SUPORTE_MOTIVO_6_M24', \n",
        "         'QTD_SUPORTE_MOTIVO_7_M1', 'QTD_SUPORTE_MOTIVO_7_M3', 'QTD_SUPORTE_MOTIVO_7_M6', 'QTD_SUPORTE_MOTIVO_7_M12', 'QTD_SUPORTE_MOTIVO_7_M18', 'QTD_SUPORTE_MOTIVO_7_M24', 'QTD_SUPORTE_MOTIVO_8_M1', 'QTD_SUPORTE_MOTIVO_8_M3', 'QTD_SUPORTE_MOTIVO_8_M6', 'QTD_SUPORTE_MOTIVO_8_M12', 'QTD_SUPORTE_MOTIVO_8_M18', 'QTD_SUPORTE_MOTIVO_8_M24', 'QTD_SUPORTE_MOTIVO_9_M1', 'QTD_SUPORTE_MOTIVO_9_M3', 'QTD_SUPORTE_MOTIVO_9_M6', 'QTD_SUPORTE_MOTIVO_9_M12', 'QTD_SUPORTE_MOTIVO_9_M18', 'QTD_SUPORTE_MOTIVO_9_M24', \n",
        "         'QTD_SUPORTE_MOTIVO_10_M1', 'QTD_SUPORTE_MOTIVO_10_M3', 'QTD_SUPORTE_MOTIVO_10_M6', 'QTD_SUPORTE_MOTIVO_10_M12', 'QTD_SUPORTE_MOTIVO_10_M18', 'QTD_SUPORTE_MOTIVO_10_M24', 'QTD_SUPORTE_MOTIVO_11_M1', 'QTD_SUPORTE_MOTIVO_11_M3', 'QTD_SUPORTE_MOTIVO_11_M6', 'QTD_SUPORTE_MOTIVO_11_M12', 'QTD_SUPORTE_MOTIVO_11_M18', 'QTD_SUPORTE_MOTIVO_11_M24', 'QTD_SUPORTE_MOTIVO_12_M1', 'QTD_SUPORTE_MOTIVO_12_M3', 'QTD_SUPORTE_MOTIVO_12_M6', 'QTD_SUPORTE_MOTIVO_12_M12', 'QTD_SUPORTE_MOTIVO_12_M18', 'QTD_SUPORTE_MOTIVO_12_M24', \n",
        "         'QTD_SUPORTE_MOTIVO_13_M1', 'QTD_SUPORTE_MOTIVO_13_M3', 'QTD_SUPORTE_MOTIVO_13_M6', 'QTD_SUPORTE_MOTIVO_13_M12', 'QTD_SUPORTE_MOTIVO_13_M18', 'QTD_SUPORTE_MOTIVO_13_M24', 'QTD_SUPORTE_MOTIVO_14_M1', 'QTD_SUPORTE_MOTIVO_14_M3', 'QTD_SUPORTE_MOTIVO_14_M6', 'QTD_SUPORTE_MOTIVO_14_M12', 'QTD_SUPORTE_MOTIVO_14_M18', 'QTD_SUPORTE_MOTIVO_14_M24', 'QTD_SUPORTE_MOTIVO_15_M1', 'QTD_SUPORTE_MOTIVO_15_M3', 'QTD_SUPORTE_MOTIVO_15_M6', 'QTD_SUPORTE_MOTIVO_15_M12', 'QTD_SUPORTE_MOTIVO_15_M18', 'QTD_SUPORTE_MOTIVO_15_M24', \n",
        "         'QTD_SUPORTE_MOTIVO_16_M1', 'QTD_SUPORTE_MOTIVO_16_M3', 'QTD_SUPORTE_MOTIVO_16_M6', 'QTD_SUPORTE_MOTIVO_16_M12', 'QTD_SUPORTE_MOTIVO_16_M18', 'QTD_SUPORTE_MOTIVO_16_M24', 'QTD_SUPORTE_MOTIVO_17_M1', 'QTD_SUPORTE_MOTIVO_17_M3', 'QTD_SUPORTE_MOTIVO_17_M6', 'QTD_SUPORTE_MOTIVO_17_M12', 'QTD_SUPORTE_MOTIVO_17_M18', 'QTD_SUPORTE_MOTIVO_17_M24', 'QTD_SUPORTE_MOTIVO_18_M1', 'QTD_SUPORTE_MOTIVO_18_M3', 'QTD_SUPORTE_MOTIVO_18_M6', 'QTD_SUPORTE_MOTIVO_18_M12', 'QTD_SUPORTE_MOTIVO_18_M18', 'QTD_SUPORTE_MOTIVO_18_M24', \n",
        "         'QTD_SUPORTE_MOTIVO_19_M1', 'QTD_SUPORTE_MOTIVO_19_M3', 'QTD_SUPORTE_MOTIVO_19_M6', 'QTD_SUPORTE_MOTIVO_19_M12', 'QTD_SUPORTE_MOTIVO_19_M18', 'QTD_SUPORTE_MOTIVO_19_M24', 'QTD_SUPORTE_MOTIVO_20_M1', 'QTD_SUPORTE_MOTIVO_20_M3', 'QTD_SUPORTE_MOTIVO_20_M6', 'QTD_SUPORTE_MOTIVO_20_M12', 'QTD_SUPORTE_MOTIVO_20_M18', 'QTD_SUPORTE_MOTIVO_20_M24', 'QTD_SUPORTE_MOTIVO_21_M1', 'QTD_SUPORTE_MOTIVO_21_M3', 'QTD_SUPORTE_MOTIVO_21_M6', 'QTD_SUPORTE_MOTIVO_21_M12', 'QTD_SUPORTE_MOTIVO_21_M18', 'QTD_SUPORTE_MOTIVO_21_M24', \n",
        "         'QTD_SUPORTE_MOTIVO_22_M1', 'QTD_SUPORTE_MOTIVO_22_M3', 'QTD_SUPORTE_MOTIVO_22_M6', 'QTD_SUPORTE_MOTIVO_22_M12', 'QTD_SUPORTE_MOTIVO_22_M18', 'QTD_SUPORTE_MOTIVO_22_M24', 'QTD_SUPORTE_MOTIVO_23_M1', 'QTD_SUPORTE_MOTIVO_23_M3', 'QTD_SUPORTE_MOTIVO_23_M6', 'QTD_SUPORTE_MOTIVO_23_M12', 'QTD_SUPORTE_MOTIVO_23_M18', 'QTD_SUPORTE_MOTIVO_23_M24', 'QTD_SUPORTE_MOTIVO_24_M1', 'QTD_SUPORTE_MOTIVO_24_M3', 'QTD_SUPORTE_MOTIVO_24_M6', 'QTD_SUPORTE_MOTIVO_24_M12', 'QTD_SUPORTE_MOTIVO_24_M18', 'QTD_SUPORTE_MOTIVO_24_M24', \n",
        "         'QTD_SUPORTE_MOTIVO_25_M1', 'QTD_SUPORTE_MOTIVO_25_M3', 'QTD_SUPORTE_MOTIVO_25_M6', 'QTD_SUPORTE_MOTIVO_25_M12', 'QTD_SUPORTE_MOTIVO_25_M18', 'QTD_SUPORTE_MOTIVO_25_M24'], axis = 1, inplace = True)\n",
        "df.head()"
      ],
      "metadata": {
        "id": "mJMBZwI9gLTD",
        "colab": {
          "base_uri": "https://localhost:8080/",
          "height": 299
        },
        "outputId": "9fbdfed5-0e7c-4f44-8f35-59153616c248"
      },
      "execution_count": 61,
      "outputs": [
        {
          "output_type": "execute_result",
          "data": {
            "text/plain": [
              "   SERVICO_TELEFONE     CNAE PORTE ESTADO  SERVICO_INTERNET  \\\n",
              "0                 0  4661300    GG     SP                 0   \n",
              "1                 0  3250701     M     SP                 0   \n",
              "2                 0  3250705     P     SP                 0   \n",
              "3                 0  4672900     P     SP                 0   \n",
              "4                 0  4663000    GG     SP                 0   \n",
              "\n",
              "   SERVICO_STREAMING  TENURE  QTD_CONTRATO  TEMPO_MESES_CONTRATO  \\\n",
              "0                  0      28             1                    98   \n",
              "1                  0      28             1                    72   \n",
              "2                  0      28             1                    86   \n",
              "3                  0      28             1                   218   \n",
              "4                  0      28             1                    91   \n",
              "\n",
              "   VALOR_MEDIO_PLANO  ...  TT_SUPORTE_MOTIVO_16  TT_SUPORTE_MOTIVO_17  \\\n",
              "0          8268.7500  ...                     0                     0   \n",
              "1          2520.3875  ...                     0                     0   \n",
              "2          1895.4125  ...                     0                     0   \n",
              "3           412.5000  ...                     3                     0   \n",
              "4          7361.2500  ...                     0                     0   \n",
              "\n",
              "   TT_SUPORTE_MOTIVO_18  TT_SUPORTE_MOTIVO_19  TT_SUPORTE_MOTIVO_20  \\\n",
              "0                     0                     0                     0   \n",
              "1                     0                     0                     1   \n",
              "2                     0                     0                     0   \n",
              "3                     0                     0                     1   \n",
              "4                     0                     0                     0   \n",
              "\n",
              "   TT_SUPORTE_MOTIVO_21  TT_SUPORTE_MOTIVO_22  TT_SUPORTE_MOTIVO_23  \\\n",
              "0                     0                     2                     0   \n",
              "1                     0                    14                     0   \n",
              "2                     0                     3                     0   \n",
              "3                     0                     0                     0   \n",
              "4                     0                     4                     0   \n",
              "\n",
              "   TT_SUPORTE_MOTIVO_24  TT_SUPORTE_MOTIVO_25  \n",
              "0                     0                     0  \n",
              "1                     0                     0  \n",
              "2                     0                     0  \n",
              "3                     0                     2  \n",
              "4                     1                     0  \n",
              "\n",
              "[5 rows x 38 columns]"
            ],
            "text/html": [
              "\n",
              "  <div id=\"df-c319b7e4-be4e-407d-84a0-be6a9913019c\">\n",
              "    <div class=\"colab-df-container\">\n",
              "      <div>\n",
              "<style scoped>\n",
              "    .dataframe tbody tr th:only-of-type {\n",
              "        vertical-align: middle;\n",
              "    }\n",
              "\n",
              "    .dataframe tbody tr th {\n",
              "        vertical-align: top;\n",
              "    }\n",
              "\n",
              "    .dataframe thead th {\n",
              "        text-align: right;\n",
              "    }\n",
              "</style>\n",
              "<table border=\"1\" class=\"dataframe\">\n",
              "  <thead>\n",
              "    <tr style=\"text-align: right;\">\n",
              "      <th></th>\n",
              "      <th>SERVICO_TELEFONE</th>\n",
              "      <th>CNAE</th>\n",
              "      <th>PORTE</th>\n",
              "      <th>ESTADO</th>\n",
              "      <th>SERVICO_INTERNET</th>\n",
              "      <th>SERVICO_STREAMING</th>\n",
              "      <th>TENURE</th>\n",
              "      <th>QTD_CONTRATO</th>\n",
              "      <th>TEMPO_MESES_CONTRATO</th>\n",
              "      <th>VALOR_MEDIO_PLANO</th>\n",
              "      <th>...</th>\n",
              "      <th>TT_SUPORTE_MOTIVO_16</th>\n",
              "      <th>TT_SUPORTE_MOTIVO_17</th>\n",
              "      <th>TT_SUPORTE_MOTIVO_18</th>\n",
              "      <th>TT_SUPORTE_MOTIVO_19</th>\n",
              "      <th>TT_SUPORTE_MOTIVO_20</th>\n",
              "      <th>TT_SUPORTE_MOTIVO_21</th>\n",
              "      <th>TT_SUPORTE_MOTIVO_22</th>\n",
              "      <th>TT_SUPORTE_MOTIVO_23</th>\n",
              "      <th>TT_SUPORTE_MOTIVO_24</th>\n",
              "      <th>TT_SUPORTE_MOTIVO_25</th>\n",
              "    </tr>\n",
              "  </thead>\n",
              "  <tbody>\n",
              "    <tr>\n",
              "      <th>0</th>\n",
              "      <td>0</td>\n",
              "      <td>4661300</td>\n",
              "      <td>GG</td>\n",
              "      <td>SP</td>\n",
              "      <td>0</td>\n",
              "      <td>0</td>\n",
              "      <td>28</td>\n",
              "      <td>1</td>\n",
              "      <td>98</td>\n",
              "      <td>8268.7500</td>\n",
              "      <td>...</td>\n",
              "      <td>0</td>\n",
              "      <td>0</td>\n",
              "      <td>0</td>\n",
              "      <td>0</td>\n",
              "      <td>0</td>\n",
              "      <td>0</td>\n",
              "      <td>2</td>\n",
              "      <td>0</td>\n",
              "      <td>0</td>\n",
              "      <td>0</td>\n",
              "    </tr>\n",
              "    <tr>\n",
              "      <th>1</th>\n",
              "      <td>0</td>\n",
              "      <td>3250701</td>\n",
              "      <td>M</td>\n",
              "      <td>SP</td>\n",
              "      <td>0</td>\n",
              "      <td>0</td>\n",
              "      <td>28</td>\n",
              "      <td>1</td>\n",
              "      <td>72</td>\n",
              "      <td>2520.3875</td>\n",
              "      <td>...</td>\n",
              "      <td>0</td>\n",
              "      <td>0</td>\n",
              "      <td>0</td>\n",
              "      <td>0</td>\n",
              "      <td>1</td>\n",
              "      <td>0</td>\n",
              "      <td>14</td>\n",
              "      <td>0</td>\n",
              "      <td>0</td>\n",
              "      <td>0</td>\n",
              "    </tr>\n",
              "    <tr>\n",
              "      <th>2</th>\n",
              "      <td>0</td>\n",
              "      <td>3250705</td>\n",
              "      <td>P</td>\n",
              "      <td>SP</td>\n",
              "      <td>0</td>\n",
              "      <td>0</td>\n",
              "      <td>28</td>\n",
              "      <td>1</td>\n",
              "      <td>86</td>\n",
              "      <td>1895.4125</td>\n",
              "      <td>...</td>\n",
              "      <td>0</td>\n",
              "      <td>0</td>\n",
              "      <td>0</td>\n",
              "      <td>0</td>\n",
              "      <td>0</td>\n",
              "      <td>0</td>\n",
              "      <td>3</td>\n",
              "      <td>0</td>\n",
              "      <td>0</td>\n",
              "      <td>0</td>\n",
              "    </tr>\n",
              "    <tr>\n",
              "      <th>3</th>\n",
              "      <td>0</td>\n",
              "      <td>4672900</td>\n",
              "      <td>P</td>\n",
              "      <td>SP</td>\n",
              "      <td>0</td>\n",
              "      <td>0</td>\n",
              "      <td>28</td>\n",
              "      <td>1</td>\n",
              "      <td>218</td>\n",
              "      <td>412.5000</td>\n",
              "      <td>...</td>\n",
              "      <td>3</td>\n",
              "      <td>0</td>\n",
              "      <td>0</td>\n",
              "      <td>0</td>\n",
              "      <td>1</td>\n",
              "      <td>0</td>\n",
              "      <td>0</td>\n",
              "      <td>0</td>\n",
              "      <td>0</td>\n",
              "      <td>2</td>\n",
              "    </tr>\n",
              "    <tr>\n",
              "      <th>4</th>\n",
              "      <td>0</td>\n",
              "      <td>4663000</td>\n",
              "      <td>GG</td>\n",
              "      <td>SP</td>\n",
              "      <td>0</td>\n",
              "      <td>0</td>\n",
              "      <td>28</td>\n",
              "      <td>1</td>\n",
              "      <td>91</td>\n",
              "      <td>7361.2500</td>\n",
              "      <td>...</td>\n",
              "      <td>0</td>\n",
              "      <td>0</td>\n",
              "      <td>0</td>\n",
              "      <td>0</td>\n",
              "      <td>0</td>\n",
              "      <td>0</td>\n",
              "      <td>4</td>\n",
              "      <td>0</td>\n",
              "      <td>1</td>\n",
              "      <td>0</td>\n",
              "    </tr>\n",
              "  </tbody>\n",
              "</table>\n",
              "<p>5 rows × 38 columns</p>\n",
              "</div>\n",
              "      <button class=\"colab-df-convert\" onclick=\"convertToInteractive('df-c319b7e4-be4e-407d-84a0-be6a9913019c')\"\n",
              "              title=\"Convert this dataframe to an interactive table.\"\n",
              "              style=\"display:none;\">\n",
              "        \n",
              "  <svg xmlns=\"http://www.w3.org/2000/svg\" height=\"24px\"viewBox=\"0 0 24 24\"\n",
              "       width=\"24px\">\n",
              "    <path d=\"M0 0h24v24H0V0z\" fill=\"none\"/>\n",
              "    <path d=\"M18.56 5.44l.94 2.06.94-2.06 2.06-.94-2.06-.94-.94-2.06-.94 2.06-2.06.94zm-11 1L8.5 8.5l.94-2.06 2.06-.94-2.06-.94L8.5 2.5l-.94 2.06-2.06.94zm10 10l.94 2.06.94-2.06 2.06-.94-2.06-.94-.94-2.06-.94 2.06-2.06.94z\"/><path d=\"M17.41 7.96l-1.37-1.37c-.4-.4-.92-.59-1.43-.59-.52 0-1.04.2-1.43.59L10.3 9.45l-7.72 7.72c-.78.78-.78 2.05 0 2.83L4 21.41c.39.39.9.59 1.41.59.51 0 1.02-.2 1.41-.59l7.78-7.78 2.81-2.81c.8-.78.8-2.07 0-2.86zM5.41 20L4 18.59l7.72-7.72 1.47 1.35L5.41 20z\"/>\n",
              "  </svg>\n",
              "      </button>\n",
              "      \n",
              "  <style>\n",
              "    .colab-df-container {\n",
              "      display:flex;\n",
              "      flex-wrap:wrap;\n",
              "      gap: 12px;\n",
              "    }\n",
              "\n",
              "    .colab-df-convert {\n",
              "      background-color: #E8F0FE;\n",
              "      border: none;\n",
              "      border-radius: 50%;\n",
              "      cursor: pointer;\n",
              "      display: none;\n",
              "      fill: #1967D2;\n",
              "      height: 32px;\n",
              "      padding: 0 0 0 0;\n",
              "      width: 32px;\n",
              "    }\n",
              "\n",
              "    .colab-df-convert:hover {\n",
              "      background-color: #E2EBFA;\n",
              "      box-shadow: 0px 1px 2px rgba(60, 64, 67, 0.3), 0px 1px 3px 1px rgba(60, 64, 67, 0.15);\n",
              "      fill: #174EA6;\n",
              "    }\n",
              "\n",
              "    [theme=dark] .colab-df-convert {\n",
              "      background-color: #3B4455;\n",
              "      fill: #D2E3FC;\n",
              "    }\n",
              "\n",
              "    [theme=dark] .colab-df-convert:hover {\n",
              "      background-color: #434B5C;\n",
              "      box-shadow: 0px 1px 3px 1px rgba(0, 0, 0, 0.15);\n",
              "      filter: drop-shadow(0px 1px 2px rgba(0, 0, 0, 0.3));\n",
              "      fill: #FFFFFF;\n",
              "    }\n",
              "  </style>\n",
              "\n",
              "      <script>\n",
              "        const buttonEl =\n",
              "          document.querySelector('#df-c319b7e4-be4e-407d-84a0-be6a9913019c button.colab-df-convert');\n",
              "        buttonEl.style.display =\n",
              "          google.colab.kernel.accessAllowed ? 'block' : 'none';\n",
              "\n",
              "        async function convertToInteractive(key) {\n",
              "          const element = document.querySelector('#df-c319b7e4-be4e-407d-84a0-be6a9913019c');\n",
              "          const dataTable =\n",
              "            await google.colab.kernel.invokeFunction('convertToInteractive',\n",
              "                                                     [key], {});\n",
              "          if (!dataTable) return;\n",
              "\n",
              "          const docLinkHtml = 'Like what you see? Visit the ' +\n",
              "            '<a target=\"_blank\" href=https://colab.research.google.com/notebooks/data_table.ipynb>data table notebook</a>'\n",
              "            + ' to learn more about interactive tables.';\n",
              "          element.innerHTML = '';\n",
              "          dataTable['output_type'] = 'display_data';\n",
              "          await google.colab.output.renderOutput(dataTable, element);\n",
              "          const docLink = document.createElement('div');\n",
              "          docLink.innerHTML = docLinkHtml;\n",
              "          element.appendChild(docLink);\n",
              "        }\n",
              "      </script>\n",
              "    </div>\n",
              "  </div>\n",
              "  "
            ]
          },
          "metadata": {},
          "execution_count": 61
        }
      ]
    },
    {
      "cell_type": "code",
      "source": [
        "#Verificando a nova estrutura de Colunas do dataset\n",
        "list(df.columns)"
      ],
      "metadata": {
        "colab": {
          "base_uri": "https://localhost:8080/"
        },
        "id": "yRNTLv6SSFcE",
        "outputId": "2a446aca-b362-427b-bb26-bc446b388fe3"
      },
      "execution_count": 62,
      "outputs": [
        {
          "output_type": "execute_result",
          "data": {
            "text/plain": [
              "['SERVICO_TELEFONE',\n",
              " 'CNAE',\n",
              " 'PORTE',\n",
              " 'ESTADO',\n",
              " 'SERVICO_INTERNET',\n",
              " 'SERVICO_STREAMING',\n",
              " 'TENURE',\n",
              " 'QTD_CONTRATO',\n",
              " 'TEMPO_MESES_CONTRATO',\n",
              " 'VALOR_MEDIO_PLANO',\n",
              " 'TARGET',\n",
              " 'QTD_TOTAL_RECARGAS',\n",
              " 'VLR_TOTAL_RECARGAS',\n",
              " 'TT_SUPORTE_MOTIVO_1',\n",
              " 'TT_SUPORTE_MOTIVO_2',\n",
              " 'TT_SUPORTE_MOTIVO_3',\n",
              " 'TT_SUPORTE_MOTIVO_4',\n",
              " 'TT_SUPORTE_MOTIVO_5',\n",
              " 'TT_SUPORTE_MOTIVO_6',\n",
              " 'TT_SUPORTE_MOTIVO_7',\n",
              " 'TT_SUPORTE_MOTIVO_8',\n",
              " 'TT_SUPORTE_MOTIVO_9',\n",
              " 'TT_SUPORTE_MOTIVO_10',\n",
              " 'TT_SUPORTE_MOTIVO_11',\n",
              " 'TT_SUPORTE_MOTIVO_12',\n",
              " 'TT_SUPORTE_MOTIVO_13',\n",
              " 'TT_SUPORTE_MOTIVO_14',\n",
              " 'TT_SUPORTE_MOTIVO_15',\n",
              " 'TT_SUPORTE_MOTIVO_16',\n",
              " 'TT_SUPORTE_MOTIVO_17',\n",
              " 'TT_SUPORTE_MOTIVO_18',\n",
              " 'TT_SUPORTE_MOTIVO_19',\n",
              " 'TT_SUPORTE_MOTIVO_20',\n",
              " 'TT_SUPORTE_MOTIVO_21',\n",
              " 'TT_SUPORTE_MOTIVO_22',\n",
              " 'TT_SUPORTE_MOTIVO_23',\n",
              " 'TT_SUPORTE_MOTIVO_24',\n",
              " 'TT_SUPORTE_MOTIVO_25']"
            ]
          },
          "metadata": {},
          "execution_count": 62
        }
      ]
    },
    {
      "cell_type": "markdown",
      "source": [
        "Outra oportunidade identificada na secao de **Analise Exploratoria dos Dados** foi a necessidade de transformar as variaveis categoricas **'PORTE'**, **'ESTADO'** e **'CNAE'** em dummies (numericas)."
      ],
      "metadata": {
        "id": "_o7pBkeNZ6U6"
      }
    },
    {
      "cell_type": "code",
      "source": [
        "#Transformando as variaveis categoricas em dummies\n",
        "df = pd.get_dummies(data = df, columns =['PORTE', 'ESTADO', 'CNAE'])\n",
        "df.head()"
      ],
      "metadata": {
        "colab": {
          "base_uri": "https://localhost:8080/",
          "height": 299
        },
        "id": "UBLiznQ9cKYn",
        "outputId": "4adb5367-a679-4621-f5d0-2c253541eac1"
      },
      "execution_count": 64,
      "outputs": [
        {
          "output_type": "execute_result",
          "data": {
            "text/plain": [
              "   SERVICO_TELEFONE  SERVICO_INTERNET  SERVICO_STREAMING  TENURE  \\\n",
              "0                 0                 0                  0      28   \n",
              "1                 0                 0                  0      28   \n",
              "2                 0                 0                  0      28   \n",
              "3                 0                 0                  0      28   \n",
              "4                 0                 0                  0      28   \n",
              "\n",
              "   QTD_CONTRATO  TEMPO_MESES_CONTRATO  VALOR_MEDIO_PLANO  TARGET  \\\n",
              "0             1                    98          8268.7500       0   \n",
              "1             1                    72          2520.3875       0   \n",
              "2             1                    86          1895.4125       0   \n",
              "3             1                   218           412.5000       0   \n",
              "4             1                    91          7361.2500       0   \n",
              "\n",
              "   QTD_TOTAL_RECARGAS  VLR_TOTAL_RECARGAS  ...  CNAE_910600  CNAE_9312300  \\\n",
              "0             2003562          225217.225  ...            0             0   \n",
              "1              154596           47556.300  ...            0             0   \n",
              "2              118392           41309.525  ...            0             0   \n",
              "3              546614          148882.525  ...            0             0   \n",
              "4              782058          230370.400  ...            0             0   \n",
              "\n",
              "   CNAE_9412001  CNAE_9412099  CNAE_9420100  CNAE_9430800  CNAE_9491000  \\\n",
              "0             0             0             0             0             0   \n",
              "1             0             0             0             0             0   \n",
              "2             0             0             0             0             0   \n",
              "3             0             0             0             0             0   \n",
              "4             0             0             0             0             0   \n",
              "\n",
              "   CNAE_9499500  CNAE_9511800  CNAE_9900800  \n",
              "0             0             0             0  \n",
              "1             0             0             0  \n",
              "2             0             0             0  \n",
              "3             0             0             0  \n",
              "4             0             0             0  \n",
              "\n",
              "[5 rows x 528 columns]"
            ],
            "text/html": [
              "\n",
              "  <div id=\"df-ad53c3d2-61cb-44ba-93bf-fa30218ddd03\">\n",
              "    <div class=\"colab-df-container\">\n",
              "      <div>\n",
              "<style scoped>\n",
              "    .dataframe tbody tr th:only-of-type {\n",
              "        vertical-align: middle;\n",
              "    }\n",
              "\n",
              "    .dataframe tbody tr th {\n",
              "        vertical-align: top;\n",
              "    }\n",
              "\n",
              "    .dataframe thead th {\n",
              "        text-align: right;\n",
              "    }\n",
              "</style>\n",
              "<table border=\"1\" class=\"dataframe\">\n",
              "  <thead>\n",
              "    <tr style=\"text-align: right;\">\n",
              "      <th></th>\n",
              "      <th>SERVICO_TELEFONE</th>\n",
              "      <th>SERVICO_INTERNET</th>\n",
              "      <th>SERVICO_STREAMING</th>\n",
              "      <th>TENURE</th>\n",
              "      <th>QTD_CONTRATO</th>\n",
              "      <th>TEMPO_MESES_CONTRATO</th>\n",
              "      <th>VALOR_MEDIO_PLANO</th>\n",
              "      <th>TARGET</th>\n",
              "      <th>QTD_TOTAL_RECARGAS</th>\n",
              "      <th>VLR_TOTAL_RECARGAS</th>\n",
              "      <th>...</th>\n",
              "      <th>CNAE_910600</th>\n",
              "      <th>CNAE_9312300</th>\n",
              "      <th>CNAE_9412001</th>\n",
              "      <th>CNAE_9412099</th>\n",
              "      <th>CNAE_9420100</th>\n",
              "      <th>CNAE_9430800</th>\n",
              "      <th>CNAE_9491000</th>\n",
              "      <th>CNAE_9499500</th>\n",
              "      <th>CNAE_9511800</th>\n",
              "      <th>CNAE_9900800</th>\n",
              "    </tr>\n",
              "  </thead>\n",
              "  <tbody>\n",
              "    <tr>\n",
              "      <th>0</th>\n",
              "      <td>0</td>\n",
              "      <td>0</td>\n",
              "      <td>0</td>\n",
              "      <td>28</td>\n",
              "      <td>1</td>\n",
              "      <td>98</td>\n",
              "      <td>8268.7500</td>\n",
              "      <td>0</td>\n",
              "      <td>2003562</td>\n",
              "      <td>225217.225</td>\n",
              "      <td>...</td>\n",
              "      <td>0</td>\n",
              "      <td>0</td>\n",
              "      <td>0</td>\n",
              "      <td>0</td>\n",
              "      <td>0</td>\n",
              "      <td>0</td>\n",
              "      <td>0</td>\n",
              "      <td>0</td>\n",
              "      <td>0</td>\n",
              "      <td>0</td>\n",
              "    </tr>\n",
              "    <tr>\n",
              "      <th>1</th>\n",
              "      <td>0</td>\n",
              "      <td>0</td>\n",
              "      <td>0</td>\n",
              "      <td>28</td>\n",
              "      <td>1</td>\n",
              "      <td>72</td>\n",
              "      <td>2520.3875</td>\n",
              "      <td>0</td>\n",
              "      <td>154596</td>\n",
              "      <td>47556.300</td>\n",
              "      <td>...</td>\n",
              "      <td>0</td>\n",
              "      <td>0</td>\n",
              "      <td>0</td>\n",
              "      <td>0</td>\n",
              "      <td>0</td>\n",
              "      <td>0</td>\n",
              "      <td>0</td>\n",
              "      <td>0</td>\n",
              "      <td>0</td>\n",
              "      <td>0</td>\n",
              "    </tr>\n",
              "    <tr>\n",
              "      <th>2</th>\n",
              "      <td>0</td>\n",
              "      <td>0</td>\n",
              "      <td>0</td>\n",
              "      <td>28</td>\n",
              "      <td>1</td>\n",
              "      <td>86</td>\n",
              "      <td>1895.4125</td>\n",
              "      <td>0</td>\n",
              "      <td>118392</td>\n",
              "      <td>41309.525</td>\n",
              "      <td>...</td>\n",
              "      <td>0</td>\n",
              "      <td>0</td>\n",
              "      <td>0</td>\n",
              "      <td>0</td>\n",
              "      <td>0</td>\n",
              "      <td>0</td>\n",
              "      <td>0</td>\n",
              "      <td>0</td>\n",
              "      <td>0</td>\n",
              "      <td>0</td>\n",
              "    </tr>\n",
              "    <tr>\n",
              "      <th>3</th>\n",
              "      <td>0</td>\n",
              "      <td>0</td>\n",
              "      <td>0</td>\n",
              "      <td>28</td>\n",
              "      <td>1</td>\n",
              "      <td>218</td>\n",
              "      <td>412.5000</td>\n",
              "      <td>0</td>\n",
              "      <td>546614</td>\n",
              "      <td>148882.525</td>\n",
              "      <td>...</td>\n",
              "      <td>0</td>\n",
              "      <td>0</td>\n",
              "      <td>0</td>\n",
              "      <td>0</td>\n",
              "      <td>0</td>\n",
              "      <td>0</td>\n",
              "      <td>0</td>\n",
              "      <td>0</td>\n",
              "      <td>0</td>\n",
              "      <td>0</td>\n",
              "    </tr>\n",
              "    <tr>\n",
              "      <th>4</th>\n",
              "      <td>0</td>\n",
              "      <td>0</td>\n",
              "      <td>0</td>\n",
              "      <td>28</td>\n",
              "      <td>1</td>\n",
              "      <td>91</td>\n",
              "      <td>7361.2500</td>\n",
              "      <td>0</td>\n",
              "      <td>782058</td>\n",
              "      <td>230370.400</td>\n",
              "      <td>...</td>\n",
              "      <td>0</td>\n",
              "      <td>0</td>\n",
              "      <td>0</td>\n",
              "      <td>0</td>\n",
              "      <td>0</td>\n",
              "      <td>0</td>\n",
              "      <td>0</td>\n",
              "      <td>0</td>\n",
              "      <td>0</td>\n",
              "      <td>0</td>\n",
              "    </tr>\n",
              "  </tbody>\n",
              "</table>\n",
              "<p>5 rows × 528 columns</p>\n",
              "</div>\n",
              "      <button class=\"colab-df-convert\" onclick=\"convertToInteractive('df-ad53c3d2-61cb-44ba-93bf-fa30218ddd03')\"\n",
              "              title=\"Convert this dataframe to an interactive table.\"\n",
              "              style=\"display:none;\">\n",
              "        \n",
              "  <svg xmlns=\"http://www.w3.org/2000/svg\" height=\"24px\"viewBox=\"0 0 24 24\"\n",
              "       width=\"24px\">\n",
              "    <path d=\"M0 0h24v24H0V0z\" fill=\"none\"/>\n",
              "    <path d=\"M18.56 5.44l.94 2.06.94-2.06 2.06-.94-2.06-.94-.94-2.06-.94 2.06-2.06.94zm-11 1L8.5 8.5l.94-2.06 2.06-.94-2.06-.94L8.5 2.5l-.94 2.06-2.06.94zm10 10l.94 2.06.94-2.06 2.06-.94-2.06-.94-.94-2.06-.94 2.06-2.06.94z\"/><path d=\"M17.41 7.96l-1.37-1.37c-.4-.4-.92-.59-1.43-.59-.52 0-1.04.2-1.43.59L10.3 9.45l-7.72 7.72c-.78.78-.78 2.05 0 2.83L4 21.41c.39.39.9.59 1.41.59.51 0 1.02-.2 1.41-.59l7.78-7.78 2.81-2.81c.8-.78.8-2.07 0-2.86zM5.41 20L4 18.59l7.72-7.72 1.47 1.35L5.41 20z\"/>\n",
              "  </svg>\n",
              "      </button>\n",
              "      \n",
              "  <style>\n",
              "    .colab-df-container {\n",
              "      display:flex;\n",
              "      flex-wrap:wrap;\n",
              "      gap: 12px;\n",
              "    }\n",
              "\n",
              "    .colab-df-convert {\n",
              "      background-color: #E8F0FE;\n",
              "      border: none;\n",
              "      border-radius: 50%;\n",
              "      cursor: pointer;\n",
              "      display: none;\n",
              "      fill: #1967D2;\n",
              "      height: 32px;\n",
              "      padding: 0 0 0 0;\n",
              "      width: 32px;\n",
              "    }\n",
              "\n",
              "    .colab-df-convert:hover {\n",
              "      background-color: #E2EBFA;\n",
              "      box-shadow: 0px 1px 2px rgba(60, 64, 67, 0.3), 0px 1px 3px 1px rgba(60, 64, 67, 0.15);\n",
              "      fill: #174EA6;\n",
              "    }\n",
              "\n",
              "    [theme=dark] .colab-df-convert {\n",
              "      background-color: #3B4455;\n",
              "      fill: #D2E3FC;\n",
              "    }\n",
              "\n",
              "    [theme=dark] .colab-df-convert:hover {\n",
              "      background-color: #434B5C;\n",
              "      box-shadow: 0px 1px 3px 1px rgba(0, 0, 0, 0.15);\n",
              "      filter: drop-shadow(0px 1px 2px rgba(0, 0, 0, 0.3));\n",
              "      fill: #FFFFFF;\n",
              "    }\n",
              "  </style>\n",
              "\n",
              "      <script>\n",
              "        const buttonEl =\n",
              "          document.querySelector('#df-ad53c3d2-61cb-44ba-93bf-fa30218ddd03 button.colab-df-convert');\n",
              "        buttonEl.style.display =\n",
              "          google.colab.kernel.accessAllowed ? 'block' : 'none';\n",
              "\n",
              "        async function convertToInteractive(key) {\n",
              "          const element = document.querySelector('#df-ad53c3d2-61cb-44ba-93bf-fa30218ddd03');\n",
              "          const dataTable =\n",
              "            await google.colab.kernel.invokeFunction('convertToInteractive',\n",
              "                                                     [key], {});\n",
              "          if (!dataTable) return;\n",
              "\n",
              "          const docLinkHtml = 'Like what you see? Visit the ' +\n",
              "            '<a target=\"_blank\" href=https://colab.research.google.com/notebooks/data_table.ipynb>data table notebook</a>'\n",
              "            + ' to learn more about interactive tables.';\n",
              "          element.innerHTML = '';\n",
              "          dataTable['output_type'] = 'display_data';\n",
              "          await google.colab.output.renderOutput(dataTable, element);\n",
              "          const docLink = document.createElement('div');\n",
              "          docLink.innerHTML = docLinkHtml;\n",
              "          element.appendChild(docLink);\n",
              "        }\n",
              "      </script>\n",
              "    </div>\n",
              "  </div>\n",
              "  "
            ]
          },
          "metadata": {},
          "execution_count": 64
        }
      ]
    },
    {
      "cell_type": "markdown",
      "source": [
        "Nessa etapa iremos realizar uma padronizacao das variaveis que estao em escalas diferentes. Essa processo é extremamente importante para nao enviasar o modelo com ponderacao arbitraria."
      ],
      "metadata": {
        "id": "GkipvKO1NvLL"
      }
    },
    {
      "cell_type": "code",
      "source": [
        "#Padronizando as variaveis para uma escala padrao\n",
        "scaler = MinMaxScaler()\n",
        "df['TENURE'] = scaler.fit_transform(df['TENURE'].values.reshape(-1, 1)) \n",
        "df['TEMPO_MESES_CONTRATO'] = scaler.fit_transform(df['TEMPO_MESES_CONTRATO'].values.reshape(-1, 1))\n",
        "df['VALOR_MEDIO_PLANO'] = scaler.fit_transform(df['VALOR_MEDIO_PLANO'].values.reshape(-1, 1))\n",
        "df['QTD_TOTAL_RECARGAS'] = scaler.fit_transform(df['QTD_TOTAL_RECARGAS'].values.reshape(-1, 1))\n",
        "df['VLR_TOTAL_RECARGAS'] = scaler.fit_transform(df['VLR_TOTAL_RECARGAS'].values.reshape(-1, 1))\n",
        "df['TT_SUPORTE_MOTIVO_1'] = scaler.fit_transform(df['TT_SUPORTE_MOTIVO_1'].values.reshape(-1, 1))\n",
        "df['TT_SUPORTE_MOTIVO_2'] = scaler.fit_transform(df['TT_SUPORTE_MOTIVO_2'].values.reshape(-1, 1))\n",
        "df['TT_SUPORTE_MOTIVO_3'] = scaler.fit_transform(df['TT_SUPORTE_MOTIVO_3'].values.reshape(-1, 1))\n",
        "df['TT_SUPORTE_MOTIVO_4'] = scaler.fit_transform(df['TT_SUPORTE_MOTIVO_4'].values.reshape(-1, 1))\n",
        "df['TT_SUPORTE_MOTIVO_5'] = scaler.fit_transform(df['TT_SUPORTE_MOTIVO_5'].values.reshape(-1, 1))\n",
        "df['TT_SUPORTE_MOTIVO_6'] = scaler.fit_transform(df['TT_SUPORTE_MOTIVO_6'].values.reshape(-1, 1))\n",
        "df['TT_SUPORTE_MOTIVO_7'] = scaler.fit_transform(df['TT_SUPORTE_MOTIVO_7'].values.reshape(-1, 1))\n",
        "df['TT_SUPORTE_MOTIVO_8'] = scaler.fit_transform(df['TT_SUPORTE_MOTIVO_8'].values.reshape(-1, 1))\n",
        "df['TT_SUPORTE_MOTIVO_9'] = scaler.fit_transform(df['TT_SUPORTE_MOTIVO_9'].values.reshape(-1, 1))\n",
        "df['TT_SUPORTE_MOTIVO_10'] = scaler.fit_transform(df['TT_SUPORTE_MOTIVO_10'].values.reshape(-1, 1))\n",
        "df['TT_SUPORTE_MOTIVO_11'] = scaler.fit_transform(df['TT_SUPORTE_MOTIVO_11'].values.reshape(-1, 1))\n",
        "df['TT_SUPORTE_MOTIVO_12'] = scaler.fit_transform(df['TT_SUPORTE_MOTIVO_12'].values.reshape(-1, 1))\n",
        "df['TT_SUPORTE_MOTIVO_13'] = scaler.fit_transform(df['TT_SUPORTE_MOTIVO_13'].values.reshape(-1, 1))\n",
        "df['TT_SUPORTE_MOTIVO_14'] = scaler.fit_transform(df['TT_SUPORTE_MOTIVO_14'].values.reshape(-1, 1))\n",
        "df['TT_SUPORTE_MOTIVO_15'] = scaler.fit_transform(df['TT_SUPORTE_MOTIVO_15'].values.reshape(-1, 1))\n",
        "df['TT_SUPORTE_MOTIVO_16'] = scaler.fit_transform(df['TT_SUPORTE_MOTIVO_16'].values.reshape(-1, 1))\n",
        "df['TT_SUPORTE_MOTIVO_17'] = scaler.fit_transform(df['TT_SUPORTE_MOTIVO_17'].values.reshape(-1, 1))\n",
        "df['TT_SUPORTE_MOTIVO_18'] = scaler.fit_transform(df['TT_SUPORTE_MOTIVO_18'].values.reshape(-1, 1))\n",
        "df['TT_SUPORTE_MOTIVO_19'] = scaler.fit_transform(df['TT_SUPORTE_MOTIVO_19'].values.reshape(-1, 1))\n",
        "df['TT_SUPORTE_MOTIVO_20'] = scaler.fit_transform(df['TT_SUPORTE_MOTIVO_20'].values.reshape(-1, 1))\n",
        "df['TT_SUPORTE_MOTIVO_21'] = scaler.fit_transform(df['TT_SUPORTE_MOTIVO_21'].values.reshape(-1, 1))\n",
        "df['TT_SUPORTE_MOTIVO_22'] = scaler.fit_transform(df['TT_SUPORTE_MOTIVO_22'].values.reshape(-1, 1))\n",
        "df['TT_SUPORTE_MOTIVO_23'] = scaler.fit_transform(df['TT_SUPORTE_MOTIVO_23'].values.reshape(-1, 1))\n",
        "df['TT_SUPORTE_MOTIVO_24'] = scaler.fit_transform(df['TT_SUPORTE_MOTIVO_24'].values.reshape(-1, 1))\n",
        "df['TT_SUPORTE_MOTIVO_25'] = scaler.fit_transform(df['TT_SUPORTE_MOTIVO_25'].values.reshape(-1, 1))\n",
        "df.head()"
      ],
      "metadata": {
        "id": "qcCNdFfT3U-K",
        "colab": {
          "base_uri": "https://localhost:8080/",
          "height": 299
        },
        "outputId": "675a6d35-fd7b-46bf-e923-a2d0687d95a9"
      },
      "execution_count": 65,
      "outputs": [
        {
          "output_type": "execute_result",
          "data": {
            "text/plain": [
              "   SERVICO_TELEFONE  SERVICO_INTERNET  SERVICO_STREAMING    TENURE  \\\n",
              "0                 0                 0                  0  0.211864   \n",
              "1                 0                 0                  0  0.211864   \n",
              "2                 0                 0                  0  0.211864   \n",
              "3                 0                 0                  0  0.211864   \n",
              "4                 0                 0                  0  0.211864   \n",
              "\n",
              "   QTD_CONTRATO  TEMPO_MESES_CONTRATO  VALOR_MEDIO_PLANO  TARGET  \\\n",
              "0             1              0.256881           0.128299       0   \n",
              "1             1              0.177370           0.039107       0   \n",
              "2             1              0.220183           0.029410       0   \n",
              "3             1              0.623853           0.006400       0   \n",
              "4             1              0.235474           0.114218       0   \n",
              "\n",
              "   QTD_TOTAL_RECARGAS  VLR_TOTAL_RECARGAS  ...  CNAE_910600  CNAE_9312300  \\\n",
              "0            0.102688            0.248342  ...            0             0   \n",
              "1            0.007924            0.051397  ...            0             0   \n",
              "2            0.006068            0.044472  ...            0             0   \n",
              "3            0.028016            0.163722  ...            0             0   \n",
              "4            0.040083            0.254055  ...            0             0   \n",
              "\n",
              "   CNAE_9412001  CNAE_9412099  CNAE_9420100  CNAE_9430800  CNAE_9491000  \\\n",
              "0             0             0             0             0             0   \n",
              "1             0             0             0             0             0   \n",
              "2             0             0             0             0             0   \n",
              "3             0             0             0             0             0   \n",
              "4             0             0             0             0             0   \n",
              "\n",
              "   CNAE_9499500  CNAE_9511800  CNAE_9900800  \n",
              "0             0             0             0  \n",
              "1             0             0             0  \n",
              "2             0             0             0  \n",
              "3             0             0             0  \n",
              "4             0             0             0  \n",
              "\n",
              "[5 rows x 528 columns]"
            ],
            "text/html": [
              "\n",
              "  <div id=\"df-a5d9263c-a197-4c73-9cb6-3b7ff46cfad2\">\n",
              "    <div class=\"colab-df-container\">\n",
              "      <div>\n",
              "<style scoped>\n",
              "    .dataframe tbody tr th:only-of-type {\n",
              "        vertical-align: middle;\n",
              "    }\n",
              "\n",
              "    .dataframe tbody tr th {\n",
              "        vertical-align: top;\n",
              "    }\n",
              "\n",
              "    .dataframe thead th {\n",
              "        text-align: right;\n",
              "    }\n",
              "</style>\n",
              "<table border=\"1\" class=\"dataframe\">\n",
              "  <thead>\n",
              "    <tr style=\"text-align: right;\">\n",
              "      <th></th>\n",
              "      <th>SERVICO_TELEFONE</th>\n",
              "      <th>SERVICO_INTERNET</th>\n",
              "      <th>SERVICO_STREAMING</th>\n",
              "      <th>TENURE</th>\n",
              "      <th>QTD_CONTRATO</th>\n",
              "      <th>TEMPO_MESES_CONTRATO</th>\n",
              "      <th>VALOR_MEDIO_PLANO</th>\n",
              "      <th>TARGET</th>\n",
              "      <th>QTD_TOTAL_RECARGAS</th>\n",
              "      <th>VLR_TOTAL_RECARGAS</th>\n",
              "      <th>...</th>\n",
              "      <th>CNAE_910600</th>\n",
              "      <th>CNAE_9312300</th>\n",
              "      <th>CNAE_9412001</th>\n",
              "      <th>CNAE_9412099</th>\n",
              "      <th>CNAE_9420100</th>\n",
              "      <th>CNAE_9430800</th>\n",
              "      <th>CNAE_9491000</th>\n",
              "      <th>CNAE_9499500</th>\n",
              "      <th>CNAE_9511800</th>\n",
              "      <th>CNAE_9900800</th>\n",
              "    </tr>\n",
              "  </thead>\n",
              "  <tbody>\n",
              "    <tr>\n",
              "      <th>0</th>\n",
              "      <td>0</td>\n",
              "      <td>0</td>\n",
              "      <td>0</td>\n",
              "      <td>0.211864</td>\n",
              "      <td>1</td>\n",
              "      <td>0.256881</td>\n",
              "      <td>0.128299</td>\n",
              "      <td>0</td>\n",
              "      <td>0.102688</td>\n",
              "      <td>0.248342</td>\n",
              "      <td>...</td>\n",
              "      <td>0</td>\n",
              "      <td>0</td>\n",
              "      <td>0</td>\n",
              "      <td>0</td>\n",
              "      <td>0</td>\n",
              "      <td>0</td>\n",
              "      <td>0</td>\n",
              "      <td>0</td>\n",
              "      <td>0</td>\n",
              "      <td>0</td>\n",
              "    </tr>\n",
              "    <tr>\n",
              "      <th>1</th>\n",
              "      <td>0</td>\n",
              "      <td>0</td>\n",
              "      <td>0</td>\n",
              "      <td>0.211864</td>\n",
              "      <td>1</td>\n",
              "      <td>0.177370</td>\n",
              "      <td>0.039107</td>\n",
              "      <td>0</td>\n",
              "      <td>0.007924</td>\n",
              "      <td>0.051397</td>\n",
              "      <td>...</td>\n",
              "      <td>0</td>\n",
              "      <td>0</td>\n",
              "      <td>0</td>\n",
              "      <td>0</td>\n",
              "      <td>0</td>\n",
              "      <td>0</td>\n",
              "      <td>0</td>\n",
              "      <td>0</td>\n",
              "      <td>0</td>\n",
              "      <td>0</td>\n",
              "    </tr>\n",
              "    <tr>\n",
              "      <th>2</th>\n",
              "      <td>0</td>\n",
              "      <td>0</td>\n",
              "      <td>0</td>\n",
              "      <td>0.211864</td>\n",
              "      <td>1</td>\n",
              "      <td>0.220183</td>\n",
              "      <td>0.029410</td>\n",
              "      <td>0</td>\n",
              "      <td>0.006068</td>\n",
              "      <td>0.044472</td>\n",
              "      <td>...</td>\n",
              "      <td>0</td>\n",
              "      <td>0</td>\n",
              "      <td>0</td>\n",
              "      <td>0</td>\n",
              "      <td>0</td>\n",
              "      <td>0</td>\n",
              "      <td>0</td>\n",
              "      <td>0</td>\n",
              "      <td>0</td>\n",
              "      <td>0</td>\n",
              "    </tr>\n",
              "    <tr>\n",
              "      <th>3</th>\n",
              "      <td>0</td>\n",
              "      <td>0</td>\n",
              "      <td>0</td>\n",
              "      <td>0.211864</td>\n",
              "      <td>1</td>\n",
              "      <td>0.623853</td>\n",
              "      <td>0.006400</td>\n",
              "      <td>0</td>\n",
              "      <td>0.028016</td>\n",
              "      <td>0.163722</td>\n",
              "      <td>...</td>\n",
              "      <td>0</td>\n",
              "      <td>0</td>\n",
              "      <td>0</td>\n",
              "      <td>0</td>\n",
              "      <td>0</td>\n",
              "      <td>0</td>\n",
              "      <td>0</td>\n",
              "      <td>0</td>\n",
              "      <td>0</td>\n",
              "      <td>0</td>\n",
              "    </tr>\n",
              "    <tr>\n",
              "      <th>4</th>\n",
              "      <td>0</td>\n",
              "      <td>0</td>\n",
              "      <td>0</td>\n",
              "      <td>0.211864</td>\n",
              "      <td>1</td>\n",
              "      <td>0.235474</td>\n",
              "      <td>0.114218</td>\n",
              "      <td>0</td>\n",
              "      <td>0.040083</td>\n",
              "      <td>0.254055</td>\n",
              "      <td>...</td>\n",
              "      <td>0</td>\n",
              "      <td>0</td>\n",
              "      <td>0</td>\n",
              "      <td>0</td>\n",
              "      <td>0</td>\n",
              "      <td>0</td>\n",
              "      <td>0</td>\n",
              "      <td>0</td>\n",
              "      <td>0</td>\n",
              "      <td>0</td>\n",
              "    </tr>\n",
              "  </tbody>\n",
              "</table>\n",
              "<p>5 rows × 528 columns</p>\n",
              "</div>\n",
              "      <button class=\"colab-df-convert\" onclick=\"convertToInteractive('df-a5d9263c-a197-4c73-9cb6-3b7ff46cfad2')\"\n",
              "              title=\"Convert this dataframe to an interactive table.\"\n",
              "              style=\"display:none;\">\n",
              "        \n",
              "  <svg xmlns=\"http://www.w3.org/2000/svg\" height=\"24px\"viewBox=\"0 0 24 24\"\n",
              "       width=\"24px\">\n",
              "    <path d=\"M0 0h24v24H0V0z\" fill=\"none\"/>\n",
              "    <path d=\"M18.56 5.44l.94 2.06.94-2.06 2.06-.94-2.06-.94-.94-2.06-.94 2.06-2.06.94zm-11 1L8.5 8.5l.94-2.06 2.06-.94-2.06-.94L8.5 2.5l-.94 2.06-2.06.94zm10 10l.94 2.06.94-2.06 2.06-.94-2.06-.94-.94-2.06-.94 2.06-2.06.94z\"/><path d=\"M17.41 7.96l-1.37-1.37c-.4-.4-.92-.59-1.43-.59-.52 0-1.04.2-1.43.59L10.3 9.45l-7.72 7.72c-.78.78-.78 2.05 0 2.83L4 21.41c.39.39.9.59 1.41.59.51 0 1.02-.2 1.41-.59l7.78-7.78 2.81-2.81c.8-.78.8-2.07 0-2.86zM5.41 20L4 18.59l7.72-7.72 1.47 1.35L5.41 20z\"/>\n",
              "  </svg>\n",
              "      </button>\n",
              "      \n",
              "  <style>\n",
              "    .colab-df-container {\n",
              "      display:flex;\n",
              "      flex-wrap:wrap;\n",
              "      gap: 12px;\n",
              "    }\n",
              "\n",
              "    .colab-df-convert {\n",
              "      background-color: #E8F0FE;\n",
              "      border: none;\n",
              "      border-radius: 50%;\n",
              "      cursor: pointer;\n",
              "      display: none;\n",
              "      fill: #1967D2;\n",
              "      height: 32px;\n",
              "      padding: 0 0 0 0;\n",
              "      width: 32px;\n",
              "    }\n",
              "\n",
              "    .colab-df-convert:hover {\n",
              "      background-color: #E2EBFA;\n",
              "      box-shadow: 0px 1px 2px rgba(60, 64, 67, 0.3), 0px 1px 3px 1px rgba(60, 64, 67, 0.15);\n",
              "      fill: #174EA6;\n",
              "    }\n",
              "\n",
              "    [theme=dark] .colab-df-convert {\n",
              "      background-color: #3B4455;\n",
              "      fill: #D2E3FC;\n",
              "    }\n",
              "\n",
              "    [theme=dark] .colab-df-convert:hover {\n",
              "      background-color: #434B5C;\n",
              "      box-shadow: 0px 1px 3px 1px rgba(0, 0, 0, 0.15);\n",
              "      filter: drop-shadow(0px 1px 2px rgba(0, 0, 0, 0.3));\n",
              "      fill: #FFFFFF;\n",
              "    }\n",
              "  </style>\n",
              "\n",
              "      <script>\n",
              "        const buttonEl =\n",
              "          document.querySelector('#df-a5d9263c-a197-4c73-9cb6-3b7ff46cfad2 button.colab-df-convert');\n",
              "        buttonEl.style.display =\n",
              "          google.colab.kernel.accessAllowed ? 'block' : 'none';\n",
              "\n",
              "        async function convertToInteractive(key) {\n",
              "          const element = document.querySelector('#df-a5d9263c-a197-4c73-9cb6-3b7ff46cfad2');\n",
              "          const dataTable =\n",
              "            await google.colab.kernel.invokeFunction('convertToInteractive',\n",
              "                                                     [key], {});\n",
              "          if (!dataTable) return;\n",
              "\n",
              "          const docLinkHtml = 'Like what you see? Visit the ' +\n",
              "            '<a target=\"_blank\" href=https://colab.research.google.com/notebooks/data_table.ipynb>data table notebook</a>'\n",
              "            + ' to learn more about interactive tables.';\n",
              "          element.innerHTML = '';\n",
              "          dataTable['output_type'] = 'display_data';\n",
              "          await google.colab.output.renderOutput(dataTable, element);\n",
              "          const docLink = document.createElement('div');\n",
              "          docLink.innerHTML = docLinkHtml;\n",
              "          element.appendChild(docLink);\n",
              "        }\n",
              "      </script>\n",
              "    </div>\n",
              "  </div>\n",
              "  "
            ]
          },
          "metadata": {},
          "execution_count": 65
        }
      ]
    },
    {
      "cell_type": "markdown",
      "source": [
        "#### **Processo de Hold-Out**"
      ],
      "metadata": {
        "id": "nhS3hvDYnp-S"
      }
    },
    {
      "cell_type": "code",
      "source": [
        "#Separando Bases de Treino/Teste\n",
        "x = df.drop(['TARGET'], axis = 1)\n",
        "y = df['TARGET']\n",
        "\n",
        "x_train, x_test, y_train, y_test = train_test_split(x, y, stratify = y, shuffle = True)"
      ],
      "metadata": {
        "id": "SFJANC1i72ij"
      },
      "execution_count": 95,
      "outputs": []
    },
    {
      "cell_type": "markdown",
      "source": [
        "#### **Balanceamento da variavel 'TARGET'**"
      ],
      "metadata": {
        "id": "CjPDV7BK9Trk"
      }
    },
    {
      "cell_type": "markdown",
      "source": [
        "Escolhermos balancear o modelo atraves do metodo de **Over-Sampling**, pois a quantidade de registros total da base é pequena. Dessa forma o metodo aumentara os registros da classe minoritária 'Churn' de forma a igual com a classe majoritária 'Nao Churn'.\n",
        "\n",
        "Vale destacar que esse metodo pode gerar overffiting, pois replicando sos dos dados da classe minoritaria ha tendencia que o modelo passe a detectar apenas um padrão estatico. \n",
        "\n",
        "Porem entedemos que essa é a tecnica mais adequada para a ocasiao, considerando que nao temos como obter mais registros."
      ],
      "metadata": {
        "id": "HkOcb56BDl7w"
      }
    },
    {
      "cell_type": "code",
      "source": [
        "#Aplicando a tecnica de Over-Sampling (SMOTE)\n",
        "smt = SMOTE()\n",
        "x, y = smt.fit_resample(x_train, y_train)"
      ],
      "metadata": {
        "id": "kz8wdgVgrppx"
      },
      "execution_count": 96,
      "outputs": []
    },
    {
      "cell_type": "code",
      "source": [
        "#Verificando o novo balanceamento\n",
        "print(pd.Series(y).value_counts())"
      ],
      "metadata": {
        "colab": {
          "base_uri": "https://localhost:8080/"
        },
        "id": "NKTFSBMT2wQk",
        "outputId": "758a1aeb-7773-46a8-c4ef-7865f9a637cc"
      },
      "execution_count": 97,
      "outputs": [
        {
          "output_type": "stream",
          "name": "stdout",
          "text": [
            "0    1246\n",
            "1    1246\n",
            "Name: TARGET, dtype: int64\n"
          ]
        }
      ]
    },
    {
      "cell_type": "markdown",
      "source": [
        "#### **Modelagem Preditiva pelo Metodo de Regressao Logistica**"
      ],
      "metadata": {
        "id": "Q5nZewmayePK"
      }
    },
    {
      "cell_type": "code",
      "source": [
        "#Definindo o Modelo de Regressão Logistica\n",
        "model = LogisticRegression()\n",
        "model.fit(x, y)"
      ],
      "metadata": {
        "colab": {
          "base_uri": "https://localhost:8080/"
        },
        "id": "3y8L4BsZ9ZBf",
        "outputId": "41e1cfb4-bcf1-4e91-8655-9e8d9d83350f"
      },
      "execution_count": 98,
      "outputs": [
        {
          "output_type": "execute_result",
          "data": {
            "text/plain": [
              "LogisticRegression()"
            ]
          },
          "metadata": {},
          "execution_count": 98
        }
      ]
    },
    {
      "cell_type": "code",
      "source": [
        "#Aplicando o Modelo na base de teste\n",
        "y_pred = model.predict(x_test)\n",
        "y_proba = model.predict_proba(x_test)"
      ],
      "metadata": {
        "id": "s_2nSJQc3JSX"
      },
      "execution_count": 99,
      "outputs": []
    },
    {
      "cell_type": "code",
      "source": [
        "#Imprimindo os Resultados do Modelo\n",
        "#Relatório de classificação\n",
        "print(\"Relatório de Classificação:\\n\", classification_report(y_test, y_pred, digits = 4))\n",
        "#Acuracidade\n",
        "print(\"Acurácia: {:.4f}\\n\".format(accuracy_score(y_test, y_pred)))\n",
        "#AUC\n",
        "print(\"AUC: {:.4f}\\n\".format(roc_auc_score(y_test, y_pred)))"
      ],
      "metadata": {
        "colab": {
          "base_uri": "https://localhost:8080/"
        },
        "id": "Dzw6DUeA4ppM",
        "outputId": "ecac5f6e-633b-4257-b0e6-56c7e4933430"
      },
      "execution_count": 100,
      "outputs": [
        {
          "output_type": "stream",
          "name": "stdout",
          "text": [
            "Relatório de Classificação:\n",
            "               precision    recall  f1-score   support\n",
            "\n",
            "           0     0.9465    0.8077    0.8716       416\n",
            "           1     0.1919    0.5000    0.2774        38\n",
            "\n",
            "    accuracy                         0.7819       454\n",
            "   macro avg     0.5692    0.6538    0.5745       454\n",
            "weighted avg     0.8833    0.7819    0.8219       454\n",
            "\n",
            "Acurácia: 0.7819\n",
            "\n",
            "AUC: 0.6538\n",
            "\n"
          ]
        }
      ]
    },
    {
      "cell_type": "code",
      "source": [
        "#Imprimindo o valor do AUC\n",
        "print('ROC AUC: %.2f' % (roc_auc_score(y_test, y_pred)*100), '%')\n",
        "#Plotando Curva AUC\n",
        "y_probs = model.predict_proba(x_test)[:,1]\n",
        "fpr, tpr, thresholds = roc_curve(y_test, y_probs)\n",
        "plt.plot(fpr, tpr, lw = 2, color ='blue')\n",
        "plt.plot([0,1], [0,1], lw = 2, color ='black')\n",
        "plt.xlabel('Falso Positivo')\n",
        "plt.ylabel('Verdadeiro Positive')"
      ],
      "metadata": {
        "colab": {
          "base_uri": "https://localhost:8080/",
          "height": 415
        },
        "id": "Edwn5pWfMzrW",
        "outputId": "858a50ee-ccb1-454b-ee25-9953fcc8da4b"
      },
      "execution_count": 101,
      "outputs": [
        {
          "output_type": "stream",
          "name": "stdout",
          "text": [
            "ROC AUC: 65.38 %\n"
          ]
        },
        {
          "output_type": "execute_result",
          "data": {
            "text/plain": [
              "Text(0, 0.5, 'Verdadeiro Positive')"
            ]
          },
          "metadata": {},
          "execution_count": 101
        },
        {
          "output_type": "display_data",
          "data": {
            "text/plain": [
              "<Figure size 600x400 with 1 Axes>"
            ],
            "image/png": "[encoded data removed]"
          },
          "metadata": {}
        }
      ]
    },
    {
      "cell_type": "markdown",
      "source": [
        "#### **Modelagem Preditiva pelo Metodo de Gradiente Bossting**"
      ],
      "metadata": {
        "id": "7uKvHPXEnXkK"
      }
    },
    {
      "cell_type": "code",
      "source": [
        "#Definindo o Modelo de Gradiente Boosting\n",
        "model = GradientBoostingClassifier(learning_rate = 0.1, \n",
        "                                    max_depth = 2, \n",
        "                                    n_estimators = 200, \n",
        "                                    max_features = 8, \n",
        "                                    random_state = 42)\n",
        "model.fit(x, y)"
      ],
      "metadata": {
        "colab": {
          "base_uri": "https://localhost:8080/"
        },
        "id": "UatWSWfVnusW",
        "outputId": "fdbcf85b-27c2-42f9-8e00-c585183ee894"
      },
      "execution_count": 119,
      "outputs": [
        {
          "output_type": "execute_result",
          "data": {
            "text/plain": [
              "GradientBoostingClassifier(max_depth=2, max_features=8, n_estimators=200,\n",
              "                           random_state=42)"
            ]
          },
          "metadata": {},
          "execution_count": 119
        }
      ]
    },
    {
      "cell_type": "code",
      "source": [
        "#Aplicando o Modelo na base de teste\n",
        "y_pred = model.predict(x_test)\n",
        "y_proba = model.predict_proba(x_test)"
      ],
      "metadata": {
        "id": "dshUWLoOoqoh"
      },
      "execution_count": 120,
      "outputs": []
    },
    {
      "cell_type": "code",
      "source": [
        "#Imprimindo os Resultados do Modelo\n",
        "#Relatório de classificação\n",
        "print(\"Relatório de Classificação:\\n\", classification_report(y_test, y_pred, digits = 4))\n",
        "#Acuracidade\n",
        "print(\"Acurácia: {:.4f}\\n\".format(accuracy_score(y_test, y_pred)))\n",
        "#AUC\n",
        "print(\"AUC: {:.4f}\\n\".format(roc_auc_score(y_test, y_pred)))"
      ],
      "metadata": {
        "colab": {
          "base_uri": "https://localhost:8080/"
        },
        "id": "zZjP76MHF4AA",
        "outputId": "4859914b-9e1f-4e35-f90c-8e28874105a3"
      },
      "execution_count": 121,
      "outputs": [
        {
          "output_type": "stream",
          "name": "stdout",
          "text": [
            "Relatório de Classificação:\n",
            "               precision    recall  f1-score   support\n",
            "\n",
            "           0     0.9841    0.7428    0.8466       416\n",
            "           1     0.2357    0.8684    0.3708        38\n",
            "\n",
            "    accuracy                         0.7533       454\n",
            "   macro avg     0.6099    0.8056    0.6087       454\n",
            "weighted avg     0.9214    0.7533    0.8068       454\n",
            "\n",
            "Acurácia: 0.7533\n",
            "\n",
            "AUC: 0.8056\n",
            "\n"
          ]
        }
      ]
    },
    {
      "cell_type": "code",
      "source": [
        "#Imprimindo o valor do AUC\n",
        "print('ROC AUC: %.2f' % (roc_auc_score(y_test, y_pred)*100), '%')\n",
        "#Plotando Curva AUC\n",
        "y_probs = model.predict_proba(x_test)[:,1]\n",
        "fpr, tpr, thresholds = roc_curve(y_test, y_probs)\n",
        "plt.plot(fpr, tpr, lw = 2, color ='#B0297E')\n",
        "plt.plot([0,1], [0,1], lw = 2, color ='black')\n",
        "plt.xlabel('Falso Positivo')\n",
        "plt.ylabel('Verdadeiro Positive')"
      ],
      "metadata": {
        "colab": {
          "base_uri": "https://localhost:8080/",
          "height": 415
        },
        "id": "W8MegfVpo9q5",
        "outputId": "b7ad2018-7825-44f6-c92f-eeda62a5ea9b"
      },
      "execution_count": 123,
      "outputs": [
        {
          "output_type": "stream",
          "name": "stdout",
          "text": [
            "ROC AUC: 80.56 %\n"
          ]
        },
        {
          "output_type": "execute_result",
          "data": {
            "text/plain": [
              "Text(0, 0.5, 'Verdadeiro Positive')"
            ]
          },
          "metadata": {},
          "execution_count": 123
        },
        {
          "output_type": "display_data",
          "data": {
            "text/plain": [
              "<Figure size 600x400 with 1 Axes>"
            ],
            "image/png": "[encoded data removed]"
          },
          "metadata": {}
        }
      ]
    },
    {
      "cell_type": "markdown",
      "source": [
        "#### **Analisando as Variaveis mais Explicativas para o Churn**"
      ],
      "metadata": {
        "id": "1DPb9rRIrRvg"
      }
    },
    {
      "cell_type": "code",
      "source": [
        "#Selecionando as variaveis mais explicativas para o Churn em ordem crescente\n",
        "feature_importances = pd.DataFrame(model.feature_importances_,\n",
        "                                   index = x.columns,\n",
        "                                   columns = ['Importance']).sort_values('Importance', ascending = False) "
      ],
      "metadata": {
        "id": "ugNmPa5Bt15l"
      },
      "execution_count": 110,
      "outputs": []
    },
    {
      "cell_type": "code",
      "source": [
        "#Selecionando as top 10\n",
        "top_feature = feature_importances.head(10)"
      ],
      "metadata": {
        "id": "vAEiaa0m7N1K"
      },
      "execution_count": 111,
      "outputs": []
    },
    {
      "cell_type": "code",
      "source": [
        "#Visualizando as top 10\n",
        "top_feature"
      ],
      "metadata": {
        "colab": {
          "base_uri": "https://localhost:8080/",
          "height": 363
        },
        "id": "o_Gpci5zIJhW",
        "outputId": "1f77da10-68fa-4b59-e2c3-2a0964c376f1"
      },
      "execution_count": 112,
      "outputs": [
        {
          "output_type": "execute_result",
          "data": {
            "text/plain": [
              "                      Importance\n",
              "TT_SUPORTE_MOTIVO_22    0.086603\n",
              "TT_SUPORTE_MOTIVO_18    0.069112\n",
              "TT_SUPORTE_MOTIVO_20    0.061828\n",
              "TT_SUPORTE_MOTIVO_23    0.057049\n",
              "TT_SUPORTE_MOTIVO_11    0.056039\n",
              "VALOR_MEDIO_PLANO       0.049007\n",
              "TT_SUPORTE_MOTIVO_1     0.043604\n",
              "TEMPO_MESES_CONTRATO    0.039810\n",
              "TT_SUPORTE_MOTIVO_19    0.039509\n",
              "QTD_TOTAL_RECARGAS      0.030482"
            ],
            "text/html": [
              "\n",
              "  <div id=\"df-32bcf2a8-ba9e-4acb-bf0e-b2dbd45accef\">\n",
              "    <div class=\"colab-df-container\">\n",
              "      <div>\n",
              "<style scoped>\n",
              "    .dataframe tbody tr th:only-of-type {\n",
              "        vertical-align: middle;\n",
              "    }\n",
              "\n",
              "    .dataframe tbody tr th {\n",
              "        vertical-align: top;\n",
              "    }\n",
              "\n",
              "    .dataframe thead th {\n",
              "        text-align: right;\n",
              "    }\n",
              "</style>\n",
              "<table border=\"1\" class=\"dataframe\">\n",
              "  <thead>\n",
              "    <tr style=\"text-align: right;\">\n",
              "      <th></th>\n",
              "      <th>Importance</th>\n",
              "    </tr>\n",
              "  </thead>\n",
              "  <tbody>\n",
              "    <tr>\n",
              "      <th>TT_SUPORTE_MOTIVO_22</th>\n",
              "      <td>0.086603</td>\n",
              "    </tr>\n",
              "    <tr>\n",
              "      <th>TT_SUPORTE_MOTIVO_18</th>\n",
              "      <td>0.069112</td>\n",
              "    </tr>\n",
              "    <tr>\n",
              "      <th>TT_SUPORTE_MOTIVO_20</th>\n",
              "      <td>0.061828</td>\n",
              "    </tr>\n",
              "    <tr>\n",
              "      <th>TT_SUPORTE_MOTIVO_23</th>\n",
              "      <td>0.057049</td>\n",
              "    </tr>\n",
              "    <tr>\n",
              "      <th>TT_SUPORTE_MOTIVO_11</th>\n",
              "      <td>0.056039</td>\n",
              "    </tr>\n",
              "    <tr>\n",
              "      <th>VALOR_MEDIO_PLANO</th>\n",
              "      <td>0.049007</td>\n",
              "    </tr>\n",
              "    <tr>\n",
              "      <th>TT_SUPORTE_MOTIVO_1</th>\n",
              "      <td>0.043604</td>\n",
              "    </tr>\n",
              "    <tr>\n",
              "      <th>TEMPO_MESES_CONTRATO</th>\n",
              "      <td>0.039810</td>\n",
              "    </tr>\n",
              "    <tr>\n",
              "      <th>TT_SUPORTE_MOTIVO_19</th>\n",
              "      <td>0.039509</td>\n",
              "    </tr>\n",
              "    <tr>\n",
              "      <th>QTD_TOTAL_RECARGAS</th>\n",
              "      <td>0.030482</td>\n",
              "    </tr>\n",
              "  </tbody>\n",
              "</table>\n",
              "</div>\n",
              "      <button class=\"colab-df-convert\" onclick=\"convertToInteractive('df-32bcf2a8-ba9e-4acb-bf0e-b2dbd45accef')\"\n",
              "              title=\"Convert this dataframe to an interactive table.\"\n",
              "              style=\"display:none;\">\n",
              "        \n",
              "  <svg xmlns=\"http://www.w3.org/2000/svg\" height=\"24px\"viewBox=\"0 0 24 24\"\n",
              "       width=\"24px\">\n",
              "    <path d=\"M0 0h24v24H0V0z\" fill=\"none\"/>\n",
              "    <path d=\"M18.56 5.44l.94 2.06.94-2.06 2.06-.94-2.06-.94-.94-2.06-.94 2.06-2.06.94zm-11 1L8.5 8.5l.94-2.06 2.06-.94-2.06-.94L8.5 2.5l-.94 2.06-2.06.94zm10 10l.94 2.06.94-2.06 2.06-.94-2.06-.94-.94-2.06-.94 2.06-2.06.94z\"/><path d=\"M17.41 7.96l-1.37-1.37c-.4-.4-.92-.59-1.43-.59-.52 0-1.04.2-1.43.59L10.3 9.45l-7.72 7.72c-.78.78-.78 2.05 0 2.83L4 21.41c.39.39.9.59 1.41.59.51 0 1.02-.2 1.41-.59l7.78-7.78 2.81-2.81c.8-.78.8-2.07 0-2.86zM5.41 20L4 18.59l7.72-7.72 1.47 1.35L5.41 20z\"/>\n",
              "  </svg>\n",
              "      </button>\n",
              "      \n",
              "  <style>\n",
              "    .colab-df-container {\n",
              "      display:flex;\n",
              "      flex-wrap:wrap;\n",
              "      gap: 12px;\n",
              "    }\n",
              "\n",
              "    .colab-df-convert {\n",
              "      background-color: #E8F0FE;\n",
              "      border: none;\n",
              "      border-radius: 50%;\n",
              "      cursor: pointer;\n",
              "      display: none;\n",
              "      fill: #1967D2;\n",
              "      height: 32px;\n",
              "      padding: 0 0 0 0;\n",
              "      width: 32px;\n",
              "    }\n",
              "\n",
              "    .colab-df-convert:hover {\n",
              "      background-color: #E2EBFA;\n",
              "      box-shadow: 0px 1px 2px rgba(60, 64, 67, 0.3), 0px 1px 3px 1px rgba(60, 64, 67, 0.15);\n",
              "      fill: #174EA6;\n",
              "    }\n",
              "\n",
              "    [theme=dark] .colab-df-convert {\n",
              "      background-color: #3B4455;\n",
              "      fill: #D2E3FC;\n",
              "    }\n",
              "\n",
              "    [theme=dark] .colab-df-convert:hover {\n",
              "      background-color: #434B5C;\n",
              "      box-shadow: 0px 1px 3px 1px rgba(0, 0, 0, 0.15);\n",
              "      filter: drop-shadow(0px 1px 2px rgba(0, 0, 0, 0.3));\n",
              "      fill: #FFFFFF;\n",
              "    }\n",
              "  </style>\n",
              "\n",
              "      <script>\n",
              "        const buttonEl =\n",
              "          document.querySelector('#df-32bcf2a8-ba9e-4acb-bf0e-b2dbd45accef button.colab-df-convert');\n",
              "        buttonEl.style.display =\n",
              "          google.colab.kernel.accessAllowed ? 'block' : 'none';\n",
              "\n",
              "        async function convertToInteractive(key) {\n",
              "          const element = document.querySelector('#df-32bcf2a8-ba9e-4acb-bf0e-b2dbd45accef');\n",
              "          const dataTable =\n",
              "            await google.colab.kernel.invokeFunction('convertToInteractive',\n",
              "                                                     [key], {});\n",
              "          if (!dataTable) return;\n",
              "\n",
              "          const docLinkHtml = 'Like what you see? Visit the ' +\n",
              "            '<a target=\"_blank\" href=https://colab.research.google.com/notebooks/data_table.ipynb>data table notebook</a>'\n",
              "            + ' to learn more about interactive tables.';\n",
              "          element.innerHTML = '';\n",
              "          dataTable['output_type'] = 'display_data';\n",
              "          await google.colab.output.renderOutput(dataTable, element);\n",
              "          const docLink = document.createElement('div');\n",
              "          docLink.innerHTML = docLinkHtml;\n",
              "          element.appendChild(docLink);\n",
              "        }\n",
              "      </script>\n",
              "    </div>\n",
              "  </div>\n",
              "  "
            ]
          },
          "metadata": {},
          "execution_count": 112
        }
      ]
    },
    {
      "cell_type": "code",
      "source": [
        "#Plotando as top 10\n",
        "top_feature.plot(kind = 'barh', color = '#B0297E')"
      ],
      "metadata": {
        "colab": {
          "base_uri": "https://localhost:8080/",
          "height": 376
        },
        "id": "B4kUGH9A7Ul3",
        "outputId": "fc141059-fa0f-405e-818d-2035aa86856a"
      },
      "execution_count": 114,
      "outputs": [
        {
          "output_type": "execute_result",
          "data": {
            "text/plain": [
              "<matplotlib.axes._subplots.AxesSubplot at 0x7f80212a9510>"
            ]
          },
          "metadata": {},
          "execution_count": 114
        },
        {
          "output_type": "display_data",
          "data": {
            "text/plain": [
              "<Figure size 600x400 with 1 Axes>"
            ],
            "image/png": "[encoded data removed]"
          },
          "metadata": {}
        }
      ]
    }
  ]
}